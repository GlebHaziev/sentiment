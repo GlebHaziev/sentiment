{
 "cells": [
  {
   "cell_type": "code",
   "execution_count": 1,
   "id": "511577d1",
   "metadata": {},
   "outputs": [
    {
     "name": "stderr",
     "output_type": "stream",
     "text": [
      "C:\\Users\\glebhaziev\\AppData\\Local\\anaconda3\\Lib\\site-packages\\pandas\\core\\arrays\\masked.py:60: UserWarning: Pandas requires version '1.3.6' or newer of 'bottleneck' (version '1.3.5' currently installed).\n",
      "  from pandas.core import (\n"
     ]
    }
   ],
   "source": [
    "import pandas as pd\n",
    "import numpy as np\n",
    "import matplotlib.pyplot as plt\n",
    "import seaborn as sns\n",
    "import sklearn\n",
    "\n",
    "from sklearn.impute import SimpleImputer\n",
    "from sklearn.pipeline import Pipeline\n",
    "from sklearn.compose import ColumnTransformer\n",
    "from sklearn.base import BaseEstimator, TransformerMixin\n",
    "from sklearn.model_selection import train_test_split, StratifiedKFold\n",
    "from category_encoders import CatBoostEncoder\n",
    "from sklearn.metrics import accuracy_score, recall_score, precision_score, f1_score, roc_auc_score\n",
    "\n",
    "\n",
    "from catboost import CatBoostClassifier\n",
    "from sklearn.ensemble import RandomForestClassifier\n",
    "from sklearn.metrics import roc_auc_score, r2_score\n",
    "from sklearn.utils import shuffle\n",
    "\n",
    "from copy import deepcopy\n",
    "\n",
    "from tqdm import tqdm, notebook\n",
    "from joblib import Parallel, delayed\n",
    "from collections import ChainMap"
   ]
  },
  {
   "cell_type": "code",
   "execution_count": 2,
   "id": "c1d985dc",
   "metadata": {},
   "outputs": [
    {
     "name": "stdout",
     "output_type": "stream",
     "text": [
      "(8731, 29)\n"
     ]
    },
    {
     "data": {
      "text/html": [
       "<div>\n",
       "<style scoped>\n",
       "    .dataframe tbody tr th:only-of-type {\n",
       "        vertical-align: middle;\n",
       "    }\n",
       "\n",
       "    .dataframe tbody tr th {\n",
       "        vertical-align: top;\n",
       "    }\n",
       "\n",
       "    .dataframe thead th {\n",
       "        text-align: right;\n",
       "    }\n",
       "</style>\n",
       "<table border=\"1\" class=\"dataframe\">\n",
       "  <thead>\n",
       "    <tr style=\"text-align: right;\">\n",
       "      <th></th>\n",
       "      <th>TICKER</th>\n",
       "      <th>Отрасль</th>\n",
       "      <th>котировальныйсписок</th>\n",
       "      <th>уровеньликвидности</th>\n",
       "      <th>TIME</th>\n",
       "      <th>High-LowClose</th>\n",
       "      <th>PriceChangeDay</th>\n",
       "      <th>PriceChangePreviousDay</th>\n",
       "      <th>VOL</th>\n",
       "      <th>VOLChange</th>\n",
       "      <th>...</th>\n",
       "      <th>сигнал4</th>\n",
       "      <th>Повышенияцензакрытия</th>\n",
       "      <th>Среднееповышение7</th>\n",
       "      <th>Пониженияцензакрытия</th>\n",
       "      <th>Среднеепонижение7</th>\n",
       "      <th>RS</th>\n",
       "      <th>RSI</th>\n",
       "      <th>сигнал5</th>\n",
       "      <th>value_message</th>\n",
       "      <th>Manipulation</th>\n",
       "    </tr>\n",
       "  </thead>\n",
       "  <tbody>\n",
       "    <tr>\n",
       "      <th>0</th>\n",
       "      <td>ABRD</td>\n",
       "      <td>Производство продуктов и напитков</td>\n",
       "      <td>Третий уровень</td>\n",
       "      <td>Средний</td>\n",
       "      <td>2023-05-05</td>\n",
       "      <td>0.036</td>\n",
       "      <td>-0.0138</td>\n",
       "      <td>0.0000</td>\n",
       "      <td>178130</td>\n",
       "      <td>0.0000</td>\n",
       "      <td>...</td>\n",
       "      <td>нетсигнала</td>\n",
       "      <td>0.0</td>\n",
       "      <td>0.0</td>\n",
       "      <td>0.0</td>\n",
       "      <td>0.0</td>\n",
       "      <td>0.0</td>\n",
       "      <td>0.0</td>\n",
       "      <td>нетсигнала</td>\n",
       "      <td>0.016000</td>\n",
       "      <td>0</td>\n",
       "    </tr>\n",
       "    <tr>\n",
       "      <th>1</th>\n",
       "      <td>ABRD</td>\n",
       "      <td>Производство продуктов и напитков</td>\n",
       "      <td>Третий уровень</td>\n",
       "      <td>Средний</td>\n",
       "      <td>2023-05-08</td>\n",
       "      <td>0.022</td>\n",
       "      <td>-0.0140</td>\n",
       "      <td>-0.0120</td>\n",
       "      <td>30900</td>\n",
       "      <td>-0.8265</td>\n",
       "      <td>...</td>\n",
       "      <td>нетсигнала</td>\n",
       "      <td>0.0</td>\n",
       "      <td>0.0</td>\n",
       "      <td>3.0</td>\n",
       "      <td>0.0</td>\n",
       "      <td>0.0</td>\n",
       "      <td>0.0</td>\n",
       "      <td>нетсигнала</td>\n",
       "      <td>0.000000</td>\n",
       "      <td>0</td>\n",
       "    </tr>\n",
       "    <tr>\n",
       "      <th>2</th>\n",
       "      <td>ABRD</td>\n",
       "      <td>Производство продуктов и напитков</td>\n",
       "      <td>Третий уровень</td>\n",
       "      <td>Средний</td>\n",
       "      <td>2023-05-10</td>\n",
       "      <td>0.039</td>\n",
       "      <td>0.0343</td>\n",
       "      <td>0.0385</td>\n",
       "      <td>178110</td>\n",
       "      <td>4.7641</td>\n",
       "      <td>...</td>\n",
       "      <td>нетсигнала</td>\n",
       "      <td>9.5</td>\n",
       "      <td>0.0</td>\n",
       "      <td>0.0</td>\n",
       "      <td>0.0</td>\n",
       "      <td>0.0</td>\n",
       "      <td>0.0</td>\n",
       "      <td>нетсигнала</td>\n",
       "      <td>199.291081</td>\n",
       "      <td>0</td>\n",
       "    </tr>\n",
       "    <tr>\n",
       "      <th>3</th>\n",
       "      <td>ABRD</td>\n",
       "      <td>Производство продуктов и напитков</td>\n",
       "      <td>Третий уровень</td>\n",
       "      <td>Средний</td>\n",
       "      <td>2023-05-11</td>\n",
       "      <td>0.029</td>\n",
       "      <td>0.0058</td>\n",
       "      <td>0.0195</td>\n",
       "      <td>333730</td>\n",
       "      <td>0.8737</td>\n",
       "      <td>...</td>\n",
       "      <td>нетсигнала</td>\n",
       "      <td>5.0</td>\n",
       "      <td>0.0</td>\n",
       "      <td>0.0</td>\n",
       "      <td>0.0</td>\n",
       "      <td>0.0</td>\n",
       "      <td>0.0</td>\n",
       "      <td>нетсигнала</td>\n",
       "      <td>0.076000</td>\n",
       "      <td>0</td>\n",
       "    </tr>\n",
       "    <tr>\n",
       "      <th>4</th>\n",
       "      <td>ABRD</td>\n",
       "      <td>Производство продуктов и напитков</td>\n",
       "      <td>Третий уровень</td>\n",
       "      <td>Средний</td>\n",
       "      <td>2023-05-12</td>\n",
       "      <td>0.039</td>\n",
       "      <td>-0.0095</td>\n",
       "      <td>-0.0076</td>\n",
       "      <td>222710</td>\n",
       "      <td>-0.3327</td>\n",
       "      <td>...</td>\n",
       "      <td>нетсигнала</td>\n",
       "      <td>0.0</td>\n",
       "      <td>0.0</td>\n",
       "      <td>2.0</td>\n",
       "      <td>0.0</td>\n",
       "      <td>0.0</td>\n",
       "      <td>0.0</td>\n",
       "      <td>нетсигнала</td>\n",
       "      <td>145.746016</td>\n",
       "      <td>1</td>\n",
       "    </tr>\n",
       "  </tbody>\n",
       "</table>\n",
       "<p>5 rows × 29 columns</p>\n",
       "</div>"
      ],
      "text/plain": [
       "  TICKER                            Отрасль котировальныйсписок  \\\n",
       "0   ABRD  Производство продуктов и напитков      Третий уровень   \n",
       "1   ABRD  Производство продуктов и напитков      Третий уровень   \n",
       "2   ABRD  Производство продуктов и напитков      Третий уровень   \n",
       "3   ABRD  Производство продуктов и напитков      Третий уровень   \n",
       "4   ABRD  Производство продуктов и напитков      Третий уровень   \n",
       "\n",
       "  уровеньликвидности       TIME  High-LowClose  PriceChangeDay  \\\n",
       "0            Средний 2023-05-05          0.036         -0.0138   \n",
       "1            Средний 2023-05-08          0.022         -0.0140   \n",
       "2            Средний 2023-05-10          0.039          0.0343   \n",
       "3            Средний 2023-05-11          0.029          0.0058   \n",
       "4            Средний 2023-05-12          0.039         -0.0095   \n",
       "\n",
       "   PriceChangePreviousDay     VOL  VOLChange  ...     сигнал4  \\\n",
       "0                  0.0000  178130     0.0000  ...  нетсигнала   \n",
       "1                 -0.0120   30900    -0.8265  ...  нетсигнала   \n",
       "2                  0.0385  178110     4.7641  ...  нетсигнала   \n",
       "3                  0.0195  333730     0.8737  ...  нетсигнала   \n",
       "4                 -0.0076  222710    -0.3327  ...  нетсигнала   \n",
       "\n",
       "   Повышенияцензакрытия Среднееповышение7  Пониженияцензакрытия  \\\n",
       "0                   0.0               0.0                   0.0   \n",
       "1                   0.0               0.0                   3.0   \n",
       "2                   9.5               0.0                   0.0   \n",
       "3                   5.0               0.0                   0.0   \n",
       "4                   0.0               0.0                   2.0   \n",
       "\n",
       "   Среднеепонижение7   RS  RSI     сигнал5  value_message Manipulation  \n",
       "0                0.0  0.0  0.0  нетсигнала       0.016000            0  \n",
       "1                0.0  0.0  0.0  нетсигнала       0.000000            0  \n",
       "2                0.0  0.0  0.0  нетсигнала     199.291081            0  \n",
       "3                0.0  0.0  0.0  нетсигнала       0.076000            0  \n",
       "4                0.0  0.0  0.0  нетсигнала     145.746016            1  \n",
       "\n",
       "[5 rows x 29 columns]"
      ]
     },
     "execution_count": 2,
     "metadata": {},
     "output_type": "execute_result"
    }
   ],
   "source": [
    "data = pd.read_excel('./train.xlsx')\n",
    "print(data.shape)\n",
    "data.head()"
   ]
  },
  {
   "cell_type": "code",
   "execution_count": 3,
   "id": "22771722",
   "metadata": {},
   "outputs": [],
   "source": [
    "# Для вашего удобства списки с именами разных колонок\n",
    "\n",
    "# Числовые признаки\n",
    "num_cols = [\n",
    "    'High-LowClose','PriceChangeDay','PriceChangePreviousDay','VOL', 'VOLChange', 'EMA12', 'EMA26','БыстраяMACD', 'СигнальнаяMACD(9)-быстраяMACD',\n",
    "    'Stohastic','Momentum','Повышенияцензакрытия','Среднееповышение7','Пониженияцензакрытия','Среднеепонижение7','RS','RSI','value_message'\n",
    "]\n",
    "\n",
    "# Категориальные признаки\n",
    "cat_cols = [\n",
    "    'TICKER','Отрасль','котировальныйсписок','уровеньликвидности','сигнал1','сигнал2','сигнал3','сигнал4','сигнал5'\n",
    "]\n",
    "\n",
    "feature_cols = num_cols + cat_cols\n",
    "target_col = 'Manipulation'"
   ]
  },
  {
   "cell_type": "code",
   "execution_count": 4,
   "id": "85de4f4c",
   "metadata": {},
   "outputs": [
    {
     "data": {
      "text/plain": [
       "TICKER                 object\n",
       "Отрасль                object\n",
       "котировальныйсписок    object\n",
       "уровеньликвидности     object\n",
       "сигнал1                object\n",
       "сигнал2                object\n",
       "сигнал3                object\n",
       "сигнал4                object\n",
       "сигнал5                object\n",
       "dtype: object"
      ]
     },
     "execution_count": 4,
     "metadata": {},
     "output_type": "execute_result"
    }
   ],
   "source": [
    "data[cat_cols].dtypes"
   ]
  },
  {
   "cell_type": "code",
   "execution_count": 5,
   "id": "263f49a0",
   "metadata": {},
   "outputs": [
    {
     "name": "stdout",
     "output_type": "stream",
     "text": [
      "(6548, 29) (2183, 29)\n"
     ]
    }
   ],
   "source": [
    "train, valid = train_test_split(data, test_size=0.25, random_state=42)\n",
    "train, valid = train.reset_index(drop=True), valid.reset_index(drop=True)\n",
    "\n",
    "print(train.shape, valid.shape)"
   ]
  },
  {
   "cell_type": "code",
   "execution_count": 6,
   "id": "8c8bffeb",
   "metadata": {},
   "outputs": [],
   "source": [
    "class SentColumns(BaseEstimator, TransformerMixin):\n",
    "    \n",
    "    def __init__(self, columns: list=None) -> None:\n",
    "        self.columns = columns\n",
    "    \n",
    "    def fit(self, X:pd.DataFrame=None, y:pd.DataFrame=None):\n",
    "        return self\n",
    "\n",
    "    def transform(self, X:pd.DataFrame=None)->pd.DataFrame:\n",
    "        df_x = pd.DataFrame(X)\n",
    "        df_x.columns = self.columns\n",
    "        return df_x\n",
    "    \n",
    "def base_pipe(num_columns:list=None, cat_columns:list=None, fill_value:float=-1e24)->object:\n",
    "\n",
    "    # создаем конвейер для количественных переменных\n",
    "    num_pipe = Pipeline([\n",
    "        ('imputer', SimpleImputer(strategy='constant', fill_value = fill_value))\n",
    "    ])\n",
    "\n",
    "    # создаем конвейер для категориальных переменных\n",
    "    cat_pipe = Pipeline([\n",
    "        ('catenc', CatBoostEncoder(cols=cat_columns))\n",
    "    ])\n",
    "\n",
    "    transformers = [('num', num_pipe, num_columns),\n",
    "                    ('cat', cat_pipe, cat_columns)]\n",
    "\n",
    "    # передаем список трансформеров в ColumnTransformer\n",
    "    transformer = ColumnTransformer(transformers=transformers)\n",
    "\n",
    "    # задаем итоговый конвейер\n",
    "    prep_pipe = Pipeline([\n",
    "        ('transform', transformer),\n",
    "        ('sent_columns', SentColumns(columns=num_columns+cat_columns))\n",
    "    ])  \n",
    "\n",
    "    return prep_pipe"
   ]
  },
  {
   "cell_type": "code",
   "execution_count": 7,
   "id": "58287f2d",
   "metadata": {},
   "outputs": [],
   "source": [
    "## Корреляционный анализ\n",
    "\n",
    "def _get_f_metric(df):     \n",
    "\n",
    "    try:    \n",
    "        return (2*roc_auc_score(df.iloc[:,0],df.iloc[:,1])-1)*100\n",
    "\n",
    "    except:\n",
    "        return 0 \n",
    "\n",
    "def _get_features_metric(df:pd.DataFrame):      \n",
    "\n",
    "    return {f: _get_f_metric(df[[df.columns[0],f]]) for f in list(df.columns[1:])}\n",
    "\n",
    "def corr_analysis(df:pd.DataFrame,\n",
    "                  target:str,\n",
    "                  method:str='spearman', \n",
    "                  threshold: float=0.8, \n",
    "                  drop_with_most_correlations: bool=True):\n",
    "\n",
    "    df_train = deepcopy(df)\n",
    "\n",
    "    features = list(df_train.drop(columns=target).columns)\n",
    "\n",
    "    samples = {name: sample for name, sample in {'metric': df_train}.items() if not sample.empty} if df_train is not None else None\n",
    "\n",
    "    metrics = {name: _get_features_metric(df_train[[target] + [f for f in features if f in df_train.columns]]) for name, df_train in samples.items()}\n",
    "\n",
    "    metric_res = pd.DataFrame(metrics).round(4).abs().sort_values('metric', ascending=False)\n",
    "\n",
    "    correlations = df_train[features].corr(method=method).abs()\n",
    "    to_check_correlation=True\n",
    "    features_to_drop = {}\n",
    "\n",
    "\n",
    "    while to_check_correlation:\n",
    "        to_check_correlation=False\n",
    "        corr_number = {}\n",
    "        significantly_correlated = {}\n",
    "\n",
    "        for var in correlations:\n",
    "            var_corr = correlations[var]\n",
    "            var_corr = var_corr[(var_corr.index != var) & (var_corr > threshold)].sort_values(ascending=False).copy()\n",
    "            corr_number[var] = var_corr.shape[0]\n",
    "            significantly_correlated[var] = str(var_corr.index.tolist())\n",
    "\n",
    "        if drop_with_most_correlations:\n",
    "            with_correlation = {x: metric_res['metric'][x] for x in corr_number\n",
    "                                if corr_number[x] == max([corr_number[x] for x in corr_number])\n",
    "                                and corr_number[x] > 0}\n",
    "        else:\n",
    "            with_correlation = {x: metric_res['metric'][x] for x in corr_number if corr_number[x] > 0}\n",
    "\n",
    "        if len(with_correlation)>0:\n",
    "            feature_to_drop = min(with_correlation, key=with_correlation.get)\n",
    "            features_to_drop[feature_to_drop] = significantly_correlated[feature_to_drop]\n",
    "            correlations = correlations.drop(feature_to_drop, axis=1).drop(feature_to_drop, axis=0).copy()\n",
    "\n",
    "            to_check_correlation = True\n",
    "\n",
    "        feat_after_corr = list(set(features) - set(features_to_drop))\n",
    "\n",
    "    corr_df = pd.DataFrame(features_to_drop.values(), features_to_drop.keys()).rename(columns={0: f'Корреляция более {threshold*100}%'})\n",
    "    print(f'Количество факторов после корреляционного анализа: {len(feat_after_corr)}')\n",
    "    display(corr_df)\n",
    "    return feat_after_corr"
   ]
  },
  {
   "cell_type": "code",
   "execution_count": 8,
   "id": "49b71ee0",
   "metadata": {},
   "outputs": [
    {
     "name": "stdout",
     "output_type": "stream",
     "text": [
      "Количество факторов после корреляционного анализа: 22\n"
     ]
    },
    {
     "data": {
      "text/html": [
       "<div>\n",
       "<style scoped>\n",
       "    .dataframe tbody tr th:only-of-type {\n",
       "        vertical-align: middle;\n",
       "    }\n",
       "\n",
       "    .dataframe tbody tr th {\n",
       "        vertical-align: top;\n",
       "    }\n",
       "\n",
       "    .dataframe thead th {\n",
       "        text-align: right;\n",
       "    }\n",
       "</style>\n",
       "<table border=\"1\" class=\"dataframe\">\n",
       "  <thead>\n",
       "    <tr style=\"text-align: right;\">\n",
       "      <th></th>\n",
       "      <th>Корреляция более 90.0%</th>\n",
       "    </tr>\n",
       "  </thead>\n",
       "  <tbody>\n",
       "    <tr>\n",
       "      <th>RS</th>\n",
       "      <td>['RSI', 'Momentum']</td>\n",
       "    </tr>\n",
       "    <tr>\n",
       "      <th>СигнальнаяMACD(9)-быстраяMACD</th>\n",
       "      <td>['БыстраяMACD']</td>\n",
       "    </tr>\n",
       "    <tr>\n",
       "      <th>EMA26</th>\n",
       "      <td>['EMA12']</td>\n",
       "    </tr>\n",
       "    <tr>\n",
       "      <th>Среднеепонижение7</th>\n",
       "      <td>['Среднееповышение7']</td>\n",
       "    </tr>\n",
       "    <tr>\n",
       "      <th>RSI</th>\n",
       "      <td>['Momentum']</td>\n",
       "    </tr>\n",
       "  </tbody>\n",
       "</table>\n",
       "</div>"
      ],
      "text/plain": [
       "                              Корреляция более 90.0%\n",
       "RS                               ['RSI', 'Momentum']\n",
       "СигнальнаяMACD(9)-быстраяMACD        ['БыстраяMACD']\n",
       "EMA26                                      ['EMA12']\n",
       "Среднеепонижение7              ['Среднееповышение7']\n",
       "RSI                                     ['Momentum']"
      ]
     },
     "metadata": {},
     "output_type": "display_data"
    }
   ],
   "source": [
    "data_prepared = base_pipe(num_columns=num_cols,cat_columns=cat_cols).fit_transform(train,train[target_col])\n",
    "data_prepared[target_col] = train[target_col]\n",
    "\n",
    "feats_after_corr= corr_analysis(df=data_prepared,target=target_col,method='spearman',threshold=0.9,drop_with_most_correlations=True)"
   ]
  },
  {
   "cell_type": "code",
   "execution_count": 9,
   "id": "fe628e04",
   "metadata": {},
   "outputs": [],
   "source": [
    "def depth_analysis(df:pd.DataFrame=None,\n",
    "                   target:str=None,\n",
    "                   features:list=None,\n",
    "                   max_depth:int=5):\n",
    "\n",
    "    df_train = deepcopy(df)\n",
    "    print(df_train.shape)\n",
    "\n",
    "    max_depth_grid = list(range(1,max_depth+1))\n",
    "    fi = list()\n",
    "\n",
    "    rank_df = pd.DataFrame(features,columns=['index']).set_index(['index'])\n",
    "\n",
    "    for max_depth in notebook.tqdm(max_depth_grid):\n",
    "\n",
    "        fi_feat = []\n",
    "        params = {'iterations':1500,\n",
    "                  'loss_function':'Logloss',\n",
    "                  'thread_count':-1,\n",
    "                  'random_state':42,\n",
    "                  'verbose':0\n",
    "                 }\n",
    "        \n",
    "        params['depth'] = max_depth\n",
    "\n",
    "        model = CatBoostClassifier(**params)\n",
    "        model.fit(df_train[features], df_train[target])\n",
    "\n",
    "        fi.append(model.get_feature_importance())\n",
    "        fi_feat.append(model.get_feature_importance())\n",
    "\n",
    "        rank = pd.DataFrame(np.array(fi_feat).T,\n",
    "                          columns=['importance'],\n",
    "                          index=features).sort_values('importance', ascending=True)\n",
    "\n",
    "    fi = pd.DataFrame(np.array(fi).T,\n",
    "              columns=['importance_depth_' + str(idx) for idx in range(1,len(fi)+1)],\n",
    "              index=features)\n",
    "\n",
    "    # вычисляем усредненные важности и добавляем столбец с ними\n",
    "    fi['mean_importance'] = fi.mean(axis=1)\n",
    "    \n",
    "    deth_features_importance = fi[fi.mean_importance>0].index.tolist()\n",
    "    fi = fi.sort_values('mean_importance',ascending=False)\n",
    "\n",
    "    print(f'Количество признаков после mean importance относительно глубины: {len(deth_features_importance)}')\n",
    "    display(fi)\n",
    "    return deth_features_importance"
   ]
  },
  {
   "cell_type": "code",
   "execution_count": 10,
   "id": "bd129e34",
   "metadata": {},
   "outputs": [
    {
     "name": "stdout",
     "output_type": "stream",
     "text": [
      "(6548, 28)\n"
     ]
    },
    {
     "data": {
      "application/vnd.jupyter.widget-view+json": {
       "model_id": "95de16a6bd334f4fb58354575f801546",
       "version_major": 2,
       "version_minor": 0
      },
      "text/plain": [
       "  0%|          | 0/3 [00:00<?, ?it/s]"
      ]
     },
     "metadata": {},
     "output_type": "display_data"
    },
    {
     "name": "stdout",
     "output_type": "stream",
     "text": [
      "Количество признаков после mean importance относительно глубины: 22\n"
     ]
    },
    {
     "data": {
      "text/html": [
       "<div>\n",
       "<style scoped>\n",
       "    .dataframe tbody tr th:only-of-type {\n",
       "        vertical-align: middle;\n",
       "    }\n",
       "\n",
       "    .dataframe tbody tr th {\n",
       "        vertical-align: top;\n",
       "    }\n",
       "\n",
       "    .dataframe thead th {\n",
       "        text-align: right;\n",
       "    }\n",
       "</style>\n",
       "<table border=\"1\" class=\"dataframe\">\n",
       "  <thead>\n",
       "    <tr style=\"text-align: right;\">\n",
       "      <th></th>\n",
       "      <th>importance_depth_1</th>\n",
       "      <th>importance_depth_2</th>\n",
       "      <th>importance_depth_3</th>\n",
       "      <th>mean_importance</th>\n",
       "    </tr>\n",
       "  </thead>\n",
       "  <tbody>\n",
       "    <tr>\n",
       "      <th>Momentum</th>\n",
       "      <td>36.835580</td>\n",
       "      <td>20.826236</td>\n",
       "      <td>17.685115</td>\n",
       "      <td>25.115644</td>\n",
       "    </tr>\n",
       "    <tr>\n",
       "      <th>Stohastic</th>\n",
       "      <td>13.488840</td>\n",
       "      <td>21.636306</td>\n",
       "      <td>19.046119</td>\n",
       "      <td>18.057088</td>\n",
       "    </tr>\n",
       "    <tr>\n",
       "      <th>Среднееповышение7</th>\n",
       "      <td>15.816032</td>\n",
       "      <td>13.140132</td>\n",
       "      <td>11.391543</td>\n",
       "      <td>13.449236</td>\n",
       "    </tr>\n",
       "    <tr>\n",
       "      <th>value_message</th>\n",
       "      <td>18.778077</td>\n",
       "      <td>9.791752</td>\n",
       "      <td>8.685491</td>\n",
       "      <td>12.418440</td>\n",
       "    </tr>\n",
       "    <tr>\n",
       "      <th>VOLChange</th>\n",
       "      <td>1.537519</td>\n",
       "      <td>13.184211</td>\n",
       "      <td>9.444997</td>\n",
       "      <td>8.055576</td>\n",
       "    </tr>\n",
       "    <tr>\n",
       "      <th>БыстраяMACD</th>\n",
       "      <td>2.569678</td>\n",
       "      <td>6.636293</td>\n",
       "      <td>8.709887</td>\n",
       "      <td>5.971953</td>\n",
       "    </tr>\n",
       "    <tr>\n",
       "      <th>PriceChangePreviousDay</th>\n",
       "      <td>1.903154</td>\n",
       "      <td>1.665744</td>\n",
       "      <td>2.117330</td>\n",
       "      <td>1.895409</td>\n",
       "    </tr>\n",
       "    <tr>\n",
       "      <th>EMA12</th>\n",
       "      <td>1.355119</td>\n",
       "      <td>1.220472</td>\n",
       "      <td>2.732094</td>\n",
       "      <td>1.769228</td>\n",
       "    </tr>\n",
       "    <tr>\n",
       "      <th>VOL</th>\n",
       "      <td>0.562051</td>\n",
       "      <td>1.302594</td>\n",
       "      <td>2.601749</td>\n",
       "      <td>1.488798</td>\n",
       "    </tr>\n",
       "    <tr>\n",
       "      <th>High-LowClose</th>\n",
       "      <td>1.566967</td>\n",
       "      <td>1.192421</td>\n",
       "      <td>1.680424</td>\n",
       "      <td>1.479937</td>\n",
       "    </tr>\n",
       "    <tr>\n",
       "      <th>TICKER</th>\n",
       "      <td>0.805381</td>\n",
       "      <td>1.072875</td>\n",
       "      <td>1.972539</td>\n",
       "      <td>1.283599</td>\n",
       "    </tr>\n",
       "    <tr>\n",
       "      <th>сигнал3</th>\n",
       "      <td>0.402579</td>\n",
       "      <td>1.168010</td>\n",
       "      <td>1.918114</td>\n",
       "      <td>1.162901</td>\n",
       "    </tr>\n",
       "    <tr>\n",
       "      <th>уровеньликвидности</th>\n",
       "      <td>0.400165</td>\n",
       "      <td>0.979688</td>\n",
       "      <td>1.834292</td>\n",
       "      <td>1.071381</td>\n",
       "    </tr>\n",
       "    <tr>\n",
       "      <th>сигнал1</th>\n",
       "      <td>0.901127</td>\n",
       "      <td>0.890785</td>\n",
       "      <td>1.293310</td>\n",
       "      <td>1.028407</td>\n",
       "    </tr>\n",
       "    <tr>\n",
       "      <th>сигнал5</th>\n",
       "      <td>0.592820</td>\n",
       "      <td>0.913201</td>\n",
       "      <td>1.392276</td>\n",
       "      <td>0.966099</td>\n",
       "    </tr>\n",
       "    <tr>\n",
       "      <th>Повышенияцензакрытия</th>\n",
       "      <td>0.454630</td>\n",
       "      <td>1.005070</td>\n",
       "      <td>1.367462</td>\n",
       "      <td>0.942387</td>\n",
       "    </tr>\n",
       "    <tr>\n",
       "      <th>сигнал4</th>\n",
       "      <td>0.638217</td>\n",
       "      <td>0.758500</td>\n",
       "      <td>1.359687</td>\n",
       "      <td>0.918801</td>\n",
       "    </tr>\n",
       "    <tr>\n",
       "      <th>Отрасль</th>\n",
       "      <td>0.631123</td>\n",
       "      <td>0.627461</td>\n",
       "      <td>0.983841</td>\n",
       "      <td>0.747475</td>\n",
       "    </tr>\n",
       "    <tr>\n",
       "      <th>Пониженияцензакрытия</th>\n",
       "      <td>0.477153</td>\n",
       "      <td>0.670966</td>\n",
       "      <td>0.932397</td>\n",
       "      <td>0.693505</td>\n",
       "    </tr>\n",
       "    <tr>\n",
       "      <th>PriceChangeDay</th>\n",
       "      <td>0.283788</td>\n",
       "      <td>0.587168</td>\n",
       "      <td>1.040487</td>\n",
       "      <td>0.637148</td>\n",
       "    </tr>\n",
       "    <tr>\n",
       "      <th>котировальныйсписок</th>\n",
       "      <td>0.000000</td>\n",
       "      <td>0.412519</td>\n",
       "      <td>1.049543</td>\n",
       "      <td>0.487354</td>\n",
       "    </tr>\n",
       "    <tr>\n",
       "      <th>сигнал2</th>\n",
       "      <td>0.000000</td>\n",
       "      <td>0.317594</td>\n",
       "      <td>0.761301</td>\n",
       "      <td>0.359632</td>\n",
       "    </tr>\n",
       "  </tbody>\n",
       "</table>\n",
       "</div>"
      ],
      "text/plain": [
       "                        importance_depth_1  importance_depth_2  \\\n",
       "Momentum                         36.835580           20.826236   \n",
       "Stohastic                        13.488840           21.636306   \n",
       "Среднееповышение7                15.816032           13.140132   \n",
       "value_message                    18.778077            9.791752   \n",
       "VOLChange                         1.537519           13.184211   \n",
       "БыстраяMACD                       2.569678            6.636293   \n",
       "PriceChangePreviousDay            1.903154            1.665744   \n",
       "EMA12                             1.355119            1.220472   \n",
       "VOL                               0.562051            1.302594   \n",
       "High-LowClose                     1.566967            1.192421   \n",
       "TICKER                            0.805381            1.072875   \n",
       "сигнал3                           0.402579            1.168010   \n",
       "уровеньликвидности                0.400165            0.979688   \n",
       "сигнал1                           0.901127            0.890785   \n",
       "сигнал5                           0.592820            0.913201   \n",
       "Повышенияцензакрытия              0.454630            1.005070   \n",
       "сигнал4                           0.638217            0.758500   \n",
       "Отрасль                           0.631123            0.627461   \n",
       "Пониженияцензакрытия              0.477153            0.670966   \n",
       "PriceChangeDay                    0.283788            0.587168   \n",
       "котировальныйсписок               0.000000            0.412519   \n",
       "сигнал2                           0.000000            0.317594   \n",
       "\n",
       "                        importance_depth_3  mean_importance  \n",
       "Momentum                         17.685115        25.115644  \n",
       "Stohastic                        19.046119        18.057088  \n",
       "Среднееповышение7                11.391543        13.449236  \n",
       "value_message                     8.685491        12.418440  \n",
       "VOLChange                         9.444997         8.055576  \n",
       "БыстраяMACD                       8.709887         5.971953  \n",
       "PriceChangePreviousDay            2.117330         1.895409  \n",
       "EMA12                             2.732094         1.769228  \n",
       "VOL                               2.601749         1.488798  \n",
       "High-LowClose                     1.680424         1.479937  \n",
       "TICKER                            1.972539         1.283599  \n",
       "сигнал3                           1.918114         1.162901  \n",
       "уровеньликвидности                1.834292         1.071381  \n",
       "сигнал1                           1.293310         1.028407  \n",
       "сигнал5                           1.392276         0.966099  \n",
       "Повышенияцензакрытия              1.367462         0.942387  \n",
       "сигнал4                           1.359687         0.918801  \n",
       "Отрасль                           0.983841         0.747475  \n",
       "Пониженияцензакрытия              0.932397         0.693505  \n",
       "PriceChangeDay                    1.040487         0.637148  \n",
       "котировальныйсписок               1.049543         0.487354  \n",
       "сигнал2                           0.761301         0.359632  "
      ]
     },
     "metadata": {},
     "output_type": "display_data"
    }
   ],
   "source": [
    "feats_after_depth = depth_analysis(df=data_prepared,\n",
    "                                  target=target_col,\n",
    "                                  features=feats_after_corr,\n",
    "                                  max_depth=3)"
   ]
  },
  {
   "cell_type": "code",
   "execution_count": 11,
   "id": "a408eed1",
   "metadata": {},
   "outputs": [],
   "source": [
    "del data_prepared"
   ]
  },
  {
   "cell_type": "code",
   "execution_count": 12,
   "id": "a257698c",
   "metadata": {},
   "outputs": [],
   "source": [
    "def _preprocessing(X_tr: pd.DataFrame=None, \n",
    "                   y_tr: pd.DataFrame=None, \n",
    "                   X_te: pd.DataFrame = None,\n",
    "                   num_columns: list=None, \n",
    "                   cat_columns: list=None):\n",
    "\n",
    "    X_tr.reset_index(drop=True,inplace=True)\n",
    "    y_tr.reset_index(drop=True,inplace=True)\n",
    "\n",
    "    prep_pipe = base_pipe(num_columns=num_columns,\n",
    "                          cat_columns=cat_columns)\n",
    "\n",
    "    prep_pipe.fit(X_tr, y_tr)\n",
    "\n",
    "    X_tr = prep_pipe.transform(X_tr)\n",
    "\n",
    "    if X_te is None:\n",
    "        return X_tr\n",
    "    else:\n",
    "\n",
    "        X_te.reset_index(drop=True,inplace=True)\n",
    "        X_te = prep_pipe.transform(X_te)\n",
    "\n",
    "        return X_tr, X_te\n",
    "\n",
    "def _permute(col, \n",
    "             model: object, \n",
    "             X: pd.DataFrame, \n",
    "             y: pd.DataFrame, \n",
    "             n_iter: int, \n",
    "             metric=None, \n",
    "             higher_is_better: bool=True, \n",
    "             random_state: int=None):\n",
    "\n",
    "    d = {col: []}      \n",
    "    base_score = metric(y, model.predict_proba(X)[:, 1])\n",
    "\n",
    "    for _ in range(n_iter):\n",
    "        X[col] = shuffle(X[col].values, random_state=random_state)\n",
    "        temp_prediction = model.predict_proba(X)[:, 1]\n",
    "        score = metric(y.values, temp_prediction)\n",
    "\n",
    "        if higher_is_better:\n",
    "            d[col].append(base_score-score)\n",
    "        else:\n",
    "            d[col].append(base_score+score)\n",
    "\n",
    "    return d\n",
    "\n",
    "def _custom_permute(model: object, \n",
    "                    X: pd.DataFrame, \n",
    "                    y: pd.DataFrame,\n",
    "                    metric=None, \n",
    "                    n_iter: int=5, \n",
    "                    n_jobs: int=-1, \n",
    "                    higher_is_better: bool=True, \n",
    "                    random_state: int=None):  \n",
    "\n",
    "\n",
    "    result = Parallel(n_jobs=n_jobs,max_nbytes='50M')(delayed(_permute)(col, model, X, y, \n",
    "                                                      n_iter, metric, higher_is_better, random_state) for col in tqdm(X.columns.tolist()))\n",
    "\n",
    "\n",
    "    dict_imp = dict(ChainMap(*result))\n",
    "\n",
    "    for i in dict_imp.keys(): dict_imp[i] = np.mean(dict_imp[i])\n",
    "\n",
    "    return dict_imp\n",
    "\n",
    "    \n",
    "def permutation_analysis(df:pd.DataFrame,\n",
    "                         num_columns:list=None,\n",
    "                         cat_columns:list=None,\n",
    "                         target:str=None,\n",
    "                         test_size:float=0.3,\n",
    "                         n_iter_permute:int=5, \n",
    "                         n_jobs: int=-1, \n",
    "                         metric=None, \n",
    "                         higher_is_better: bool=True):\n",
    "\n",
    "    features = num_columns+cat_columns\n",
    "    df_train = deepcopy(df).reset_index(drop=True)\n",
    "    nans_share = df_train[num_columns+cat_columns].isna().mean().values.mean()\n",
    "    df_train_perm, df_test_perm = train_test_split(df_train,test_size=test_size,random_state=42)\n",
    "\n",
    "    print(f'Размер обучающего подмножества для Permutation importance: {df_train_perm.shape} ; Среднее значение таргета: {df_train_perm[target].mean()}')\n",
    "    print()\n",
    "    print(f'Размер тестового подмножества для Permutation importance: {df_test_perm.shape} ; Среднее значение таргета: {df_test_perm[target].mean()}')  \n",
    "    print('==================================================')\n",
    "\n",
    "    params = {'iterations':1500,\n",
    "              'loss_function':'Logloss',\n",
    "              'thread_count':-1,\n",
    "              'random_state':42,\n",
    "              'verbose':0\n",
    "             }\n",
    "    model = CatBoostClassifier(**params)\n",
    "\n",
    "    X_train, X_test = _preprocessing(X_tr = df_train_perm, \n",
    "                                     y_tr = df_train_perm[target],\n",
    "                                     X_te = df_test_perm,\n",
    "                                     num_columns=num_columns, \n",
    "                                     cat_columns=cat_columns)\n",
    "    \n",
    "    X_train['random_feature'] = np.random.default_rng(42).normal(size=len(X_train))\n",
    "    X_test['random_feature'] = np.random.default_rng(42).normal(size=len(X_test))\n",
    "    \n",
    "    X_train.loc[X_train['random_feature'].sample(frac=nans_share, random_state=42).index,'random_feature'] = np.nan\n",
    "    X_test.loc[X_test['random_feature'].sample(frac=nans_share, random_state=42).index,'random_feature'] = np.nan\n",
    "\n",
    "\n",
    "    model.fit(X_train[features+['random_feature']], df_train_perm[target])\n",
    "    permute_feature_names = X_train.columns.tolist()\n",
    "\n",
    "    print('Расчет Permutation Importance на Train')\n",
    "    result_tr = _custom_permute(model, X_train, df_train_perm[target], metric=metric, n_iter=n_iter_permute, n_jobs=n_jobs, higher_is_better=higher_is_better, random_state=42)\n",
    "    print('Расчет Permutation Importance на Test')\n",
    "    result_te = _custom_permute(model, X_test, df_test_perm[target], metric=metric, n_iter=n_iter_permute, n_jobs=n_jobs, higher_is_better=higher_is_better, random_state=42)\n",
    "\n",
    "    # Создание важности и словаря факторов\n",
    "    data_tr = {'Feature':result_tr.keys(),\n",
    "               'Perm_Importance_Tr':result_tr.values()}\n",
    "    data_te = {'Feature':result_te.keys(),\n",
    "               'Perm_Importance_Te':result_te.values()}\n",
    "\n",
    "    # Создание датасета и сортировка PI на тесте по убыванию\n",
    "    pi_df = (pd.DataFrame(data_tr).merge(pd.DataFrame(data_te),how='left',on='Feature')).set_index('Feature').sort_values(by=['Perm_Importance_Te'], ascending=False)\n",
    "    \n",
    "    # Параметры для рисунка\n",
    "    plt.figure(figsize=(10,6))\n",
    "    sns.barplot(x=pi_df['Perm_Importance_Te'], y=pi_df.index,color='dodgerblue')\n",
    "    plt.title('Feature Importance on Test')\n",
    "    plt.xlabel('Permutation Importance')\n",
    "    plt.ylabel('Feature Names')\n",
    "    plt.show()\n",
    "    \n",
    "    display(pi_df)\n",
    "    \n",
    "    random_score = pi_df.loc['random_feature'].Perm_Importance_Te\n",
    "\n",
    "    if random_score>0:\n",
    "        selected_features = pi_df[pi_df.Perm_Importance_Te>random_score].index.tolist()\n",
    "    elif random_score<=0:\n",
    "        selected_features = pi_df[pi_df.Perm_Importance_Te>=0].index.tolist()\n",
    "\n",
    "    print(len(selected_features), 'признаков после Permutation Importance')\n",
    "\n",
    "    return selected_features"
   ]
  },
  {
   "cell_type": "code",
   "execution_count": 13,
   "id": "c58735d9",
   "metadata": {},
   "outputs": [
    {
     "name": "stdout",
     "output_type": "stream",
     "text": [
      "Размер обучающего подмножества для Permutation importance: (5565, 29) ; Среднее значение таргета: 0.482659478885894\n",
      "\n",
      "Размер тестового подмножества для Permutation importance: (983, 29) ; Среднее значение таргета: 0.5116988809766022\n",
      "==================================================\n",
      "Расчет Permutation Importance на Train\n"
     ]
    },
    {
     "name": "stderr",
     "output_type": "stream",
     "text": [
      "100%|██████████████████████████████████████████████████████████████████████████████████| 28/28 [00:06<00:00,  4.65it/s]\n"
     ]
    },
    {
     "name": "stdout",
     "output_type": "stream",
     "text": [
      "Расчет Permutation Importance на Test\n"
     ]
    },
    {
     "name": "stderr",
     "output_type": "stream",
     "text": [
      "100%|██████████████████████████████████████████████████████████████████████████████████| 28/28 [00:00<00:00, 46.98it/s]\n"
     ]
    },
    {
     "data": {
      "image/png": "[encoded data removed]",
      "text/plain": [
       "<Figure size 1000x600 with 1 Axes>"
      ]
     },
     "metadata": {},
     "output_type": "display_data"
    },
    {
     "data": {
      "text/html": [
       "<div>\n",
       "<style scoped>\n",
       "    .dataframe tbody tr th:only-of-type {\n",
       "        vertical-align: middle;\n",
       "    }\n",
       "\n",
       "    .dataframe tbody tr th {\n",
       "        vertical-align: top;\n",
       "    }\n",
       "\n",
       "    .dataframe thead th {\n",
       "        text-align: right;\n",
       "    }\n",
       "</style>\n",
       "<table border=\"1\" class=\"dataframe\">\n",
       "  <thead>\n",
       "    <tr style=\"text-align: right;\">\n",
       "      <th></th>\n",
       "      <th>Perm_Importance_Tr</th>\n",
       "      <th>Perm_Importance_Te</th>\n",
       "    </tr>\n",
       "    <tr>\n",
       "      <th>Feature</th>\n",
       "      <th></th>\n",
       "      <th></th>\n",
       "    </tr>\n",
       "  </thead>\n",
       "  <tbody>\n",
       "    <tr>\n",
       "      <th>Stohastic</th>\n",
       "      <td>0.171031</td>\n",
       "      <td>0.172189</td>\n",
       "    </tr>\n",
       "    <tr>\n",
       "      <th>Momentum</th>\n",
       "      <td>0.036445</td>\n",
       "      <td>0.061037</td>\n",
       "    </tr>\n",
       "    <tr>\n",
       "      <th>value_message</th>\n",
       "      <td>0.030077</td>\n",
       "      <td>0.033431</td>\n",
       "    </tr>\n",
       "    <tr>\n",
       "      <th>СигнальнаяMACD(9)-быстраяMACD</th>\n",
       "      <td>0.048051</td>\n",
       "      <td>0.030169</td>\n",
       "    </tr>\n",
       "    <tr>\n",
       "      <th>Среднееповышение7</th>\n",
       "      <td>0.014686</td>\n",
       "      <td>0.019884</td>\n",
       "    </tr>\n",
       "    <tr>\n",
       "      <th>EMA26</th>\n",
       "      <td>0.020569</td>\n",
       "      <td>0.016215</td>\n",
       "    </tr>\n",
       "    <tr>\n",
       "      <th>Среднеепонижение7</th>\n",
       "      <td>0.009786</td>\n",
       "      <td>0.011876</td>\n",
       "    </tr>\n",
       "    <tr>\n",
       "      <th>БыстраяMACD</th>\n",
       "      <td>0.015878</td>\n",
       "      <td>0.009257</td>\n",
       "    </tr>\n",
       "    <tr>\n",
       "      <th>VOL</th>\n",
       "      <td>0.015436</td>\n",
       "      <td>0.006240</td>\n",
       "    </tr>\n",
       "    <tr>\n",
       "      <th>RS</th>\n",
       "      <td>0.004648</td>\n",
       "      <td>0.005773</td>\n",
       "    </tr>\n",
       "    <tr>\n",
       "      <th>RSI</th>\n",
       "      <td>0.004660</td>\n",
       "      <td>0.005040</td>\n",
       "    </tr>\n",
       "    <tr>\n",
       "      <th>High-LowClose</th>\n",
       "      <td>0.012535</td>\n",
       "      <td>0.004808</td>\n",
       "    </tr>\n",
       "    <tr>\n",
       "      <th>VOLChange</th>\n",
       "      <td>0.017182</td>\n",
       "      <td>0.003869</td>\n",
       "    </tr>\n",
       "    <tr>\n",
       "      <th>Отрасль</th>\n",
       "      <td>0.005129</td>\n",
       "      <td>0.001901</td>\n",
       "    </tr>\n",
       "    <tr>\n",
       "      <th>PriceChangePreviousDay</th>\n",
       "      <td>0.009117</td>\n",
       "      <td>0.001582</td>\n",
       "    </tr>\n",
       "    <tr>\n",
       "      <th>TICKER</th>\n",
       "      <td>0.017983</td>\n",
       "      <td>0.001505</td>\n",
       "    </tr>\n",
       "    <tr>\n",
       "      <th>EMA12</th>\n",
       "      <td>0.007483</td>\n",
       "      <td>0.001391</td>\n",
       "    </tr>\n",
       "    <tr>\n",
       "      <th>сигнал3</th>\n",
       "      <td>0.000849</td>\n",
       "      <td>0.001206</td>\n",
       "    </tr>\n",
       "    <tr>\n",
       "      <th>уровеньликвидности</th>\n",
       "      <td>0.001580</td>\n",
       "      <td>0.001121</td>\n",
       "    </tr>\n",
       "    <tr>\n",
       "      <th>котировальныйсписок</th>\n",
       "      <td>0.002718</td>\n",
       "      <td>0.001024</td>\n",
       "    </tr>\n",
       "    <tr>\n",
       "      <th>PriceChangeDay</th>\n",
       "      <td>0.007348</td>\n",
       "      <td>0.000882</td>\n",
       "    </tr>\n",
       "    <tr>\n",
       "      <th>сигнал1</th>\n",
       "      <td>0.000682</td>\n",
       "      <td>0.000693</td>\n",
       "    </tr>\n",
       "    <tr>\n",
       "      <th>сигнал5</th>\n",
       "      <td>0.001306</td>\n",
       "      <td>0.000644</td>\n",
       "    </tr>\n",
       "    <tr>\n",
       "      <th>сигнал4</th>\n",
       "      <td>0.000886</td>\n",
       "      <td>0.000594</td>\n",
       "    </tr>\n",
       "    <tr>\n",
       "      <th>сигнал2</th>\n",
       "      <td>0.000589</td>\n",
       "      <td>0.000187</td>\n",
       "    </tr>\n",
       "    <tr>\n",
       "      <th>Повышенияцензакрытия</th>\n",
       "      <td>0.003769</td>\n",
       "      <td>0.000134</td>\n",
       "    </tr>\n",
       "    <tr>\n",
       "      <th>Пониженияцензакрытия</th>\n",
       "      <td>0.004146</td>\n",
       "      <td>0.000043</td>\n",
       "    </tr>\n",
       "    <tr>\n",
       "      <th>random_feature</th>\n",
       "      <td>0.011868</td>\n",
       "      <td>-0.001517</td>\n",
       "    </tr>\n",
       "  </tbody>\n",
       "</table>\n",
       "</div>"
      ],
      "text/plain": [
       "                               Perm_Importance_Tr  Perm_Importance_Te\n",
       "Feature                                                              \n",
       "Stohastic                                0.171031            0.172189\n",
       "Momentum                                 0.036445            0.061037\n",
       "value_message                            0.030077            0.033431\n",
       "СигнальнаяMACD(9)-быстраяMACD            0.048051            0.030169\n",
       "Среднееповышение7                        0.014686            0.019884\n",
       "EMA26                                    0.020569            0.016215\n",
       "Среднеепонижение7                        0.009786            0.011876\n",
       "БыстраяMACD                              0.015878            0.009257\n",
       "VOL                                      0.015436            0.006240\n",
       "RS                                       0.004648            0.005773\n",
       "RSI                                      0.004660            0.005040\n",
       "High-LowClose                            0.012535            0.004808\n",
       "VOLChange                                0.017182            0.003869\n",
       "Отрасль                                  0.005129            0.001901\n",
       "PriceChangePreviousDay                   0.009117            0.001582\n",
       "TICKER                                   0.017983            0.001505\n",
       "EMA12                                    0.007483            0.001391\n",
       "сигнал3                                  0.000849            0.001206\n",
       "уровеньликвидности                       0.001580            0.001121\n",
       "котировальныйсписок                      0.002718            0.001024\n",
       "PriceChangeDay                           0.007348            0.000882\n",
       "сигнал1                                  0.000682            0.000693\n",
       "сигнал5                                  0.001306            0.000644\n",
       "сигнал4                                  0.000886            0.000594\n",
       "сигнал2                                  0.000589            0.000187\n",
       "Повышенияцензакрытия                     0.003769            0.000134\n",
       "Пониженияцензакрытия                     0.004146            0.000043\n",
       "random_feature                           0.011868           -0.001517"
      ]
     },
     "metadata": {},
     "output_type": "display_data"
    },
    {
     "name": "stdout",
     "output_type": "stream",
     "text": [
      "27 признаков после Permutation Importance\n"
     ]
    }
   ],
   "source": [
    "feats_after_permute = permutation_analysis(df=train,\n",
    "                                          num_columns=num_cols,\n",
    "                                          cat_columns=cat_cols,\n",
    "                                          target=target_col,\n",
    "                                          test_size=0.15,\n",
    "                                          n_iter_permute=15, \n",
    "                                          n_jobs=-1, \n",
    "                                          metric=roc_auc_score, \n",
    "                                          higher_is_better=True\n",
    "                                         )"
   ]
  },
  {
   "cell_type": "code",
   "execution_count": 14,
   "id": "0b059b4c",
   "metadata": {},
   "outputs": [
    {
     "name": "stdout",
     "output_type": "stream",
     "text": [
      "18 9\n"
     ]
    }
   ],
   "source": [
    "# Обновляем признаки\n",
    "\n",
    "num_cols = list(filter(lambda x: x in feats_after_permute, num_cols))\n",
    "cat_cols = list(filter(lambda x: x in feats_after_permute, cat_cols))\n",
    "print(len(num_cols),len(cat_cols))\n",
    "\n",
    "# Обновление пайплайна трансформации\n",
    "\n",
    "prep_pipe = base_pipe(\n",
    "    num_columns=num_cols, \n",
    "    cat_columns=cat_cols)"
   ]
  },
  {
   "cell_type": "code",
   "execution_count": 15,
   "id": "dbdd0c13",
   "metadata": {},
   "outputs": [],
   "source": [
    "import optuna\n",
    "from optuna.samplers import TPESampler\n",
    "\n",
    "# импортируем функции для визуализации\n",
    "from optuna.visualization import plot_slice, plot_contour, plot_optimization_history"
   ]
  },
  {
   "cell_type": "code",
   "execution_count": 16,
   "id": "f99346bd",
   "metadata": {},
   "outputs": [],
   "source": [
    "class CustomCatboostCV():\n",
    "    def __init__(self, \n",
    "                 train: pd.DataFrame, \n",
    "                 target:str, \n",
    "                 main_estimator: object, \n",
    "                 main_fit_params: dict, \n",
    "                 main_prep_pipe: object, \n",
    "                 main_features: list):\n",
    "\n",
    "        self.X_train = train.reset_index(drop=True).copy()\n",
    "        self.y_train = train[target].reset_index(drop=True).copy()\n",
    "        \n",
    "        self.main_features = main_features\n",
    "        self.main_estimator = main_estimator\n",
    "        self.main_fit_params = main_fit_params\n",
    "        self.main_prep_pipe = main_prep_pipe\n",
    "        \n",
    "    def _get_metric(self, y_true, y_pred):\n",
    "        \n",
    "        result = roc_auc_score(y_true, y_pred)\n",
    "        \n",
    "        return result\n",
    "\n",
    "    def _calc_main_metric(self, X_train, X_test, y_train, y_test)-> dict:\n",
    "\n",
    "        y_pred_train = self.main_estimator.predict(X_train)\n",
    "        y_pred_test = self.main_estimator.predict(X_test)\n",
    "\n",
    "        main_train = self._get_metric(y_true=y_train, y_pred=y_pred_train)\n",
    "        main_valid = self._get_metric(y_true=y_test, y_pred=y_pred_test)\n",
    "\n",
    "        dict_temp = {'main_train': main_train, 'main_valid': main_valid}\n",
    "        \n",
    "        return dict_temp\n",
    "    \n",
    "\n",
    "    def _preprocessing(self, X_tr, X_val, y_tr, y_val):\n",
    "\n",
    "        self.main_prep_pipe.fit(X_tr, y_tr)\n",
    "\n",
    "        X_tr = self.main_prep_pipe.transform(X_tr).reset_index(drop=True)\n",
    "        X_val = self.main_prep_pipe.transform(X_val).reset_index(drop=True)\n",
    "        \n",
    "        y_tr = y_tr.reset_index(drop=True)\n",
    "        y_val = y_val.reset_index(drop=True)\n",
    "\n",
    "        return X_tr, X_val, y_tr, y_val\n",
    "\n",
    "    def _model_fit(self, \n",
    "                   X_train: pd.DataFrame, \n",
    "                   y_train: pd.DataFrame, \n",
    "                   X_val=None, \n",
    "                   y_val=None):\n",
    "\n",
    "\n",
    "        # если не аплифт модель, то просто применяем конвейер\n",
    "        X_train_new, X_val_new, y_train, y_val = self._preprocessing(\n",
    "            X_tr=X_train, X_val=X_val, y_tr=y_train, y_val=y_val)\n",
    "        \n",
    "        self.main_fit_params.update({'X':X_train_new, \n",
    "                                     'y':y_train, \n",
    "                                     'eval_set':[(X_train_new, y_train), (X_val_new, y_val)]\n",
    "                                    })\n",
    "\n",
    "        # Обучаем модель на трейне\n",
    "        self.main_estimator.fit(**self.main_fit_params)\n",
    "\n",
    "        print('BEST ITERATION: ', self.main_estimator.get_best_iteration())\n",
    "        best_iteration = self.main_estimator.get_best_iteration()\n",
    "        feature_imp = self.main_estimator.get_feature_importance(prettified=True, fstr_type='PredictionValuesChange')\n",
    "        evals = self.main_estimator.get_evals_result()\n",
    "        \n",
    "\n",
    "        # формируем предсказания для тестовой выборки\n",
    "        x_test_predict = self.main_estimator.predict_proba(X_val_new)[:,1]\n",
    "        main_metric = self._calc_main_metric(X_train = X_train_new, X_test=X_val_new, y_train=y_train, y_test=y_val)\n",
    "\n",
    "        return best_iteration, feature_imp, evals, main_metric\n",
    "\n",
    "    def model_fit_cv(self, strat):\n",
    "        i=0\n",
    "        \n",
    "        self._test_group = []\n",
    "\n",
    "        self._best_iters = []\n",
    "        self._fi = []\n",
    "        self._boost_logs = {}\n",
    "        self._main_scores = {}\n",
    "\n",
    "        # убрать X_train_global\n",
    "\n",
    "        X_train_global = self.X_train[self.main_features].reset_index(drop=True).copy()\n",
    "        y_train_global = self.y_train.reset_index(drop=True).copy()\n",
    "\n",
    "        for (train_index, test_index) in tqdm(strat.split(X_train_global, y_train_global)):\n",
    "            i+=1\n",
    "\n",
    "            print(f'==================== Обучение {i} фолда! ====================')\n",
    "\n",
    "            X_train, X_test = X_train_global.iloc[train_index],X_train_global.iloc[test_index]\n",
    "            y_train, y_test = y_train_global.iloc[train_index],y_train_global.iloc[test_index]\n",
    "\n",
    "            # модель с контролем переобучения на последнем фолде\n",
    "            best_iter, imp, evals, main_metric = self._model_fit(X_train=X_train, \n",
    "                                                                 y_train=y_train,\n",
    "                                                                 X_val=X_test, \n",
    "                                                                 y_val=y_test)\n",
    "\n",
    "            self._best_iters.append(best_iter)\n",
    "            self._fi.append(imp)\n",
    "            self._boost_logs[f'evals_{i}'] = evals\n",
    "            self._main_scores[f'scores_{i}'] = main_metric\n",
    "\n",
    "            print(f\"ROC AUC на обучающей выборке: {main_metric['main_train']}\")\n",
    "            print(f\"ROC AUC на проверочной выборке: {main_metric['main_valid']}\")\n",
    "            print()\n",
    "            print(f'********************** {i} фолд обучен! ******************************')\n",
    "            print()\n",
    "            print()\n",
    "            \n",
    "        val_metrics = []\n",
    "        for i in range(1, len(self._main_scores)+1):\n",
    "            val_metrics.append(self._main_scores[f'scores_{i}']['main_valid']) \n",
    "        self.mean_cv_scores = np.mean(val_metrics)\n",
    "        print()\n",
    "        print(f\"Среднее значение ROC AUC: {self.mean_cv_scores}\")\n",
    "\n",
    "    def get_fi(self)->pd.DataFrame:\n",
    "        \n",
    "        df_fi = self._fi[0]\n",
    "        df_fi.columns = ['Feature Id', 'importance_0']\n",
    "\n",
    "        for i in range(1, len(self._fi)):\n",
    "            df1 = self._fi[i]\n",
    "            df1.columns = ['Feature Id', f'importance_{i}']\n",
    "            df_fi = df_fi.merge(\n",
    "                df1,\n",
    "                left_on = 'Feature Id',\n",
    "                right_on = 'Feature Id',\n",
    "                how='left')\n",
    "\n",
    "        filter_col = [col for col in df_fi if col.startswith('importance_')]\n",
    "        df_fi['mean_importance'] = df_fi[filter_col].mean(axis=1)\n",
    "        df_fi = df_fi.sort_values('mean_importance', ascending=False).reset_index(drop=True)\n",
    "        df_fi = df_fi.rename(columns ={'Feature Id':'index'})\n",
    "\n",
    "        return df_fi"
   ]
  },
  {
   "cell_type": "code",
   "execution_count": 17,
   "id": "311c36c5",
   "metadata": {},
   "outputs": [],
   "source": [
    "params = {'iterations':1500,\n",
    "          'loss_function':'Logloss',\n",
    "          'thread_count':-1,\n",
    "          'random_state':42,\n",
    "          'eval_metric':'AUC',\n",
    "          'verbose':0\n",
    "         }\n",
    "\n",
    "fit_params = {'use_best_model':True,\n",
    "              'early_stopping_rounds':150, \n",
    "              'verbose':0,\n",
    "              'plot':False}\n",
    "\n",
    "# задаем стратегию проверки\n",
    "strat = StratifiedKFold(\n",
    "    n_splits=3,\n",
    "    shuffle=True,\n",
    "    random_state=42)"
   ]
  },
  {
   "cell_type": "code",
   "execution_count": 18,
   "id": "e15ed694",
   "metadata": {},
   "outputs": [
    {
     "name": "stderr",
     "output_type": "stream",
     "text": [
      "[I 2024-07-19 14:35:13,207] A new study created in memory with name: no-name-c2d61388-7ad2-47f5-bb47-fa9bccb7831b\n",
      "<timed exec>:3: FutureWarning: suggest_loguniform has been deprecated in v3.0.0. This feature will be removed in v6.0.0. See https://github.com/optuna/optuna/releases/tag/v3.0.0. Use suggest_float(..., log=True) instead.\n",
      "<timed exec>:11: FutureWarning: suggest_loguniform has been deprecated in v3.0.0. This feature will be removed in v6.0.0. See https://github.com/optuna/optuna/releases/tag/v3.0.0. Use suggest_float(..., log=True) instead.\n",
      "<timed exec>:12: FutureWarning: suggest_loguniform has been deprecated in v3.0.0. This feature will be removed in v6.0.0. See https://github.com/optuna/optuna/releases/tag/v3.0.0. Use suggest_float(..., log=True) instead.\n",
      "<timed exec>:13: FutureWarning: suggest_loguniform has been deprecated in v3.0.0. This feature will be removed in v6.0.0. See https://github.com/optuna/optuna/releases/tag/v3.0.0. Use suggest_float(..., log=True) instead.\n",
      "0it [00:00, ?it/s]"
     ]
    },
    {
     "name": "stdout",
     "output_type": "stream",
     "text": [
      "==================== Обучение 1 фолда! ====================\n"
     ]
    },
    {
     "name": "stderr",
     "output_type": "stream",
     "text": [
      "\r",
      "1it [00:25, 25.23s/it]"
     ]
    },
    {
     "name": "stdout",
     "output_type": "stream",
     "text": [
      "BEST ITERATION:  852\n",
      "ROC AUC на обучающей выборке: 0.9523162680557651\n",
      "ROC AUC на проверочной выборке: 0.7373202526542131\n",
      "\n",
      "********************** 1 фолд обучен! ******************************\n",
      "\n",
      "\n",
      "==================== Обучение 2 фолда! ====================\n"
     ]
    },
    {
     "name": "stderr",
     "output_type": "stream",
     "text": [
      "\r",
      "2it [00:55, 28.35s/it]"
     ]
    },
    {
     "name": "stdout",
     "output_type": "stream",
     "text": [
      "BEST ITERATION:  1084\n",
      "ROC AUC на обучающей выборке: 0.9701954617053289\n",
      "ROC AUC на проверочной выборке: 0.74400828181696\n",
      "\n",
      "********************** 2 фолд обучен! ******************************\n",
      "\n",
      "\n",
      "==================== Обучение 3 фолда! ====================\n"
     ]
    },
    {
     "name": "stderr",
     "output_type": "stream",
     "text": [
      "3it [01:35, 31.96s/it]"
     ]
    },
    {
     "name": "stdout",
     "output_type": "stream",
     "text": [
      "BEST ITERATION:  1339\n",
      "ROC AUC на обучающей выборке: 0.9783912612552076\n",
      "ROC AUC на проверочной выборке: 0.7251724888755499\n",
      "\n",
      "********************** 3 фолд обучен! ******************************\n",
      "\n",
      "\n",
      "\n",
      "Среднее значение ROC AUC: 0.7355003411155744\n"
     ]
    },
    {
     "name": "stderr",
     "output_type": "stream",
     "text": [
      "\n",
      "[I 2024-07-19 14:36:49,112] Trial 0 finished with value: 0.7355003411155744 and parameters: {'learning_rate': 0.003148911647956862, 'depth': 9, 'subsample': 0.7822573760490122, 'colsample_bylevel': 0.6922933401417407, 'l2_leaf_reg': 1.77071686435378e-07}. Best is trial 0 with value: 0.7355003411155744.\n",
      "<timed exec>:3: FutureWarning: suggest_loguniform has been deprecated in v3.0.0. This feature will be removed in v6.0.0. See https://github.com/optuna/optuna/releases/tag/v3.0.0. Use suggest_float(..., log=True) instead.\n",
      "<timed exec>:11: FutureWarning: suggest_loguniform has been deprecated in v3.0.0. This feature will be removed in v6.0.0. See https://github.com/optuna/optuna/releases/tag/v3.0.0. Use suggest_float(..., log=True) instead.\n",
      "<timed exec>:12: FutureWarning: suggest_loguniform has been deprecated in v3.0.0. This feature will be removed in v6.0.0. See https://github.com/optuna/optuna/releases/tag/v3.0.0. Use suggest_float(..., log=True) instead.\n",
      "<timed exec>:13: FutureWarning: suggest_loguniform has been deprecated in v3.0.0. This feature will be removed in v6.0.0. See https://github.com/optuna/optuna/releases/tag/v3.0.0. Use suggest_float(..., log=True) instead.\n",
      "0it [00:00, ?it/s]"
     ]
    },
    {
     "name": "stdout",
     "output_type": "stream",
     "text": [
      "==================== Обучение 1 фолда! ====================\n"
     ]
    },
    {
     "name": "stderr",
     "output_type": "stream",
     "text": [
      "\r",
      "1it [00:00,  1.04it/s]"
     ]
    },
    {
     "name": "stdout",
     "output_type": "stream",
     "text": [
      "BEST ITERATION:  109\n",
      "ROC AUC на обучающей выборке: 0.6445253201919114\n",
      "ROC AUC на проверочной выборке: 0.6465684215831204\n",
      "\n",
      "********************** 1 фолд обучен! ******************************\n",
      "\n",
      "\n",
      "==================== Обучение 2 фолда! ====================\n"
     ]
    },
    {
     "name": "stderr",
     "output_type": "stream",
     "text": [
      "\r",
      "2it [00:04,  2.34s/it]"
     ]
    },
    {
     "name": "stdout",
     "output_type": "stream",
     "text": [
      "BEST ITERATION:  1080\n",
      "ROC AUC на обучающей выборке: 0.6469017338660377\n",
      "ROC AUC на проверочной выборке: 0.6449250772745598\n",
      "\n",
      "********************** 2 фолд обучен! ******************************\n",
      "\n",
      "\n",
      "==================== Обучение 3 фолда! ====================\n"
     ]
    },
    {
     "name": "stderr",
     "output_type": "stream",
     "text": [
      "3it [00:06,  2.15s/it]\n",
      "[I 2024-07-19 14:36:55,568] Trial 1 finished with value: 0.6439390326081007 and parameters: {'learning_rate': 0.0004207053950287938, 'depth': 1, 'subsample': 0.8845983689917747, 'colsample_bylevel': 0.6938533737439828, 'l2_leaf_reg': 0.004619347374377372}. Best is trial 0 with value: 0.7355003411155744.\n",
      "<timed exec>:3: FutureWarning: suggest_loguniform has been deprecated in v3.0.0. This feature will be removed in v6.0.0. See https://github.com/optuna/optuna/releases/tag/v3.0.0. Use suggest_float(..., log=True) instead.\n",
      "<timed exec>:11: FutureWarning: suggest_loguniform has been deprecated in v3.0.0. This feature will be removed in v6.0.0. See https://github.com/optuna/optuna/releases/tag/v3.0.0. Use suggest_float(..., log=True) instead.\n",
      "<timed exec>:12: FutureWarning: suggest_loguniform has been deprecated in v3.0.0. This feature will be removed in v6.0.0. See https://github.com/optuna/optuna/releases/tag/v3.0.0. Use suggest_float(..., log=True) instead.\n",
      "<timed exec>:13: FutureWarning: suggest_loguniform has been deprecated in v3.0.0. This feature will be removed in v6.0.0. See https://github.com/optuna/optuna/releases/tag/v3.0.0. Use suggest_float(..., log=True) instead.\n"
     ]
    },
    {
     "name": "stdout",
     "output_type": "stream",
     "text": [
      "BEST ITERATION:  600\n",
      "ROC AUC на обучающей выборке: 0.6443045709582045\n",
      "ROC AUC на проверочной выборке: 0.6403235989666219\n",
      "\n",
      "********************** 3 фолд обучен! ******************************\n",
      "\n",
      "\n",
      "\n",
      "Среднее значение ROC AUC: 0.6439390326081007\n"
     ]
    },
    {
     "name": "stderr",
     "output_type": "stream",
     "text": [
      "\r",
      "0it [00:00, ?it/s]"
     ]
    },
    {
     "name": "stdout",
     "output_type": "stream",
     "text": [
      "==================== Обучение 1 фолда! ====================\n"
     ]
    },
    {
     "name": "stderr",
     "output_type": "stream",
     "text": [
      "\r",
      "1it [00:14, 14.83s/it]"
     ]
    },
    {
     "name": "stdout",
     "output_type": "stream",
     "text": [
      "BEST ITERATION:  506\n",
      "ROC AUC на обучающей выборке: 0.8021024286393141\n",
      "ROC AUC на проверочной выборке: 0.7201023047977422\n",
      "\n",
      "********************** 1 фолд обучен! ******************************\n",
      "\n",
      "\n",
      "==================== Обучение 2 фолда! ====================\n"
     ]
    },
    {
     "name": "stderr",
     "output_type": "stream",
     "text": [
      "\r",
      "2it [00:22, 10.36s/it]"
     ]
    },
    {
     "name": "stdout",
     "output_type": "stream",
     "text": [
      "BEST ITERATION:  154\n",
      "ROC AUC на обучающей выборке: 0.8004420692445601\n",
      "ROC AUC на проверочной выборке: 0.7257777852439189\n",
      "\n",
      "********************** 2 фолд обучен! ******************************\n",
      "\n",
      "\n",
      "==================== Обучение 3 фолда! ====================\n"
     ]
    },
    {
     "name": "stderr",
     "output_type": "stream",
     "text": [
      "3it [00:35, 11.97s/it]\n",
      "[I 2024-07-19 14:37:31,490] Trial 2 finished with value: 0.7184873184391626 and parameters: {'learning_rate': 0.00012087541473056971, 'depth': 9, 'subsample': 0.8576739569300319, 'colsample_bylevel': 0.48591266506353753, 'l2_leaf_reg': 2.8483918709107956e-07}. Best is trial 0 with value: 0.7355003411155744.\n",
      "<timed exec>:3: FutureWarning: suggest_loguniform has been deprecated in v3.0.0. This feature will be removed in v6.0.0. See https://github.com/optuna/optuna/releases/tag/v3.0.0. Use suggest_float(..., log=True) instead.\n",
      "<timed exec>:11: FutureWarning: suggest_loguniform has been deprecated in v3.0.0. This feature will be removed in v6.0.0. See https://github.com/optuna/optuna/releases/tag/v3.0.0. Use suggest_float(..., log=True) instead.\n",
      "<timed exec>:12: FutureWarning: suggest_loguniform has been deprecated in v3.0.0. This feature will be removed in v6.0.0. See https://github.com/optuna/optuna/releases/tag/v3.0.0. Use suggest_float(..., log=True) instead.\n",
      "<timed exec>:13: FutureWarning: suggest_loguniform has been deprecated in v3.0.0. This feature will be removed in v6.0.0. See https://github.com/optuna/optuna/releases/tag/v3.0.0. Use suggest_float(..., log=True) instead.\n"
     ]
    },
    {
     "name": "stdout",
     "output_type": "stream",
     "text": [
      "BEST ITERATION:  464\n",
      "ROC AUC на обучающей выборке: 0.8162011994355598\n",
      "ROC AUC на проверочной выборке: 0.7095818652758266\n",
      "\n",
      "********************** 3 фолд обучен! ******************************\n",
      "\n",
      "\n",
      "\n",
      "Среднее значение ROC AUC: 0.7184873184391626\n"
     ]
    },
    {
     "name": "stderr",
     "output_type": "stream",
     "text": [
      "\r",
      "0it [00:00, ?it/s]"
     ]
    },
    {
     "name": "stdout",
     "output_type": "stream",
     "text": [
      "==================== Обучение 1 фолда! ====================\n"
     ]
    },
    {
     "name": "stderr",
     "output_type": "stream",
     "text": [
      "\r",
      "1it [00:01,  1.51s/it]"
     ]
    },
    {
     "name": "stdout",
     "output_type": "stream",
     "text": [
      "BEST ITERATION:  207\n",
      "ROC AUC на обучающей выборке: 0.6697937276292123\n",
      "ROC AUC на проверочной выборке: 0.6713710354791023\n",
      "\n",
      "********************** 1 фолд обучен! ******************************\n",
      "\n",
      "\n",
      "==================== Обучение 2 фолда! ====================\n"
     ]
    },
    {
     "name": "stderr",
     "output_type": "stream",
     "text": [
      "\r",
      "2it [00:03,  2.06s/it]"
     ]
    },
    {
     "name": "stdout",
     "output_type": "stream",
     "text": [
      "BEST ITERATION:  523\n",
      "ROC AUC на обучающей выборке: 0.6790164059096063\n",
      "ROC AUC на проверочной выборке: 0.6801081003897326\n",
      "\n",
      "********************** 2 фолд обучен! ******************************\n",
      "\n",
      "\n",
      "==================== Обучение 3 фолда! ====================\n"
     ]
    },
    {
     "name": "stderr",
     "output_type": "stream",
     "text": [
      "3it [00:05,  1.76s/it]\n",
      "[I 2024-07-19 14:37:36,774] Trial 3 finished with value: 0.672565624427404 and parameters: {'learning_rate': 0.0005415244119402539, 'depth': 3, 'subsample': 0.6469661675743767, 'colsample_bylevel': 0.5942212735373064, 'l2_leaf_reg': 2.1371407316372935e-06}. Best is trial 0 with value: 0.7355003411155744.\n",
      "<timed exec>:3: FutureWarning: suggest_loguniform has been deprecated in v3.0.0. This feature will be removed in v6.0.0. See https://github.com/optuna/optuna/releases/tag/v3.0.0. Use suggest_float(..., log=True) instead.\n",
      "<timed exec>:11: FutureWarning: suggest_loguniform has been deprecated in v3.0.0. This feature will be removed in v6.0.0. See https://github.com/optuna/optuna/releases/tag/v3.0.0. Use suggest_float(..., log=True) instead.\n",
      "<timed exec>:12: FutureWarning: suggest_loguniform has been deprecated in v3.0.0. This feature will be removed in v6.0.0. See https://github.com/optuna/optuna/releases/tag/v3.0.0. Use suggest_float(..., log=True) instead.\n",
      "<timed exec>:13: FutureWarning: suggest_loguniform has been deprecated in v3.0.0. This feature will be removed in v6.0.0. See https://github.com/optuna/optuna/releases/tag/v3.0.0. Use suggest_float(..., log=True) instead.\n"
     ]
    },
    {
     "name": "stdout",
     "output_type": "stream",
     "text": [
      "BEST ITERATION:  133\n",
      "ROC AUC на обучающей выборке: 0.6763415955516732\n",
      "ROC AUC на проверочной выборке: 0.6662177374133773\n",
      "\n",
      "********************** 3 фолд обучен! ******************************\n",
      "\n",
      "\n",
      "\n",
      "Среднее значение ROC AUC: 0.672565624427404\n"
     ]
    },
    {
     "name": "stderr",
     "output_type": "stream",
     "text": [
      "\r",
      "0it [00:00, ?it/s]"
     ]
    },
    {
     "name": "stdout",
     "output_type": "stream",
     "text": [
      "==================== Обучение 1 фолда! ====================\n"
     ]
    },
    {
     "name": "stderr",
     "output_type": "stream",
     "text": [
      "\r",
      "1it [00:04,  4.41s/it]"
     ]
    },
    {
     "name": "stdout",
     "output_type": "stream",
     "text": [
      "BEST ITERATION:  1477\n",
      "ROC AUC на обучающей выборке: 0.7808611306367872\n",
      "ROC AUC на проверочной выборке: 0.7086757492272544\n",
      "\n",
      "********************** 1 фолд обучен! ******************************\n",
      "\n",
      "\n",
      "==================== Обучение 2 фолда! ====================\n"
     ]
    },
    {
     "name": "stderr",
     "output_type": "stream",
     "text": [
      "\r",
      "2it [00:08,  4.41s/it]"
     ]
    },
    {
     "name": "stdout",
     "output_type": "stream",
     "text": [
      "BEST ITERATION:  1498\n",
      "ROC AUC на обучающей выборке: 0.7699877565957455\n",
      "ROC AUC на проверочной выборке: 0.7133949569950275\n",
      "\n",
      "********************** 2 фолд обучен! ******************************\n",
      "\n",
      "\n",
      "==================== Обучение 3 фолда! ====================\n"
     ]
    },
    {
     "name": "stderr",
     "output_type": "stream",
     "text": [
      "3it [00:13,  4.38s/it]\n",
      "[I 2024-07-19 14:37:49,938] Trial 4 finished with value: 0.7093507700703983 and parameters: {'learning_rate': 0.0280163515871626, 'depth': 2, 'subsample': 0.5227764740992744, 'colsample_bylevel': 0.5595643355000384, 'l2_leaf_reg': 4.452048365748842e-05}. Best is trial 0 with value: 0.7355003411155744.\n",
      "<timed exec>:3: FutureWarning: suggest_loguniform has been deprecated in v3.0.0. This feature will be removed in v6.0.0. See https://github.com/optuna/optuna/releases/tag/v3.0.0. Use suggest_float(..., log=True) instead.\n",
      "<timed exec>:11: FutureWarning: suggest_loguniform has been deprecated in v3.0.0. This feature will be removed in v6.0.0. See https://github.com/optuna/optuna/releases/tag/v3.0.0. Use suggest_float(..., log=True) instead.\n",
      "<timed exec>:12: FutureWarning: suggest_loguniform has been deprecated in v3.0.0. This feature will be removed in v6.0.0. See https://github.com/optuna/optuna/releases/tag/v3.0.0. Use suggest_float(..., log=True) instead.\n",
      "<timed exec>:13: FutureWarning: suggest_loguniform has been deprecated in v3.0.0. This feature will be removed in v6.0.0. See https://github.com/optuna/optuna/releases/tag/v3.0.0. Use suggest_float(..., log=True) instead.\n"
     ]
    },
    {
     "name": "stdout",
     "output_type": "stream",
     "text": [
      "BEST ITERATION:  1490\n",
      "ROC AUC на обучающей выборке: 0.7827524442279263\n",
      "ROC AUC на проверочной выборке: 0.705981603988913\n",
      "\n",
      "********************** 3 фолд обучен! ******************************\n",
      "\n",
      "\n",
      "\n",
      "Среднее значение ROC AUC: 0.7093507700703983\n"
     ]
    },
    {
     "name": "stderr",
     "output_type": "stream",
     "text": [
      "\r",
      "0it [00:00, ?it/s]"
     ]
    },
    {
     "name": "stdout",
     "output_type": "stream",
     "text": [
      "==================== Обучение 1 фолда! ====================\n"
     ]
    },
    {
     "name": "stderr",
     "output_type": "stream",
     "text": [
      "\r",
      "1it [00:02,  2.34s/it]"
     ]
    },
    {
     "name": "stdout",
     "output_type": "stream",
     "text": [
      "BEST ITERATION:  586\n",
      "ROC AUC на обучающей выборке: 0.8207697336660424\n",
      "ROC AUC на проверочной выборке: 0.7151806712807418\n",
      "\n",
      "********************** 1 фолд обучен! ******************************\n",
      "\n",
      "\n",
      "==================== Обучение 2 фолда! ====================\n"
     ]
    },
    {
     "name": "stderr",
     "output_type": "stream",
     "text": [
      "\r",
      "2it [00:04,  2.11s/it]"
     ]
    },
    {
     "name": "stdout",
     "output_type": "stream",
     "text": [
      "BEST ITERATION:  430\n",
      "ROC AUC на обучающей выборке: 0.7960842954601507\n",
      "ROC AUC на проверочной выборке: 0.7186563465931998\n",
      "\n",
      "********************** 2 фолд обучен! ******************************\n",
      "\n",
      "\n",
      "==================== Обучение 3 фолда! ====================\n"
     ]
    },
    {
     "name": "stderr",
     "output_type": "stream",
     "text": [
      "3it [00:06,  2.30s/it]\n",
      "[I 2024-07-19 14:37:56,839] Trial 5 finished with value: 0.7146995274052813 and parameters: {'learning_rate': 0.13826232179369857, 'depth': 2, 'subsample': 0.6407586064789756, 'colsample_bylevel': 0.6883438712855351, 'l2_leaf_reg': 2.3528990899815284e-08}. Best is trial 0 with value: 0.7355003411155744.\n",
      "<timed exec>:3: FutureWarning: suggest_loguniform has been deprecated in v3.0.0. This feature will be removed in v6.0.0. See https://github.com/optuna/optuna/releases/tag/v3.0.0. Use suggest_float(..., log=True) instead.\n",
      "<timed exec>:11: FutureWarning: suggest_loguniform has been deprecated in v3.0.0. This feature will be removed in v6.0.0. See https://github.com/optuna/optuna/releases/tag/v3.0.0. Use suggest_float(..., log=True) instead.\n",
      "<timed exec>:12: FutureWarning: suggest_loguniform has been deprecated in v3.0.0. This feature will be removed in v6.0.0. See https://github.com/optuna/optuna/releases/tag/v3.0.0. Use suggest_float(..., log=True) instead.\n",
      "<timed exec>:13: FutureWarning: suggest_loguniform has been deprecated in v3.0.0. This feature will be removed in v6.0.0. See https://github.com/optuna/optuna/releases/tag/v3.0.0. Use suggest_float(..., log=True) instead.\n"
     ]
    },
    {
     "name": "stdout",
     "output_type": "stream",
     "text": [
      "BEST ITERATION:  589\n",
      "ROC AUC на обучающей выборке: 0.8200735368230077\n",
      "ROC AUC на проверочной выборке: 0.7102615643419025\n",
      "\n",
      "********************** 3 фолд обучен! ******************************\n",
      "\n",
      "\n",
      "\n",
      "Среднее значение ROC AUC: 0.7146995274052813\n"
     ]
    },
    {
     "name": "stderr",
     "output_type": "stream",
     "text": [
      "\r",
      "0it [00:00, ?it/s]"
     ]
    },
    {
     "name": "stdout",
     "output_type": "stream",
     "text": [
      "==================== Обучение 1 фолда! ====================\n"
     ]
    },
    {
     "name": "stderr",
     "output_type": "stream",
     "text": [
      "\r",
      "1it [00:00,  1.09it/s]"
     ]
    },
    {
     "name": "stdout",
     "output_type": "stream",
     "text": [
      "BEST ITERATION:  41\n",
      "ROC AUC на обучающей выборке: 0.6836140899146533\n",
      "ROC AUC на проверочной выборке: 0.6797956423867759\n",
      "\n",
      "********************** 1 фолд обучен! ******************************\n",
      "\n",
      "\n",
      "==================== Обучение 2 фолда! ====================\n"
     ]
    },
    {
     "name": "stderr",
     "output_type": "stream",
     "text": [
      "\r",
      "2it [00:05,  3.26s/it]"
     ]
    },
    {
     "name": "stdout",
     "output_type": "stream",
     "text": [
      "BEST ITERATION:  1499\n",
      "ROC AUC на обучающей выборке: 0.7688711866984699\n",
      "ROC AUC на проверочной выборке: 0.7068816355328585\n",
      "\n",
      "********************** 2 фолд обучен! ******************************\n",
      "\n",
      "\n",
      "==================== Обучение 3 фолда! ====================\n"
     ]
    },
    {
     "name": "stderr",
     "output_type": "stream",
     "text": [
      "3it [00:10,  3.58s/it]\n",
      "[I 2024-07-19 14:38:07,586] Trial 6 finished with value: 0.6969807299650109 and parameters: {'learning_rate': 0.02692646910086179, 'depth': 2, 'subsample': 0.42456737905889963, 'colsample_bylevel': 0.9542441589365409, 'l2_leaf_reg': 0.530953226900921}. Best is trial 0 with value: 0.7355003411155744.\n",
      "<timed exec>:3: FutureWarning: suggest_loguniform has been deprecated in v3.0.0. This feature will be removed in v6.0.0. See https://github.com/optuna/optuna/releases/tag/v3.0.0. Use suggest_float(..., log=True) instead.\n",
      "<timed exec>:11: FutureWarning: suggest_loguniform has been deprecated in v3.0.0. This feature will be removed in v6.0.0. See https://github.com/optuna/optuna/releases/tag/v3.0.0. Use suggest_float(..., log=True) instead.\n",
      "<timed exec>:12: FutureWarning: suggest_loguniform has been deprecated in v3.0.0. This feature will be removed in v6.0.0. See https://github.com/optuna/optuna/releases/tag/v3.0.0. Use suggest_float(..., log=True) instead.\n",
      "<timed exec>:13: FutureWarning: suggest_loguniform has been deprecated in v3.0.0. This feature will be removed in v6.0.0. See https://github.com/optuna/optuna/releases/tag/v3.0.0. Use suggest_float(..., log=True) instead.\n"
     ]
    },
    {
     "name": "stdout",
     "output_type": "stream",
     "text": [
      "BEST ITERATION:  1498\n",
      "ROC AUC на обучающей выборке: 0.7766059669399275\n",
      "ROC AUC на проверочной выборке: 0.7042649119753981\n",
      "\n",
      "********************** 3 фолд обучен! ******************************\n",
      "\n",
      "\n",
      "\n",
      "Среднее значение ROC AUC: 0.6969807299650109\n"
     ]
    },
    {
     "name": "stderr",
     "output_type": "stream",
     "text": [
      "\r",
      "0it [00:00, ?it/s]"
     ]
    },
    {
     "name": "stdout",
     "output_type": "stream",
     "text": [
      "==================== Обучение 1 фолда! ====================\n"
     ]
    },
    {
     "name": "stderr",
     "output_type": "stream",
     "text": [
      "\r",
      "1it [00:01,  1.59s/it]"
     ]
    },
    {
     "name": "stdout",
     "output_type": "stream",
     "text": [
      "BEST ITERATION:  189\n",
      "ROC AUC на обучающей выборке: 0.8057936217493952\n",
      "ROC AUC на проверочной выборке: 0.7054310576535412\n",
      "\n",
      "********************** 1 фолд обучен! ******************************\n",
      "\n",
      "\n",
      "==================== Обучение 2 фолда! ====================\n"
     ]
    },
    {
     "name": "stderr",
     "output_type": "stream",
     "text": [
      "\r",
      "2it [00:03,  2.04s/it]"
     ]
    },
    {
     "name": "stdout",
     "output_type": "stream",
     "text": [
      "BEST ITERATION:  406\n",
      "ROC AUC на обучающей выборке: 0.8420817232528465\n",
      "ROC AUC на проверочной выборке: 0.7342095316489718\n",
      "\n",
      "********************** 2 фолд обучен! ******************************\n",
      "\n",
      "\n",
      "==================== Обучение 3 фолда! ====================\n"
     ]
    },
    {
     "name": "stderr",
     "output_type": "stream",
     "text": [
      "3it [00:06,  2.19s/it]\n",
      "[I 2024-07-19 14:38:14,166] Trial 7 finished with value: 0.7160146017051945 and parameters: {'learning_rate': 0.17123375973163968, 'depth': 3, 'subsample': 0.43744920663366266, 'colsample_bylevel': 0.7487618141055226, 'l2_leaf_reg': 3.320625892007924e-05}. Best is trial 0 with value: 0.7355003411155744.\n",
      "<timed exec>:3: FutureWarning: suggest_loguniform has been deprecated in v3.0.0. This feature will be removed in v6.0.0. See https://github.com/optuna/optuna/releases/tag/v3.0.0. Use suggest_float(..., log=True) instead.\n",
      "<timed exec>:11: FutureWarning: suggest_loguniform has been deprecated in v3.0.0. This feature will be removed in v6.0.0. See https://github.com/optuna/optuna/releases/tag/v3.0.0. Use suggest_float(..., log=True) instead.\n",
      "<timed exec>:12: FutureWarning: suggest_loguniform has been deprecated in v3.0.0. This feature will be removed in v6.0.0. See https://github.com/optuna/optuna/releases/tag/v3.0.0. Use suggest_float(..., log=True) instead.\n",
      "<timed exec>:13: FutureWarning: suggest_loguniform has been deprecated in v3.0.0. This feature will be removed in v6.0.0. See https://github.com/optuna/optuna/releases/tag/v3.0.0. Use suggest_float(..., log=True) instead.\n"
     ]
    },
    {
     "name": "stdout",
     "output_type": "stream",
     "text": [
      "BEST ITERATION:  442\n",
      "ROC AUC на обучающей выборке: 0.8659767252385432\n",
      "ROC AUC на проверочной выборке: 0.7084032158130704\n",
      "\n",
      "********************** 3 фолд обучен! ******************************\n",
      "\n",
      "\n",
      "\n",
      "Среднее значение ROC AUC: 0.7160146017051945\n"
     ]
    },
    {
     "name": "stderr",
     "output_type": "stream",
     "text": [
      "\r",
      "0it [00:00, ?it/s]"
     ]
    },
    {
     "name": "stdout",
     "output_type": "stream",
     "text": [
      "==================== Обучение 1 фолда! ====================\n"
     ]
    },
    {
     "name": "stderr",
     "output_type": "stream",
     "text": [
      "\r",
      "1it [00:02,  2.65s/it]"
     ]
    },
    {
     "name": "stdout",
     "output_type": "stream",
     "text": [
      "BEST ITERATION:  216\n",
      "ROC AUC на обучающей выборке: 0.698577492051661\n",
      "ROC AUC на проверочной выборке: 0.6908223861040184\n",
      "\n",
      "********************** 1 фолд обучен! ******************************\n",
      "\n",
      "\n",
      "==================== Обучение 2 фолда! ====================\n"
     ]
    },
    {
     "name": "stderr",
     "output_type": "stream",
     "text": [
      "\r",
      "2it [00:04,  2.41s/it]"
     ]
    },
    {
     "name": "stdout",
     "output_type": "stream",
     "text": [
      "BEST ITERATION:  177\n",
      "ROC AUC на обучающей выборке: 0.7011697619006603\n",
      "ROC AUC на проверочной выборке: 0.6987144705012767\n",
      "\n",
      "********************** 2 фолд обучен! ******************************\n",
      "\n",
      "\n",
      "==================== Обучение 3 фолда! ====================\n"
     ]
    },
    {
     "name": "stderr",
     "output_type": "stream",
     "text": [
      "3it [00:07,  2.39s/it]\n",
      "[I 2024-07-19 14:38:21,344] Trial 8 finished with value: 0.6901743404485057 and parameters: {'learning_rate': 0.00030771802712506853, 'depth': 5, 'subsample': 0.41280463004086393, 'colsample_bylevel': 0.9202693545129238, 'l2_leaf_reg': 1.1755466083160747e-06}. Best is trial 0 with value: 0.7355003411155744.\n",
      "<timed exec>:3: FutureWarning: suggest_loguniform has been deprecated in v3.0.0. This feature will be removed in v6.0.0. See https://github.com/optuna/optuna/releases/tag/v3.0.0. Use suggest_float(..., log=True) instead.\n",
      "<timed exec>:11: FutureWarning: suggest_loguniform has been deprecated in v3.0.0. This feature will be removed in v6.0.0. See https://github.com/optuna/optuna/releases/tag/v3.0.0. Use suggest_float(..., log=True) instead.\n",
      "<timed exec>:12: FutureWarning: suggest_loguniform has been deprecated in v3.0.0. This feature will be removed in v6.0.0. See https://github.com/optuna/optuna/releases/tag/v3.0.0. Use suggest_float(..., log=True) instead.\n",
      "<timed exec>:13: FutureWarning: suggest_loguniform has been deprecated in v3.0.0. This feature will be removed in v6.0.0. See https://github.com/optuna/optuna/releases/tag/v3.0.0. Use suggest_float(..., log=True) instead.\n"
     ]
    },
    {
     "name": "stdout",
     "output_type": "stream",
     "text": [
      "BEST ITERATION:  225\n",
      "ROC AUC на обучающей выборке: 0.7053073763607042\n",
      "ROC AUC на проверочной выборке: 0.6809861647402222\n",
      "\n",
      "********************** 3 фолд обучен! ******************************\n",
      "\n",
      "\n",
      "\n",
      "Среднее значение ROC AUC: 0.6901743404485057\n"
     ]
    },
    {
     "name": "stderr",
     "output_type": "stream",
     "text": [
      "\r",
      "0it [00:00, ?it/s]"
     ]
    },
    {
     "name": "stdout",
     "output_type": "stream",
     "text": [
      "==================== Обучение 1 фолда! ====================\n"
     ]
    },
    {
     "name": "stderr",
     "output_type": "stream",
     "text": [
      "\r",
      "1it [00:05,  5.41s/it]"
     ]
    },
    {
     "name": "stdout",
     "output_type": "stream",
     "text": [
      "BEST ITERATION:  1499\n",
      "ROC AUC на обучающей выборке: 0.8811467540483274\n",
      "ROC AUC на проверочной выборке: 0.7213349180217712\n",
      "\n",
      "********************** 1 фолд обучен! ******************************\n",
      "\n",
      "\n",
      "==================== Обучение 2 фолда! ====================\n"
     ]
    },
    {
     "name": "stderr",
     "output_type": "stream",
     "text": [
      "\r",
      "2it [00:10,  5.34s/it]"
     ]
    },
    {
     "name": "stdout",
     "output_type": "stream",
     "text": [
      "BEST ITERATION:  1316\n",
      "ROC AUC на обучающей выборке: 0.8551429650634418\n",
      "ROC AUC на проверочной выборке: 0.7353657102539982\n",
      "\n",
      "********************** 2 фолд обучен! ******************************\n",
      "\n",
      "\n",
      "==================== Обучение 3 фолда! ====================\n"
     ]
    },
    {
     "name": "stderr",
     "output_type": "stream",
     "text": [
      "3it [00:15,  5.31s/it]\n",
      "[I 2024-07-19 14:38:37,296] Trial 9 finished with value: 0.725879658161431 and parameters: {'learning_rate': 0.04467752817973906, 'depth': 3, 'subsample': 0.6441927965702634, 'colsample_bylevel': 0.6601123904545768, 'l2_leaf_reg': 3.0118659882617117e-07}. Best is trial 0 with value: 0.7355003411155744.\n",
      "<timed exec>:3: FutureWarning: suggest_loguniform has been deprecated in v3.0.0. This feature will be removed in v6.0.0. See https://github.com/optuna/optuna/releases/tag/v3.0.0. Use suggest_float(..., log=True) instead.\n",
      "<timed exec>:11: FutureWarning: suggest_loguniform has been deprecated in v3.0.0. This feature will be removed in v6.0.0. See https://github.com/optuna/optuna/releases/tag/v3.0.0. Use suggest_float(..., log=True) instead.\n",
      "<timed exec>:12: FutureWarning: suggest_loguniform has been deprecated in v3.0.0. This feature will be removed in v6.0.0. See https://github.com/optuna/optuna/releases/tag/v3.0.0. Use suggest_float(..., log=True) instead.\n",
      "<timed exec>:13: FutureWarning: suggest_loguniform has been deprecated in v3.0.0. This feature will be removed in v6.0.0. See https://github.com/optuna/optuna/releases/tag/v3.0.0. Use suggest_float(..., log=True) instead.\n"
     ]
    },
    {
     "name": "stdout",
     "output_type": "stream",
     "text": [
      "BEST ITERATION:  1499\n",
      "ROC AUC на обучающей выборке: 0.8889085808359091\n",
      "ROC AUC на проверочной выборке: 0.7209383462085235\n",
      "\n",
      "********************** 3 фолд обучен! ******************************\n",
      "\n",
      "\n",
      "\n",
      "Среднее значение ROC AUC: 0.725879658161431\n"
     ]
    },
    {
     "name": "stderr",
     "output_type": "stream",
     "text": [
      "\r",
      "0it [00:00, ?it/s]"
     ]
    },
    {
     "name": "stdout",
     "output_type": "stream",
     "text": [
      "==================== Обучение 1 фолда! ====================\n"
     ]
    },
    {
     "name": "stderr",
     "output_type": "stream",
     "text": [
      "\r",
      "1it [00:15, 15.84s/it]"
     ]
    },
    {
     "name": "stdout",
     "output_type": "stream",
     "text": [
      "BEST ITERATION:  601\n",
      "ROC AUC на обучающей выборке: 0.9127637489354247\n",
      "ROC AUC на проверочной выборке: 0.7270284571966134\n",
      "\n",
      "********************** 1 фолд обучен! ******************************\n",
      "\n",
      "\n",
      "==================== Обучение 2 фолда! ====================\n"
     ]
    },
    {
     "name": "stderr",
     "output_type": "stream",
     "text": [
      "\r",
      "2it [00:47, 25.39s/it]"
     ]
    },
    {
     "name": "stdout",
     "output_type": "stream",
     "text": [
      "BEST ITERATION:  1338\n",
      "ROC AUC на обучающей выборке: 0.9770135757252874\n",
      "ROC AUC на проверочной выборке: 0.749086564305873\n",
      "\n",
      "********************** 2 фолд обучен! ******************************\n",
      "\n",
      "\n",
      "==================== Обучение 3 фолда! ====================\n"
     ]
    },
    {
     "name": "stderr",
     "output_type": "stream",
     "text": [
      "3it [01:05, 21.68s/it]\n",
      "[I 2024-07-19 14:39:42,382] Trial 10 finished with value: 0.7310895248810052 and parameters: {'learning_rate': 0.0031470708498898344, 'depth': 9, 'subsample': 0.7569603230213713, 'colsample_bylevel': 0.406637793627066, 'l2_leaf_reg': 1.3272168863170015e-08}. Best is trial 0 with value: 0.7355003411155744.\n",
      "<timed exec>:3: FutureWarning: suggest_loguniform has been deprecated in v3.0.0. This feature will be removed in v6.0.0. See https://github.com/optuna/optuna/releases/tag/v3.0.0. Use suggest_float(..., log=True) instead.\n",
      "<timed exec>:11: FutureWarning: suggest_loguniform has been deprecated in v3.0.0. This feature will be removed in v6.0.0. See https://github.com/optuna/optuna/releases/tag/v3.0.0. Use suggest_float(..., log=True) instead.\n",
      "<timed exec>:12: FutureWarning: suggest_loguniform has been deprecated in v3.0.0. This feature will be removed in v6.0.0. See https://github.com/optuna/optuna/releases/tag/v3.0.0. Use suggest_float(..., log=True) instead.\n",
      "<timed exec>:13: FutureWarning: suggest_loguniform has been deprecated in v3.0.0. This feature will be removed in v6.0.0. See https://github.com/optuna/optuna/releases/tag/v3.0.0. Use suggest_float(..., log=True) instead.\n"
     ]
    },
    {
     "name": "stdout",
     "output_type": "stream",
     "text": [
      "BEST ITERATION:  662\n",
      "ROC AUC на обучающей выборке: 0.9281476784034404\n",
      "ROC AUC на проверочной выборке: 0.7171535531405291\n",
      "\n",
      "********************** 3 фолд обучен! ******************************\n",
      "\n",
      "\n",
      "\n",
      "Среднее значение ROC AUC: 0.7310895248810052\n"
     ]
    },
    {
     "name": "stderr",
     "output_type": "stream",
     "text": [
      "\r",
      "0it [00:00, ?it/s]"
     ]
    },
    {
     "name": "stdout",
     "output_type": "stream",
     "text": [
      "==================== Обучение 1 фолда! ====================\n"
     ]
    },
    {
     "name": "stderr",
     "output_type": "stream",
     "text": [
      "\r",
      "1it [00:27, 27.66s/it]"
     ]
    },
    {
     "name": "stdout",
     "output_type": "stream",
     "text": [
      "BEST ITERATION:  1148\n",
      "ROC AUC на обучающей выборке: 0.9665156128613727\n",
      "ROC AUC на проверочной выборке: 0.7306872396183308\n",
      "\n",
      "********************** 1 фолд обучен! ******************************\n",
      "\n",
      "\n",
      "==================== Обучение 2 фолда! ====================\n"
     ]
    },
    {
     "name": "stderr",
     "output_type": "stream",
     "text": [
      "\r",
      "2it [01:03, 32.25s/it]"
     ]
    },
    {
     "name": "stdout",
     "output_type": "stream",
     "text": [
      "BEST ITERATION:  1431\n",
      "ROC AUC на обучающей выборке: 0.9783771985292788\n",
      "ROC AUC на проверочной выборке: 0.7438407136137615\n",
      "\n",
      "********************** 2 фолд обучен! ******************************\n",
      "\n",
      "\n",
      "==================== Обучение 3 фолда! ====================\n"
     ]
    },
    {
     "name": "stderr",
     "output_type": "stream",
     "text": [
      "\r",
      "3it [01:43, 35.76s/it]"
     ]
    },
    {
     "name": "stdout",
     "output_type": "stream",
     "text": [
      "BEST ITERATION:  1369\n",
      "ROC AUC на обучающей выборке: 0.9763344560542937\n",
      "ROC AUC на проверочной выборке: 0.7202338467436236\n",
      "\n",
      "********************** 3 фолд обучен! ******************************\n",
      "\n",
      "\n"
     ]
    },
    {
     "name": "stderr",
     "output_type": "stream",
     "text": [
      "3it [01:43, 34.35s/it]\n",
      "[I 2024-07-19 14:41:25,486] Trial 11 finished with value: 0.7315872666585719 and parameters: {'learning_rate': 0.0031226897004413374, 'depth': 9, 'subsample': 0.7684396395436859, 'colsample_bylevel': 0.43263107847652826, 'l2_leaf_reg': 1.071262302642052e-08}. Best is trial 0 with value: 0.7355003411155744.\n",
      "<timed exec>:3: FutureWarning: suggest_loguniform has been deprecated in v3.0.0. This feature will be removed in v6.0.0. See https://github.com/optuna/optuna/releases/tag/v3.0.0. Use suggest_float(..., log=True) instead.\n",
      "<timed exec>:11: FutureWarning: suggest_loguniform has been deprecated in v3.0.0. This feature will be removed in v6.0.0. See https://github.com/optuna/optuna/releases/tag/v3.0.0. Use suggest_float(..., log=True) instead.\n",
      "<timed exec>:12: FutureWarning: suggest_loguniform has been deprecated in v3.0.0. This feature will be removed in v6.0.0. See https://github.com/optuna/optuna/releases/tag/v3.0.0. Use suggest_float(..., log=True) instead.\n",
      "<timed exec>:13: FutureWarning: suggest_loguniform has been deprecated in v3.0.0. This feature will be removed in v6.0.0. See https://github.com/optuna/optuna/releases/tag/v3.0.0. Use suggest_float(..., log=True) instead.\n"
     ]
    },
    {
     "name": "stdout",
     "output_type": "stream",
     "text": [
      "\n",
      "Среднее значение ROC AUC: 0.7315872666585719\n"
     ]
    },
    {
     "name": "stderr",
     "output_type": "stream",
     "text": [
      "\r",
      "0it [00:00, ?it/s]"
     ]
    },
    {
     "name": "stdout",
     "output_type": "stream",
     "text": [
      "==================== Обучение 1 фолда! ====================\n"
     ]
    },
    {
     "name": "stderr",
     "output_type": "stream",
     "text": [
      "\r",
      "1it [00:16, 16.41s/it]"
     ]
    },
    {
     "name": "stdout",
     "output_type": "stream",
     "text": [
      "BEST ITERATION:  1490\n",
      "ROC AUC на обучающей выборке: 0.8825622663658896\n",
      "ROC AUC на проверочной выборке: 0.7279368532455315\n",
      "\n",
      "********************** 1 фолд обучен! ******************************\n",
      "\n",
      "\n",
      "==================== Обучение 2 фолда! ====================\n"
     ]
    },
    {
     "name": "stderr",
     "output_type": "stream",
     "text": [
      "\r",
      "2it [00:33, 16.90s/it]"
     ]
    },
    {
     "name": "stdout",
     "output_type": "stream",
     "text": [
      "BEST ITERATION:  1498\n",
      "ROC AUC на обучающей выборке: 0.8744754852509836\n",
      "ROC AUC на проверочной выборке: 0.7231374311248489\n",
      "\n",
      "********************** 2 фолд обучен! ******************************\n",
      "\n",
      "\n",
      "==================== Обучение 3 фолда! ====================\n"
     ]
    },
    {
     "name": "stderr",
     "output_type": "stream",
     "text": [
      "3it [00:51, 17.06s/it]\n",
      "[I 2024-07-19 14:42:16,743] Trial 12 finished with value: 0.7245140895789605 and parameters: {'learning_rate': 0.0031534899565091386, 'depth': 7, 'subsample': 0.7454459882574158, 'colsample_bylevel': 0.4194682847354705, 'l2_leaf_reg': 1.353591482745086e-08}. Best is trial 0 with value: 0.7355003411155744.\n",
      "<timed exec>:3: FutureWarning: suggest_loguniform has been deprecated in v3.0.0. This feature will be removed in v6.0.0. See https://github.com/optuna/optuna/releases/tag/v3.0.0. Use suggest_float(..., log=True) instead.\n",
      "<timed exec>:11: FutureWarning: suggest_loguniform has been deprecated in v3.0.0. This feature will be removed in v6.0.0. See https://github.com/optuna/optuna/releases/tag/v3.0.0. Use suggest_float(..., log=True) instead.\n",
      "<timed exec>:12: FutureWarning: suggest_loguniform has been deprecated in v3.0.0. This feature will be removed in v6.0.0. See https://github.com/optuna/optuna/releases/tag/v3.0.0. Use suggest_float(..., log=True) instead.\n",
      "<timed exec>:13: FutureWarning: suggest_loguniform has been deprecated in v3.0.0. This feature will be removed in v6.0.0. See https://github.com/optuna/optuna/releases/tag/v3.0.0. Use suggest_float(..., log=True) instead.\n"
     ]
    },
    {
     "name": "stdout",
     "output_type": "stream",
     "text": [
      "BEST ITERATION:  1475\n",
      "ROC AUC на обучающей выборке: 0.8885184283026475\n",
      "ROC AUC на проверочной выборке: 0.7224679843665012\n",
      "\n",
      "********************** 3 фолд обучен! ******************************\n",
      "\n",
      "\n",
      "\n",
      "Среднее значение ROC AUC: 0.7245140895789605\n"
     ]
    },
    {
     "name": "stderr",
     "output_type": "stream",
     "text": [
      "\r",
      "0it [00:00, ?it/s]"
     ]
    },
    {
     "name": "stdout",
     "output_type": "stream",
     "text": [
      "==================== Обучение 1 фолда! ====================\n"
     ]
    },
    {
     "name": "stderr",
     "output_type": "stream",
     "text": [
      "\r",
      "1it [00:17, 17.47s/it]"
     ]
    },
    {
     "name": "stdout",
     "output_type": "stream",
     "text": [
      "BEST ITERATION:  1496\n",
      "ROC AUC на обучающей выборке: 0.9116071589882092\n",
      "ROC AUC на проверочной выборке: 0.727083473323478\n",
      "\n",
      "********************** 1 фолд обучен! ******************************\n",
      "\n",
      "\n",
      "==================== Обучение 2 фолда! ====================\n"
     ]
    },
    {
     "name": "stderr",
     "output_type": "stream",
     "text": [
      "\r",
      "2it [00:33, 16.89s/it]"
     ]
    },
    {
     "name": "stdout",
     "output_type": "stream",
     "text": [
      "BEST ITERATION:  1482\n",
      "ROC AUC на обучающей выборке: 0.9061407983086119\n",
      "ROC AUC на проверочной выборке: 0.7381484343502217\n",
      "\n",
      "********************** 2 фолд обучен! ******************************\n",
      "\n",
      "\n",
      "==================== Обучение 3 фолда! ====================\n"
     ]
    },
    {
     "name": "stderr",
     "output_type": "stream",
     "text": [
      "3it [00:49, 16.52s/it]\n",
      "[I 2024-07-19 14:43:06,362] Trial 13 finished with value: 0.7281514675200645 and parameters: {'learning_rate': 0.004464862079249608, 'depth': 7, 'subsample': 0.9969935915836993, 'colsample_bylevel': 0.8228619836203575, 'l2_leaf_reg': 0.0014684241744814565}. Best is trial 0 with value: 0.7355003411155744.\n",
      "<timed exec>:3: FutureWarning: suggest_loguniform has been deprecated in v3.0.0. This feature will be removed in v6.0.0. See https://github.com/optuna/optuna/releases/tag/v3.0.0. Use suggest_float(..., log=True) instead.\n",
      "<timed exec>:11: FutureWarning: suggest_loguniform has been deprecated in v3.0.0. This feature will be removed in v6.0.0. See https://github.com/optuna/optuna/releases/tag/v3.0.0. Use suggest_float(..., log=True) instead.\n",
      "<timed exec>:12: FutureWarning: suggest_loguniform has been deprecated in v3.0.0. This feature will be removed in v6.0.0. See https://github.com/optuna/optuna/releases/tag/v3.0.0. Use suggest_float(..., log=True) instead.\n",
      "<timed exec>:13: FutureWarning: suggest_loguniform has been deprecated in v3.0.0. This feature will be removed in v6.0.0. See https://github.com/optuna/optuna/releases/tag/v3.0.0. Use suggest_float(..., log=True) instead.\n"
     ]
    },
    {
     "name": "stdout",
     "output_type": "stream",
     "text": [
      "BEST ITERATION:  1496\n",
      "ROC AUC на обучающей выборке: 0.9184333422927025\n",
      "ROC AUC на проверочной выборке: 0.719222494886494\n",
      "\n",
      "********************** 3 фолд обучен! ******************************\n",
      "\n",
      "\n",
      "\n",
      "Среднее значение ROC AUC: 0.7281514675200645\n"
     ]
    },
    {
     "name": "stderr",
     "output_type": "stream",
     "text": [
      "\r",
      "0it [00:00, ?it/s]"
     ]
    },
    {
     "name": "stdout",
     "output_type": "stream",
     "text": [
      "==================== Обучение 1 фолда! ====================\n"
     ]
    },
    {
     "name": "stderr",
     "output_type": "stream",
     "text": [
      "\r",
      "1it [00:15, 15.16s/it]"
     ]
    },
    {
     "name": "stdout",
     "output_type": "stream",
     "text": [
      "BEST ITERATION:  1485\n",
      "ROC AUC на обучающей выборке: 0.7966316563006683\n",
      "ROC AUC на проверочной выборке: 0.716609830667921\n",
      "\n",
      "********************** 1 фолд обучен! ******************************\n",
      "\n",
      "\n",
      "==================== Обучение 2 фолда! ====================\n"
     ]
    },
    {
     "name": "stderr",
     "output_type": "stream",
     "text": [
      "\r",
      "2it [00:30, 15.31s/it]"
     ]
    },
    {
     "name": "stdout",
     "output_type": "stream",
     "text": [
      "BEST ITERATION:  1482\n",
      "ROC AUC на обучающей выборке: 0.7893647084922757\n",
      "ROC AUC на проверочной выборке: 0.7207868566052951\n",
      "\n",
      "********************** 2 фолд обучен! ******************************\n",
      "\n",
      "\n",
      "==================== Обучение 3 фолда! ====================\n"
     ]
    },
    {
     "name": "stderr",
     "output_type": "stream",
     "text": [
      "3it [00:48, 16.15s/it]\n",
      "[I 2024-07-19 14:43:54,870] Trial 14 finished with value: 0.7173134378989406 and parameters: {'learning_rate': 0.0010611604123800997, 'depth': 7, 'subsample': 0.7560149449252105, 'colsample_bylevel': 0.5143852941531146, 'l2_leaf_reg': 6.040424271553341e-06}. Best is trial 0 with value: 0.7355003411155744.\n"
     ]
    },
    {
     "name": "stdout",
     "output_type": "stream",
     "text": [
      "BEST ITERATION:  1485\n",
      "ROC AUC на обучающей выборке: 0.7981800581239081\n",
      "ROC AUC на проверочной выборке: 0.714543626423606\n",
      "\n",
      "********************** 3 фолд обучен! ******************************\n",
      "\n",
      "\n",
      "\n",
      "Среднее значение ROC AUC: 0.7173134378989406\n",
      "CPU times: total: 36min 48s\n",
      "Wall time: 8min 41s\n"
     ]
    }
   ],
   "source": [
    "%%time\n",
    "\n",
    "def create_model(trial):\n",
    "    \n",
    "    param = {'learning_rate':trial.suggest_loguniform('learning_rate', 0.0001, 1.0),\n",
    "             'iterations':1500,\n",
    "             'loss_function':'Logloss',\n",
    "             'thread_count':-1,\n",
    "             'random_state':42,\n",
    "             'eval_metric':'AUC',\n",
    "             'verbose':0,\n",
    "             'depth': trial.suggest_int('depth', 1, 9),\n",
    "             'subsample':trial.suggest_loguniform('subsample', 0.4, 1.0),\n",
    "             'colsample_bylevel':trial.suggest_loguniform('colsample_bylevel', 0.4, 1.0),\n",
    "             'l2_leaf_reg': trial.suggest_loguniform('l2_leaf_reg', 1e-8, 1.0)\n",
    "            }\n",
    "        \n",
    "    fit_params = {'early_stopping_rounds':150, \n",
    "                  'verbose':0}\n",
    "\n",
    "    # создаем экземпляр класса XGBClassifier\n",
    "    catb_model = CatBoostClassifier(**param)\n",
    "    \n",
    "    model = CustomCatboostCV(\n",
    "        main_estimator=catb_model, \n",
    "        main_fit_params=fit_params,\n",
    "        main_prep_pipe=prep_pipe,\n",
    "        main_features=num_cols+cat_cols,\n",
    "\n",
    "        train=train,\n",
    "        target=target_col)\n",
    "    \n",
    "    return model\n",
    "    \n",
    "def objective(trial):\n",
    "    my_model = create_model(trial)\n",
    "    my_model.model_fit_cv(strat=strat)\n",
    "    return my_model.mean_cv_scores\n",
    "\n",
    "sampler = TPESampler(seed=42)\n",
    "\n",
    "study = optuna.create_study(direction='maximize', sampler=sampler)\n",
    "study.optimize(objective, n_trials=15)"
   ]
  },
  {
   "cell_type": "code",
   "execution_count": 19,
   "id": "8d32ce22",
   "metadata": {},
   "outputs": [
    {
     "data": {
      "text/plain": [
       "{'iterations': 1500,\n",
       " 'loss_function': 'Logloss',\n",
       " 'thread_count': -1,\n",
       " 'random_state': 42,\n",
       " 'eval_metric': 'AUC',\n",
       " 'verbose': 0,\n",
       " 'learning_rate': 0.003148911647956862,\n",
       " 'depth': 9,\n",
       " 'subsample': 0.7822573760490122,\n",
       " 'colsample_bylevel': 0.6922933401417407,\n",
       " 'l2_leaf_reg': 1.77071686435378e-07}"
      ]
     },
     "execution_count": 19,
     "metadata": {},
     "output_type": "execute_result"
    }
   ],
   "source": [
    "params.update(study.best_params)\n",
    "model = CatBoostClassifier(**params)\n",
    "\n",
    "params"
   ]
  },
  {
   "cell_type": "code",
   "execution_count": 20,
   "id": "6778982d",
   "metadata": {},
   "outputs": [],
   "source": [
    "class CustomSelection(CustomCatboostCV):\n",
    "    \n",
    "    def __init__(self,\n",
    "                 train:pd.DataFrame,\n",
    "                 target:str, \n",
    "                 main_estimator:object, \n",
    "                 main_fit_params:dict,\n",
    "                 base_pipe:object=None, \n",
    "                 num_columns:list=None, \n",
    "                 cat_columns:list=None\n",
    "                 ):\n",
    "        \n",
    "        self.X_train = train.reset_index(drop=True).copy()\n",
    "        self.y_train = train[target].reset_index(drop=True).copy()\n",
    "\n",
    "        self.num_columns = num_columns\n",
    "        self.cat_columns = cat_columns        \n",
    "        self.main_features = num_columns+cat_columns\n",
    "        \n",
    "        self.main_estimator = main_estimator\n",
    "        self.main_fit_params = main_fit_params\n",
    "        self.base_pipe = base_pipe\n",
    "        self.main_prep_pipe = self.base_pipe(num_columns=self.num_columns, cat_columns=self.cat_columns)\n",
    "        \n",
    "    def _get_score_selection(self, X, estimator, model_type, metric):\n",
    "\n",
    "        y_predict = estimator.predict_proba(X)[:,1]\n",
    "\n",
    "        return y_predict\n",
    "        \n",
    "    def backward_selection(self, strat, tol:float=0.0)->list: \n",
    "        \n",
    "        self.main_features = self.num_columns+self.cat_columns\n",
    "        self.main_prep_pipe = self.base_pipe(num_columns=self.num_columns, cat_columns=self.cat_columns)\n",
    "        self.model_fit_cv(strat=strat)\n",
    "        self.mean_metric_folds = list()\n",
    "        for i in range(1,len(self._main_scores.keys())+1):\n",
    "            self.mean_metric_folds.append(self._main_scores[f'scores_{i}']['main_valid'])\n",
    "        self.mean_metric_folds = np.array(self.mean_metric_folds)\n",
    "        mean_metric_folds = np.mean(self.mean_metric_folds)\n",
    "        fi = self.get_fi()\n",
    "        features_imp = fi[fi['mean_importance']>0]['index'].to_list()[::-1]\n",
    "        \n",
    "        bselection_res = dict()\n",
    "        bselection_res['features_stack'] = None\n",
    "        \n",
    "        print('Средняя метрика на фолдах со всеми факторами: ',np.round(np.mean(self.mean_metric_folds),6))\n",
    "        print('==========================')\n",
    "        print('Конец обучения кросс-валидации!')\n",
    "        print()\n",
    "        \n",
    "        print('Начало глубокого жадного отбора факторов Backward Selection!')\n",
    "        print('==========================')\n",
    "\n",
    "        features_to_remove = list()\n",
    "        metric_mean_list = list()\n",
    "        diff_metric_list = list()\n",
    "        count = 1\n",
    "        \n",
    "        for i in notebook.tqdm(features_imp):\n",
    "            print(f'Проверяемый признак: {i}')\n",
    "            count = count + 1\n",
    "            \n",
    "            features_stack = self.X_train[features_imp].drop(features_to_remove + [i], axis=1).columns.tolist()[::-1]\n",
    "            \n",
    "            num_stack = list(filter(lambda x: x in self.num_columns, features_stack))\n",
    "            cat_stack = list(filter(lambda x: x in self.cat_columns, features_stack))            \n",
    "            \n",
    "            self.main_features = num_stack+cat_stack\n",
    "\n",
    "            self.main_prep_pipe = self.base_pipe(num_columns=num_stack,cat_columns=cat_stack)\n",
    "            \n",
    "            self.model_fit_cv(strat=strat)\n",
    "            \n",
    "            _fold_scores = list()\n",
    "            for j in range(1,len(self._main_scores.keys())+1):\n",
    "                _fold_scores.append(self._main_scores[f'scores_{j}']['main_valid'])\n",
    "            _fold_scores = np.array(_fold_scores)\n",
    "            mean_fold_scores = np.mean(_fold_scores)\n",
    "            \n",
    "            metric_mean_list.append(mean_fold_scores)\n",
    "            print(f'Количество признаков: {len(features_stack)} => метрика: {mean_fold_scores}')\n",
    "            print('Метрика модели со всеми признаками={}'.format((mean_metric_folds)))\n",
    "            \n",
    "            diff_metric = mean_metric_folds - mean_fold_scores\n",
    "            diff_metric_list.append(diff_metric)\n",
    "            \n",
    "            # сравниваем разницу метрики с порогом, заданным заранее\n",
    "            # если разница метрики больше или равна порогу, сохраняем\n",
    "                        \n",
    "            if diff_metric >= tol:\n",
    "                print('Разница метрики ={}'.format(diff_metric))\n",
    "                print('Сохраняем: ', i)\n",
    "                print\n",
    "            # если разница метрики меньше порога, удаляем\n",
    "            else:\n",
    "                print('Разница метрики ={}'.format(diff_metric))\n",
    "                print('Удаляем: ', i)\n",
    "                print\n",
    "\n",
    "                # если разница метрики меньше порога и мы удаляем признак,\n",
    "                # мы в качестве нового опорного значения метрики задаем\n",
    "                # значение метрики для модели с оставшимися признаками\n",
    "                mean_metric_folds = mean_fold_scores\n",
    "\n",
    "                # добавляем удаляемый признак в список\n",
    "                features_to_remove.append(i)\n",
    "                  \n",
    "        \n",
    "        # определяем признаки, которые мы хотим сохранить (не удаляем)\n",
    "        features_to_keep = [x for x in features_imp if x not in features_to_remove]\n",
    "        num_stack = list(filter(lambda x: x in self.num_columns, features_to_keep))\n",
    "        cat_stack = list(filter(lambda x: x in self.cat_columns, features_to_keep))\n",
    "        \n",
    "        bselection_res['features_stack'] = features_to_keep[::-1]\n",
    "        bselection_res['features_drop'] = features_to_remove\n",
    "        bselection_res['num_features_stack'] = num_stack[::-1]\n",
    "        bselection_res['cat_features_stack'] = cat_stack[::-1]\n",
    "        bselection_res['metric_alt'] = mean_metric_folds\n",
    "\n",
    "        print('Общее количество признаков для сохранения: ', len(features_to_keep))\n",
    "        print()    \n",
    "        print('==========================')\n",
    "        print(f'Конец жадного отбора факторов Backward Selection!')\n",
    "\n",
    "        self.deep_bselection_res = bselection_res\n",
    "        self.dbackward = True \n",
    "        \n",
    "        return features_to_keep[::-1]   "
   ]
  },
  {
   "cell_type": "code",
   "execution_count": 21,
   "id": "25a2608f",
   "metadata": {},
   "outputs": [
    {
     "name": "stderr",
     "output_type": "stream",
     "text": [
      "\r",
      "0it [00:00, ?it/s]"
     ]
    },
    {
     "name": "stdout",
     "output_type": "stream",
     "text": [
      "==================== Обучение 1 фолда! ====================\n"
     ]
    },
    {
     "name": "stderr",
     "output_type": "stream",
     "text": [
      "\r",
      "1it [00:29, 29.95s/it]"
     ]
    },
    {
     "name": "stdout",
     "output_type": "stream",
     "text": [
      "BEST ITERATION:  852\n",
      "ROC AUC на обучающей выборке: 0.9523162680557651\n",
      "ROC AUC на проверочной выборке: 0.7373202526542131\n",
      "\n",
      "********************** 1 фолд обучен! ******************************\n",
      "\n",
      "\n",
      "==================== Обучение 2 фолда! ====================\n"
     ]
    },
    {
     "name": "stderr",
     "output_type": "stream",
     "text": [
      "\r",
      "2it [01:05, 33.42s/it]"
     ]
    },
    {
     "name": "stdout",
     "output_type": "stream",
     "text": [
      "BEST ITERATION:  1084\n",
      "ROC AUC на обучающей выборке: 0.9701954617053289\n",
      "ROC AUC на проверочной выборке: 0.74400828181696\n",
      "\n",
      "********************** 2 фолд обучен! ******************************\n",
      "\n",
      "\n",
      "==================== Обучение 3 фолда! ====================\n"
     ]
    },
    {
     "name": "stderr",
     "output_type": "stream",
     "text": [
      "\r",
      "3it [01:50, 38.37s/it]"
     ]
    },
    {
     "name": "stdout",
     "output_type": "stream",
     "text": [
      "BEST ITERATION:  1339\n",
      "ROC AUC на обучающей выборке: 0.9783912612552076\n",
      "ROC AUC на проверочной выборке: 0.7251724888755499\n",
      "\n",
      "********************** 3 фолд обучен! ******************************\n",
      "\n",
      "\n"
     ]
    },
    {
     "name": "stderr",
     "output_type": "stream",
     "text": [
      "\r",
      "3it [01:50, 36.69s/it]"
     ]
    },
    {
     "name": "stdout",
     "output_type": "stream",
     "text": [
      "\n",
      "Среднее значение ROC AUC: 0.7355003411155744\n",
      "Средняя метрика на фолдах со всеми факторами:  0.7355\n",
      "==========================\n",
      "Конец обучения кросс-валидации!\n",
      "\n",
      "Начало глубокого жадного отбора факторов Backward Selection!\n",
      "==========================\n"
     ]
    },
    {
     "name": "stderr",
     "output_type": "stream",
     "text": [
      "\n"
     ]
    },
    {
     "data": {
      "application/vnd.jupyter.widget-view+json": {
       "model_id": "fca2b1e083a245598872c2cb70b3856f",
       "version_major": 2,
       "version_minor": 0
      },
      "text/plain": [
       "  0%|          | 0/27 [00:00<?, ?it/s]"
      ]
     },
     "metadata": {},
     "output_type": "display_data"
    },
    {
     "name": "stdout",
     "output_type": "stream",
     "text": [
      "Проверяемый признак: сигнал1\n"
     ]
    },
    {
     "name": "stderr",
     "output_type": "stream",
     "text": [
      "\n",
      "0it [00:00, ?it/s]\u001b[A"
     ]
    },
    {
     "name": "stdout",
     "output_type": "stream",
     "text": [
      "==================== Обучение 1 фолда! ====================\n"
     ]
    },
    {
     "name": "stderr",
     "output_type": "stream",
     "text": [
      "\n",
      "1it [00:11, 11.40s/it]\u001b[A"
     ]
    },
    {
     "name": "stdout",
     "output_type": "stream",
     "text": [
      "BEST ITERATION:  222\n",
      "ROC AUC на обучающей выборке: 0.850540029083337\n",
      "ROC AUC на проверочной выборке: 0.7236569345518076\n",
      "\n",
      "********************** 1 фолд обучен! ******************************\n",
      "\n",
      "\n",
      "==================== Обучение 2 фолда! ====================\n"
     ]
    },
    {
     "name": "stderr",
     "output_type": "stream",
     "text": [
      "\n",
      "2it [00:45, 24.46s/it]\u001b[A"
     ]
    },
    {
     "name": "stdout",
     "output_type": "stream",
     "text": [
      "BEST ITERATION:  1034\n",
      "ROC AUC на обучающей выборке: 0.9656342264071825\n",
      "ROC AUC на проверочной выборке: 0.7481697688482731\n",
      "\n",
      "********************** 2 фолд обучен! ******************************\n",
      "\n",
      "\n",
      "==================== Обучение 3 фолда! ====================\n"
     ]
    },
    {
     "name": "stderr",
     "output_type": "stream",
     "text": [
      "\n",
      "3it [01:22, 27.61s/it]\u001b[A\n"
     ]
    },
    {
     "name": "stdout",
     "output_type": "stream",
     "text": [
      "BEST ITERATION:  1117\n",
      "ROC AUC на обучающей выборке: 0.9713758651390942\n",
      "ROC AUC на проверочной выборке: 0.7193401916944724\n",
      "\n",
      "********************** 3 фолд обучен! ******************************\n",
      "\n",
      "\n",
      "\n",
      "Среднее значение ROC AUC: 0.7303889650315177\n",
      "Количество признаков: 26 => метрика: 0.7303889650315177\n",
      "Метрика модели со всеми признаками=0.7355003411155744\n",
      "Разница метрики =0.005111376084056651\n",
      "Сохраняем:  сигнал1\n",
      "Проверяемый признак: сигнал2\n"
     ]
    },
    {
     "name": "stderr",
     "output_type": "stream",
     "text": [
      "\n",
      "0it [00:00, ?it/s]\u001b[A"
     ]
    },
    {
     "name": "stdout",
     "output_type": "stream",
     "text": [
      "==================== Обучение 1 фолда! ====================\n"
     ]
    },
    {
     "name": "stderr",
     "output_type": "stream",
     "text": [
      "\n",
      "1it [00:13, 13.38s/it]\u001b[A"
     ]
    },
    {
     "name": "stdout",
     "output_type": "stream",
     "text": [
      "BEST ITERATION:  279\n",
      "ROC AUC на обучающей выборке: 0.8615180224675292\n",
      "ROC AUC на проверочной выборке: 0.7296280741835774\n",
      "\n",
      "********************** 1 фолд обучен! ******************************\n",
      "\n",
      "\n",
      "==================== Обучение 2 фолда! ====================\n"
     ]
    },
    {
     "name": "stderr",
     "output_type": "stream",
     "text": [
      "\n",
      "2it [00:46, 25.13s/it]\u001b[A"
     ]
    },
    {
     "name": "stdout",
     "output_type": "stream",
     "text": [
      "BEST ITERATION:  1054\n",
      "ROC AUC на обучающей выборке: 0.9683733414787966\n",
      "ROC AUC на проверочной выборке: 0.7442476649643864\n",
      "\n",
      "********************** 2 фолд обучен! ******************************\n",
      "\n",
      "\n",
      "==================== Обучение 3 фолда! ====================\n"
     ]
    },
    {
     "name": "stderr",
     "output_type": "stream",
     "text": [
      "\n",
      "3it [01:26, 28.94s/it]\u001b[A\n"
     ]
    },
    {
     "name": "stdout",
     "output_type": "stream",
     "text": [
      "BEST ITERATION:  1409\n",
      "ROC AUC на обучающей выборке: 0.9799896687273217\n",
      "ROC AUC на проверочной выборке: 0.7191754161633027\n",
      "\n",
      "********************** 3 фолд обучен! ******************************\n",
      "\n",
      "\n",
      "\n",
      "Среднее значение ROC AUC: 0.7310170517704222\n",
      "Количество признаков: 26 => метрика: 0.7310170517704222\n",
      "Метрика модели со всеми признаками=0.7355003411155744\n",
      "Разница метрики =0.004483289345152186\n",
      "Сохраняем:  сигнал2\n",
      "Проверяемый признак: сигнал5\n"
     ]
    },
    {
     "name": "stderr",
     "output_type": "stream",
     "text": [
      "\n",
      "0it [00:00, ?it/s]\u001b[A"
     ]
    },
    {
     "name": "stdout",
     "output_type": "stream",
     "text": [
      "==================== Обучение 1 фолда! ====================\n"
     ]
    },
    {
     "name": "stderr",
     "output_type": "stream",
     "text": [
      "\n",
      "1it [00:19, 19.93s/it]\u001b[A"
     ]
    },
    {
     "name": "stdout",
     "output_type": "stream",
     "text": [
      "BEST ITERATION:  529\n",
      "ROC AUC на обучающей выборке: 0.9052066820248421\n",
      "ROC AUC на проверочной выборке: 0.7339642689154684\n",
      "\n",
      "********************** 1 фолд обучен! ******************************\n",
      "\n",
      "\n",
      "==================== Обучение 2 фолда! ====================\n"
     ]
    },
    {
     "name": "stderr",
     "output_type": "stream",
     "text": [
      "\n",
      "2it [01:02, 33.36s/it]\u001b[A"
     ]
    },
    {
     "name": "stdout",
     "output_type": "stream",
     "text": [
      "BEST ITERATION:  1328\n",
      "ROC AUC на обучающей выборке: 0.9787882180972977\n",
      "ROC AUC на проверочной выборке: 0.7494133013035882\n",
      "\n",
      "********************** 2 фолд обучен! ******************************\n",
      "\n",
      "\n",
      "==================== Обучение 3 фолда! ====================\n"
     ]
    },
    {
     "name": "stderr",
     "output_type": "stream",
     "text": [
      "\n",
      "3it [01:39, 33.29s/it]\u001b[A\n"
     ]
    },
    {
     "name": "stdout",
     "output_type": "stream",
     "text": [
      "BEST ITERATION:  1066\n",
      "ROC AUC на обучающей выборке: 0.9686254787662949\n",
      "ROC AUC на проверочной выборке: 0.7202573861052193\n",
      "\n",
      "********************** 3 фолд обучен! ******************************\n",
      "\n",
      "\n",
      "\n",
      "Среднее значение ROC AUC: 0.7345449854414253\n",
      "Количество признаков: 26 => метрика: 0.7345449854414253\n",
      "Метрика модели со всеми признаками=0.7355003411155744\n",
      "Разница метрики =0.000955355674149061\n",
      "Сохраняем:  сигнал5\n",
      "Проверяемый признак: сигнал4\n"
     ]
    },
    {
     "name": "stderr",
     "output_type": "stream",
     "text": [
      "\n",
      "0it [00:00, ?it/s]\u001b[A"
     ]
    },
    {
     "name": "stdout",
     "output_type": "stream",
     "text": [
      "==================== Обучение 1 фолда! ====================\n"
     ]
    },
    {
     "name": "stderr",
     "output_type": "stream",
     "text": [
      "\n",
      "1it [00:26, 26.01s/it]\u001b[A"
     ]
    },
    {
     "name": "stdout",
     "output_type": "stream",
     "text": [
      "BEST ITERATION:  712\n",
      "ROC AUC на обучающей выборке: 0.9359193918464979\n",
      "ROC AUC на проверочной выборке: 0.7313730513371859\n",
      "\n",
      "********************** 1 фолд обучен! ******************************\n",
      "\n",
      "\n",
      "==================== Обучение 2 фолда! ====================\n"
     ]
    },
    {
     "name": "stderr",
     "output_type": "stream",
     "text": [
      "\n",
      "2it [01:08, 35.47s/it]\u001b[A"
     ]
    },
    {
     "name": "stdout",
     "output_type": "stream",
     "text": [
      "BEST ITERATION:  1262\n",
      "ROC AUC на обучающей выборке: 0.9749206636647777\n",
      "ROC AUC на проверочной выборке: 0.7463601162478162\n",
      "\n",
      "********************** 2 фолд обучен! ******************************\n",
      "\n",
      "\n",
      "==================== Обучение 3 фолда! ====================\n"
     ]
    },
    {
     "name": "stderr",
     "output_type": "stream",
     "text": [
      "\n",
      "3it [01:44, 34.92s/it]\u001b[A\n"
     ]
    },
    {
     "name": "stdout",
     "output_type": "stream",
     "text": [
      "BEST ITERATION:  1129\n",
      "ROC AUC на обучающей выборке: 0.9724799674102943\n",
      "ROC AUC на проверочной выборке: 0.7179055516743632\n",
      "\n",
      "********************** 3 фолд обучен! ******************************\n",
      "\n",
      "\n",
      "\n",
      "Среднее значение ROC AUC: 0.731879573086455\n",
      "Количество признаков: 26 => метрика: 0.731879573086455\n",
      "Метрика модели со всеми признаками=0.7355003411155744\n",
      "Разница метрики =0.00362076802911937\n",
      "Сохраняем:  сигнал4\n",
      "Проверяемый признак: сигнал3\n"
     ]
    },
    {
     "name": "stderr",
     "output_type": "stream",
     "text": [
      "\n",
      "0it [00:00, ?it/s]\u001b[A"
     ]
    },
    {
     "name": "stdout",
     "output_type": "stream",
     "text": [
      "==================== Обучение 1 фолда! ====================\n"
     ]
    },
    {
     "name": "stderr",
     "output_type": "stream",
     "text": [
      "\n",
      "1it [00:24, 24.25s/it]\u001b[A"
     ]
    },
    {
     "name": "stdout",
     "output_type": "stream",
     "text": [
      "BEST ITERATION:  671\n",
      "ROC AUC на обучающей выборке: 0.9285500305244792\n",
      "ROC AUC на проверочной выборке: 0.7263187071630157\n",
      "\n",
      "********************** 1 фолд обучен! ******************************\n",
      "\n",
      "\n",
      "==================== Обучение 2 фолда! ====================\n"
     ]
    },
    {
     "name": "stderr",
     "output_type": "stream",
     "text": [
      "\n",
      "2it [00:58, 30.33s/it]\u001b[A"
     ]
    },
    {
     "name": "stdout",
     "output_type": "stream",
     "text": [
      "BEST ITERATION:  1029\n",
      "ROC AUC на обучающей выборке: 0.9640472896237359\n",
      "ROC AUC на проверочной выборке: 0.7394961194731892\n",
      "\n",
      "********************** 2 фолд обучен! ******************************\n",
      "\n",
      "\n",
      "==================== Обучение 3 фолда! ====================\n"
     ]
    },
    {
     "name": "stderr",
     "output_type": "stream",
     "text": [
      "\n",
      "3it [01:42, 34.05s/it]\u001b[A\n"
     ]
    },
    {
     "name": "stdout",
     "output_type": "stream",
     "text": [
      "BEST ITERATION:  1488\n",
      "ROC AUC на обучающей выборке: 0.9799776995699503\n",
      "ROC AUC на проверочной выборке: 0.7247727400741658\n",
      "\n",
      "********************** 3 фолд обучен! ******************************\n",
      "\n",
      "\n",
      "\n",
      "Среднее значение ROC AUC: 0.7301958555701235\n",
      "Количество признаков: 26 => метрика: 0.7301958555701235\n",
      "Метрика модели со всеми признаками=0.7355003411155744\n",
      "Разница метрики =0.005304485545450932\n",
      "Сохраняем:  сигнал3\n",
      "Проверяемый признак: Повышенияцензакрытия\n"
     ]
    },
    {
     "name": "stderr",
     "output_type": "stream",
     "text": [
      "\n",
      "0it [00:00, ?it/s]\u001b[A"
     ]
    },
    {
     "name": "stdout",
     "output_type": "stream",
     "text": [
      "==================== Обучение 1 фолда! ====================\n"
     ]
    },
    {
     "name": "stderr",
     "output_type": "stream",
     "text": [
      "\n",
      "1it [00:26, 26.34s/it]\u001b[A"
     ]
    },
    {
     "name": "stdout",
     "output_type": "stream",
     "text": [
      "BEST ITERATION:  858\n",
      "ROC AUC на обучающей выборке: 0.9489072110457859\n",
      "ROC AUC на проверочной выборке: 0.722555772073646\n",
      "\n",
      "********************** 1 фолд обучен! ******************************\n",
      "\n",
      "\n",
      "==================== Обучение 2 фолда! ====================\n",
      "BEST ITERATION:  1490\n"
     ]
    },
    {
     "name": "stderr",
     "output_type": "stream",
     "text": [
      "\n",
      "2it [01:07, 34.95s/it]\u001b[A"
     ]
    },
    {
     "name": "stdout",
     "output_type": "stream",
     "text": [
      "ROC AUC на обучающей выборке: 0.9808929996214378\n",
      "ROC AUC на проверочной выборке: 0.744430772073646\n",
      "\n",
      "********************** 2 фолд обучен! ******************************\n",
      "\n",
      "\n",
      "==================== Обучение 3 фолда! ====================\n"
     ]
    },
    {
     "name": "stderr",
     "output_type": "stream",
     "text": [
      "\n",
      "3it [01:40, 33.48s/it]\u001b[A\n"
     ]
    },
    {
     "name": "stdout",
     "output_type": "stream",
     "text": [
      "BEST ITERATION:  1001\n",
      "ROC AUC на обучающей выборке: 0.9654765404515523\n",
      "ROC AUC на проверочной выборке: 0.7194108097792596\n",
      "\n",
      "********************** 3 фолд обучен! ******************************\n",
      "\n",
      "\n",
      "\n",
      "Среднее значение ROC AUC: 0.7287991179755172\n",
      "Количество признаков: 26 => метрика: 0.7287991179755172\n",
      "Метрика модели со всеми признаками=0.7355003411155744\n",
      "Разница метрики =0.0067012231400571665\n",
      "Сохраняем:  Повышенияцензакрытия\n",
      "Проверяемый признак: Пониженияцензакрытия\n"
     ]
    },
    {
     "name": "stderr",
     "output_type": "stream",
     "text": [
      "\n",
      "0it [00:00, ?it/s]\u001b[A"
     ]
    },
    {
     "name": "stdout",
     "output_type": "stream",
     "text": [
      "==================== Обучение 1 фолда! ====================\n"
     ]
    },
    {
     "name": "stderr",
     "output_type": "stream",
     "text": [
      "\n",
      "1it [00:30, 30.05s/it]\u001b[A"
     ]
    },
    {
     "name": "stdout",
     "output_type": "stream",
     "text": [
      "BEST ITERATION:  987\n",
      "ROC AUC на обучающей выборке: 0.9608378076659508\n",
      "ROC AUC на проверочной выборке: 0.7317955415938717\n",
      "\n",
      "********************** 1 фолд обучен! ******************************\n",
      "\n",
      "\n",
      "==================== Обучение 2 фолда! ====================\n"
     ]
    },
    {
     "name": "stderr",
     "output_type": "stream",
     "text": [
      "\n",
      "2it [01:13, 38.20s/it]\u001b[A"
     ]
    },
    {
     "name": "stdout",
     "output_type": "stream",
     "text": [
      "BEST ITERATION:  1453\n",
      "ROC AUC на обучающей выборке: 0.9790471404676443\n",
      "ROC AUC на проверочной выборке: 0.7448053857008466\n",
      "\n",
      "********************** 2 фолд обучен! ******************************\n",
      "\n",
      "\n",
      "==================== Обучение 3 фолда! ====================\n"
     ]
    },
    {
     "name": "stderr",
     "output_type": "stream",
     "text": [
      "\n",
      "3it [01:35, 31.77s/it]\u001b[A\n"
     ]
    },
    {
     "name": "stdout",
     "output_type": "stream",
     "text": [
      "BEST ITERATION:  648\n",
      "ROC AUC на обучающей выборке: 0.9303439137884693\n",
      "ROC AUC на проверочной выборке: 0.7188702451540442\n",
      "\n",
      "********************** 3 фолд обучен! ******************************\n",
      "\n",
      "\n",
      "\n",
      "Среднее значение ROC AUC: 0.7318237241495874\n",
      "Количество признаков: 26 => метрика: 0.7318237241495874\n",
      "Метрика модели со всеми признаками=0.7355003411155744\n",
      "Разница метрики =0.0036766169659869785\n",
      "Сохраняем:  Пониженияцензакрытия\n",
      "Проверяемый признак: уровеньликвидности\n"
     ]
    },
    {
     "name": "stderr",
     "output_type": "stream",
     "text": [
      "\n",
      "0it [00:00, ?it/s]\u001b[A"
     ]
    },
    {
     "name": "stdout",
     "output_type": "stream",
     "text": [
      "==================== Обучение 1 фолда! ====================\n"
     ]
    },
    {
     "name": "stderr",
     "output_type": "stream",
     "text": [
      "\n",
      "1it [00:16, 16.85s/it]\u001b[A"
     ]
    },
    {
     "name": "stdout",
     "output_type": "stream",
     "text": [
      "BEST ITERATION:  422\n",
      "ROC AUC на обучающей выборке: 0.8880686470954267\n",
      "ROC AUC на проверочной выборке: 0.7301379182905523\n",
      "\n",
      "********************** 1 фолд обучен! ******************************\n",
      "\n",
      "\n",
      "==================== Обучение 2 фолда! ====================\n"
     ]
    },
    {
     "name": "stderr",
     "output_type": "stream",
     "text": [
      "\n",
      "2it [01:00, 32.52s/it]\u001b[A"
     ]
    },
    {
     "name": "stdout",
     "output_type": "stream",
     "text": [
      "BEST ITERATION:  1440\n",
      "ROC AUC на обучающей выборке: 0.9804107632716359\n",
      "ROC AUC на проверочной выборке: 0.7416803857008467\n",
      "\n",
      "********************** 2 фолд обучен! ******************************\n",
      "\n",
      "\n",
      "==================== Обучение 3 фолда! ====================\n"
     ]
    },
    {
     "name": "stderr",
     "output_type": "stream",
     "text": [
      "\n",
      "3it [04:56, 98.86s/it] \u001b[A\n"
     ]
    },
    {
     "name": "stdout",
     "output_type": "stream",
     "text": [
      "BEST ITERATION:  1137\n",
      "ROC AUC на обучающей выборке: 0.9711287125386373\n",
      "ROC AUC на проверочной выборке: 0.7215978686789459\n",
      "\n",
      "********************** 3 фолд обучен! ******************************\n",
      "\n",
      "\n",
      "\n",
      "Среднее значение ROC AUC: 0.7311387242234483\n",
      "Количество признаков: 26 => метрика: 0.7311387242234483\n",
      "Метрика модели со всеми признаками=0.7355003411155744\n",
      "Разница метрики =0.004361616892126108\n",
      "Сохраняем:  уровеньликвидности\n",
      "Проверяемый признак: котировальныйсписок\n"
     ]
    },
    {
     "name": "stderr",
     "output_type": "stream",
     "text": [
      "\n",
      "0it [00:00, ?it/s]\u001b[A"
     ]
    },
    {
     "name": "stdout",
     "output_type": "stream",
     "text": [
      "==================== Обучение 1 фолда! ====================\n"
     ]
    },
    {
     "name": "stderr",
     "output_type": "stream",
     "text": [
      "\n",
      "1it [00:25, 25.15s/it]\u001b[A"
     ]
    },
    {
     "name": "stdout",
     "output_type": "stream",
     "text": [
      "BEST ITERATION:  658\n",
      "ROC AUC на обучающей выборке: 0.9239531868354414\n",
      "ROC AUC на проверочной выборке: 0.7320588630560408\n",
      "\n",
      "********************** 1 фолд обучен! ******************************\n",
      "\n",
      "\n",
      "==================== Обучение 2 фолда! ====================\n"
     ]
    },
    {
     "name": "stderr",
     "output_type": "stream",
     "text": [
      "\n",
      "2it [01:01, 31.92s/it]\u001b[A"
     ]
    },
    {
     "name": "stdout",
     "output_type": "stream",
     "text": [
      "BEST ITERATION:  1064\n",
      "ROC AUC на обучающей выборке: 0.9690551528807924\n",
      "ROC AUC на проверочной выборке: 0.7418479539040452\n",
      "\n",
      "********************** 2 фолд обучен! ******************************\n",
      "\n",
      "\n",
      "==================== Обучение 3 фолда! ====================\n",
      "BEST ITERATION:  1319\n"
     ]
    },
    {
     "name": "stderr",
     "output_type": "stream",
     "text": [
      "\n",
      "3it [01:46, 35.54s/it]\u001b[A\n"
     ]
    },
    {
     "name": "stdout",
     "output_type": "stream",
     "text": [
      "ROC AUC на обучающей выборке: 0.976521762867894\n",
      "ROC AUC на проверочной выборке: 0.7243729912727817\n",
      "\n",
      "********************** 3 фолд обучен! ******************************\n",
      "\n",
      "\n",
      "\n",
      "Среднее значение ROC AUC: 0.7327599360776226\n",
      "Количество признаков: 26 => метрика: 0.7327599360776226\n",
      "Метрика модели со всеми признаками=0.7355003411155744\n",
      "Разница метрики =0.0027404050379518097\n",
      "Сохраняем:  котировальныйсписок\n",
      "Проверяемый признак: EMA12\n"
     ]
    },
    {
     "name": "stderr",
     "output_type": "stream",
     "text": [
      "\n",
      "0it [00:00, ?it/s]\u001b[A"
     ]
    },
    {
     "name": "stdout",
     "output_type": "stream",
     "text": [
      "==================== Обучение 1 фолда! ====================\n"
     ]
    },
    {
     "name": "stderr",
     "output_type": "stream",
     "text": [
      "\n",
      "1it [00:29, 29.96s/it]\u001b[A"
     ]
    },
    {
     "name": "stdout",
     "output_type": "stream",
     "text": [
      "BEST ITERATION:  910\n",
      "ROC AUC на обучающей выборке: 0.9577114119535791\n",
      "ROC AUC на проверочной выборке: 0.7228825090713614\n",
      "\n",
      "********************** 1 фолд обучен! ******************************\n",
      "\n",
      "\n",
      "==================== Обучение 2 фолда! ====================\n"
     ]
    },
    {
     "name": "stderr",
     "output_type": "stream",
     "text": [
      "\n",
      "2it [01:02, 31.46s/it]\u001b[A"
     ]
    },
    {
     "name": "stdout",
     "output_type": "stream",
     "text": [
      "BEST ITERATION:  1004\n",
      "ROC AUC на обучающей выборке: 0.9624603528402891\n",
      "ROC AUC на проверочной выборке: 0.7451883987367288\n",
      "\n",
      "********************** 2 фолд обучен! ******************************\n",
      "\n",
      "\n",
      "==================== Обучение 3 фолда! ====================\n"
     ]
    },
    {
     "name": "stderr",
     "output_type": "stream",
     "text": [
      "\n",
      "3it [01:30, 30.31s/it]\u001b[A\n"
     ]
    },
    {
     "name": "stdout",
     "output_type": "stream",
     "text": [
      "BEST ITERATION:  744\n",
      "ROC AUC на обучающей выборке: 0.9407554008197823\n",
      "ROC AUC на проверочной выборке: 0.7190581397010669\n",
      "\n",
      "********************** 3 фолд обучен! ******************************\n",
      "\n",
      "\n",
      "\n",
      "Среднее значение ROC AUC: 0.7290430158363858\n",
      "Количество признаков: 26 => метрика: 0.7290430158363858\n",
      "Метрика модели со всеми признаками=0.7355003411155744\n",
      "Разница метрики =0.00645732527918863\n",
      "Сохраняем:  EMA12\n",
      "Проверяемый признак: PriceChangePreviousDay\n"
     ]
    },
    {
     "name": "stderr",
     "output_type": "stream",
     "text": [
      "\n",
      "0it [00:00, ?it/s]\u001b[A"
     ]
    },
    {
     "name": "stdout",
     "output_type": "stream",
     "text": [
      "==================== Обучение 1 фолда! ====================\n"
     ]
    },
    {
     "name": "stderr",
     "output_type": "stream",
     "text": [
      "\n",
      "1it [00:06,  6.72s/it]\u001b[A"
     ]
    },
    {
     "name": "stdout",
     "output_type": "stream",
     "text": [
      "BEST ITERATION:  60\n",
      "ROC AUC на обучающей выборке: 0.8037346374477586\n",
      "ROC AUC на проверочной выборке: 0.7264396586480313\n",
      "\n",
      "********************** 1 фолд обучен! ******************************\n",
      "\n",
      "\n",
      "==================== Обучение 2 фолда! ====================\n",
      "BEST ITERATION:  1292\n"
     ]
    },
    {
     "name": "stderr",
     "output_type": "stream",
     "text": [
      "\n",
      "2it [00:49, 27.66s/it]\u001b[A"
     ]
    },
    {
     "name": "stdout",
     "output_type": "stream",
     "text": [
      "ROC AUC на обучающей выборке: 0.9749562720556693\n",
      "ROC AUC на проверочной выборке: 0.7458418727321595\n",
      "\n",
      "********************** 2 фолд обучен! ******************************\n",
      "\n",
      "\n",
      "==================== Обучение 3 фолда! ====================\n"
     ]
    },
    {
     "name": "stderr",
     "output_type": "stream",
     "text": [
      "\n",
      "3it [01:15, 25.24s/it]\u001b[A\n"
     ]
    },
    {
     "name": "stdout",
     "output_type": "stream",
     "text": [
      "BEST ITERATION:  738\n",
      "ROC AUC на обучающей выборке: 0.9436571865340679\n",
      "ROC AUC на проверочной выборке: 0.7224684047122438\n",
      "\n",
      "********************** 3 фолд обучен! ******************************\n",
      "\n",
      "\n",
      "\n",
      "Среднее значение ROC AUC: 0.7315833120308115\n",
      "Количество признаков: 26 => метрика: 0.7315833120308115\n",
      "Метрика модели со всеми признаками=0.7355003411155744\n",
      "Разница метрики =0.00391702908476288\n",
      "Сохраняем:  PriceChangePreviousDay\n",
      "Проверяемый признак: Отрасль\n"
     ]
    },
    {
     "name": "stderr",
     "output_type": "stream",
     "text": [
      "\n",
      "0it [00:00, ?it/s]\u001b[A"
     ]
    },
    {
     "name": "stdout",
     "output_type": "stream",
     "text": [
      "==================== Обучение 1 фолда! ====================\n"
     ]
    },
    {
     "name": "stderr",
     "output_type": "stream",
     "text": [
      "\n",
      "1it [00:24, 24.76s/it]\u001b[A"
     ]
    },
    {
     "name": "stdout",
     "output_type": "stream",
     "text": [
      "BEST ITERATION:  653\n",
      "ROC AUC на обучающей выборке: 0.9268918769592491\n",
      "ROC AUC на проверочной выборке: 0.7231218922187878\n",
      "\n",
      "********************** 1 фолд обучен! ******************************\n",
      "\n",
      "\n",
      "==================== Обучение 2 фолда! ====================\n"
     ]
    },
    {
     "name": "stderr",
     "output_type": "stream",
     "text": [
      "\n",
      "2it [01:09, 36.62s/it]\u001b[A"
     ]
    },
    {
     "name": "stdout",
     "output_type": "stream",
     "text": [
      "BEST ITERATION:  1495\n",
      "ROC AUC на обучающей выборке: 0.9788238264881891\n",
      "ROC AUC на проверочной выборке: 0.7506568337589034\n",
      "\n",
      "********************** 2 фолд обучен! ******************************\n",
      "\n",
      "\n",
      "==================== Обучение 3 фолда! ====================\n"
     ]
    },
    {
     "name": "stderr",
     "output_type": "stream",
     "text": [
      "\n",
      "3it [01:51, 37.06s/it]\u001b[A\n"
     ]
    },
    {
     "name": "stdout",
     "output_type": "stream",
     "text": [
      "BEST ITERATION:  1183\n",
      "ROC AUC на обучающей выборке: 0.9722806914393226\n",
      "ROC AUC на проверочной выборке: 0.7211510411543702\n",
      "\n",
      "********************** 3 фолд обучен! ******************************\n",
      "\n",
      "\n",
      "\n",
      "Среднее значение ROC AUC: 0.731643255710687\n",
      "Количество признаков: 26 => метрика: 0.731643255710687\n",
      "Метрика модели со всеми признаками=0.7355003411155744\n",
      "Разница метрики =0.0038570854048873837\n",
      "Сохраняем:  Отрасль\n",
      "Проверяемый признак: PriceChangeDay\n"
     ]
    },
    {
     "name": "stderr",
     "output_type": "stream",
     "text": [
      "\n",
      "0it [00:00, ?it/s]\u001b[A"
     ]
    },
    {
     "name": "stdout",
     "output_type": "stream",
     "text": [
      "==================== Обучение 1 фолда! ====================\n"
     ]
    },
    {
     "name": "stderr",
     "output_type": "stream",
     "text": [
      "\n",
      "1it [00:31, 31.14s/it]\u001b[A"
     ]
    },
    {
     "name": "stdout",
     "output_type": "stream",
     "text": [
      "BEST ITERATION:  931\n",
      "ROC AUC на обучающей выборке: 0.9576758035626878\n",
      "ROC AUC на проверочной выборке: 0.731157606504502\n",
      "\n",
      "********************** 1 фолд обучен! ******************************\n",
      "\n",
      "\n",
      "==================== Обучение 2 фолда! ====================\n"
     ]
    },
    {
     "name": "stderr",
     "output_type": "stream",
     "text": [
      "\n",
      "2it [00:45, 21.06s/it]\u001b[A"
     ]
    },
    {
     "name": "stdout",
     "output_type": "stream",
     "text": [
      "BEST ITERATION:  363\n",
      "ROC AUC на обучающей выборке: 0.8669725136834959\n",
      "ROC AUC на проверочной выборке: 0.7361808728665502\n",
      "\n",
      "********************** 2 фолд обучен! ******************************\n",
      "\n",
      "\n",
      "==================== Обучение 3 фолда! ====================\n"
     ]
    },
    {
     "name": "stderr",
     "output_type": "stream",
     "text": [
      "\n",
      "3it [01:26, 28.91s/it]\u001b[A\n"
     ]
    },
    {
     "name": "stdout",
     "output_type": "stream",
     "text": [
      "BEST ITERATION:  1491\n",
      "ROC AUC на обучающей выборке: 0.9817873521704072\n",
      "ROC AUC на проверочной выборке: 0.7298290790140707\n",
      "\n",
      "********************** 3 фолд обучен! ******************************\n",
      "\n",
      "\n",
      "\n",
      "Среднее значение ROC AUC: 0.7323891861283743\n",
      "Количество признаков: 26 => метрика: 0.7323891861283743\n",
      "Метрика модели со всеми признаками=0.7355003411155744\n",
      "Разница метрики =0.003111154987200049\n",
      "Сохраняем:  PriceChangeDay\n",
      "Проверяемый признак: RSI\n"
     ]
    },
    {
     "name": "stderr",
     "output_type": "stream",
     "text": [
      "\n",
      "0it [00:00, ?it/s]\u001b[A"
     ]
    },
    {
     "name": "stdout",
     "output_type": "stream",
     "text": [
      "==================== Обучение 1 фолда! ====================\n"
     ]
    },
    {
     "name": "stderr",
     "output_type": "stream",
     "text": [
      "\n",
      "1it [00:26, 26.08s/it]\u001b[A"
     ]
    },
    {
     "name": "stdout",
     "output_type": "stream",
     "text": [
      "BEST ITERATION:  776\n",
      "ROC AUC на обучающей выборке: 0.9464507572717797\n",
      "ROC AUC на проверочной выборке: 0.7341473760247279\n",
      "\n",
      "********************** 1 фолд обучен! ******************************\n",
      "\n",
      "\n",
      "==================== Обучение 2 фолда! ====================\n"
     ]
    },
    {
     "name": "stderr",
     "output_type": "stream",
     "text": [
      "\n",
      "2it [00:54, 27.50s/it]\u001b[A"
     ]
    },
    {
     "name": "stdout",
     "output_type": "stream",
     "text": [
      "BEST ITERATION:  935\n",
      "ROC AUC на обучающей выборке: 0.9582173872306418\n",
      "ROC AUC на проверочной выборке: 0.7364429344174168\n",
      "\n",
      "********************** 2 фолд обучен! ******************************\n",
      "\n",
      "\n",
      "==================== Обучение 3 фолда! ====================\n"
     ]
    },
    {
     "name": "stderr",
     "output_type": "stream",
     "text": [
      "\n",
      "3it [01:16, 25.42s/it]\u001b[A\n"
     ]
    },
    {
     "name": "stdout",
     "output_type": "stream",
     "text": [
      "BEST ITERATION:  674\n",
      "ROC AUC на обучающей выборке: 0.9382282287326973\n",
      "ROC AUC на проверочной выборке: 0.7183763389062772\n",
      "\n",
      "********************** 3 фолд обучен! ******************************\n",
      "\n",
      "\n",
      "\n",
      "Среднее значение ROC AUC: 0.7296555497828073\n",
      "Количество признаков: 26 => метрика: 0.7296555497828073\n",
      "Метрика модели со всеми признаками=0.7355003411155744\n",
      "Разница метрики =0.005844791332767052\n",
      "Сохраняем:  RSI\n",
      "Проверяемый признак: RS\n"
     ]
    },
    {
     "name": "stderr",
     "output_type": "stream",
     "text": [
      "\n",
      "0it [00:00, ?it/s]\u001b[A"
     ]
    },
    {
     "name": "stdout",
     "output_type": "stream",
     "text": [
      "==================== Обучение 1 фолда! ====================\n"
     ]
    },
    {
     "name": "stderr",
     "output_type": "stream",
     "text": [
      "\n",
      "1it [00:25, 25.18s/it]\u001b[A"
     ]
    },
    {
     "name": "stdout",
     "output_type": "stream",
     "text": [
      "BEST ITERATION:  776\n",
      "ROC AUC на обучающей выборке: 0.9464507572717797\n",
      "ROC AUC на проверочной выборке: 0.7341473760247279\n",
      "\n",
      "********************** 1 фолд обучен! ******************************\n",
      "\n",
      "\n",
      "==================== Обучение 2 фолда! ====================\n"
     ]
    },
    {
     "name": "stderr",
     "output_type": "stream",
     "text": [
      "\n",
      "2it [00:55, 28.22s/it]\u001b[A"
     ]
    },
    {
     "name": "stdout",
     "output_type": "stream",
     "text": [
      "BEST ITERATION:  935\n",
      "ROC AUC на обучающей выборке: 0.9582173872306418\n",
      "ROC AUC на проверочной выборке: 0.7364429344174168\n",
      "\n",
      "********************** 2 фолд обучен! ******************************\n",
      "\n",
      "\n",
      "==================== Обучение 3 фолда! ====================\n"
     ]
    },
    {
     "name": "stderr",
     "output_type": "stream",
     "text": [
      "\n",
      "3it [01:19, 26.65s/it]\u001b[A\n"
     ]
    },
    {
     "name": "stdout",
     "output_type": "stream",
     "text": [
      "BEST ITERATION:  674\n",
      "ROC AUC на обучающей выборке: 0.9382282287326973\n",
      "ROC AUC на проверочной выборке: 0.7183763389062772\n",
      "\n",
      "********************** 3 фолд обучен! ******************************\n",
      "\n",
      "\n",
      "\n",
      "Среднее значение ROC AUC: 0.7296555497828073\n",
      "Количество признаков: 26 => метрика: 0.7296555497828073\n",
      "Метрика модели со всеми признаками=0.7355003411155744\n",
      "Разница метрики =0.005844791332767052\n",
      "Сохраняем:  RS\n",
      "Проверяемый признак: Среднееповышение7\n"
     ]
    },
    {
     "name": "stderr",
     "output_type": "stream",
     "text": [
      "\n",
      "0it [00:00, ?it/s]\u001b[A"
     ]
    },
    {
     "name": "stdout",
     "output_type": "stream",
     "text": [
      "==================== Обучение 1 фолда! ====================\n"
     ]
    },
    {
     "name": "stderr",
     "output_type": "stream",
     "text": [
      "\n",
      "1it [00:25, 25.15s/it]\u001b[A"
     ]
    },
    {
     "name": "stdout",
     "output_type": "stream",
     "text": [
      "BEST ITERATION:  726\n",
      "ROC AUC на обучающей выборке: 0.9365537253939716\n",
      "ROC AUC на проверочной выборке: 0.7304323175648434\n",
      "\n",
      "********************** 1 фолд обучен! ******************************\n",
      "\n",
      "\n",
      "==================== Обучение 2 фолда! ====================\n"
     ]
    },
    {
     "name": "stderr",
     "output_type": "stream",
     "text": [
      "\n",
      "2it [01:05, 34.24s/it]\u001b[A"
     ]
    },
    {
     "name": "stdout",
     "output_type": "stream",
     "text": [
      "BEST ITERATION:  1495\n",
      "ROC AUC на обучающей выборке: 0.9816222888779554\n",
      "ROC AUC на проверочной выборке: 0.7456743045289612\n",
      "\n",
      "********************** 2 фолд обучен! ******************************\n",
      "\n",
      "\n",
      "==================== Обучение 3 фолда! ====================\n"
     ]
    },
    {
     "name": "stderr",
     "output_type": "stream",
     "text": [
      "\n",
      "3it [01:20, 26.94s/it]\u001b[A\n"
     ]
    },
    {
     "name": "stdout",
     "output_type": "stream",
     "text": [
      "BEST ITERATION:  423\n",
      "ROC AUC на обучающей выборке: 0.8965906800161267\n",
      "ROC AUC на проверочной выборке: 0.7156016366581841\n",
      "\n",
      "********************** 3 фолд обучен! ******************************\n",
      "\n",
      "\n",
      "\n",
      "Среднее значение ROC AUC: 0.7305694195839963\n",
      "Количество признаков: 26 => метрика: 0.7305694195839963\n",
      "Метрика модели со всеми признаками=0.7355003411155744\n",
      "Разница метрики =0.004930921531578036\n",
      "Сохраняем:  Среднееповышение7\n",
      "Проверяемый признак: БыстраяMACD\n"
     ]
    },
    {
     "name": "stderr",
     "output_type": "stream",
     "text": [
      "\n",
      "0it [00:00, ?it/s]\u001b[A"
     ]
    },
    {
     "name": "stdout",
     "output_type": "stream",
     "text": [
      "==================== Обучение 1 фолда! ====================\n"
     ]
    },
    {
     "name": "stderr",
     "output_type": "stream",
     "text": [
      "\n",
      "1it [00:30, 30.86s/it]\u001b[A"
     ]
    },
    {
     "name": "stdout",
     "output_type": "stream",
     "text": [
      "BEST ITERATION:  1041\n",
      "ROC AUC на обучающей выборке: 0.9664918739341116\n",
      "ROC AUC на проверочной выборке: 0.7238471811584465\n",
      "\n",
      "********************** 1 фолд обучен! ******************************\n",
      "\n",
      "\n",
      "==================== Обучение 2 фолда! ====================\n"
     ]
    },
    {
     "name": "stderr",
     "output_type": "stream",
     "text": [
      "\n",
      "2it [00:57, 28.42s/it]\u001b[A"
     ]
    },
    {
     "name": "stdout",
     "output_type": "stream",
     "text": [
      "BEST ITERATION:  743\n",
      "ROC AUC на обучающей выборке: 0.9337099909792076\n",
      "ROC AUC на проверочной выборке: 0.7412423565380997\n",
      "\n",
      "********************** 2 фолд обучен! ******************************\n",
      "\n",
      "\n",
      "==================== Обучение 3 фолда! ====================\n"
     ]
    },
    {
     "name": "stderr",
     "output_type": "stream",
     "text": [
      "\n",
      "3it [01:42, 34.32s/it]\u001b[A\n"
     ]
    },
    {
     "name": "stdout",
     "output_type": "stream",
     "text": [
      "BEST ITERATION:  1281\n",
      "ROC AUC на обучающей выборке: 0.9754296297540653\n",
      "ROC AUC на проверочной выборке: 0.7216684867637331\n",
      "\n",
      "********************** 3 фолд обучен! ******************************\n",
      "\n",
      "\n",
      "\n",
      "Среднее значение ROC AUC: 0.7289193414867597\n",
      "Количество признаков: 26 => метрика: 0.7289193414867597\n",
      "Метрика модели со всеми признаками=0.7355003411155744\n",
      "Разница метрики =0.006580999628814643\n",
      "Сохраняем:  БыстраяMACD\n",
      "Проверяемый признак: High-LowClose\n"
     ]
    },
    {
     "name": "stderr",
     "output_type": "stream",
     "text": [
      "\n",
      "0it [00:00, ?it/s]\u001b[A"
     ]
    },
    {
     "name": "stdout",
     "output_type": "stream",
     "text": [
      "==================== Обучение 1 фолда! ====================\n"
     ]
    },
    {
     "name": "stderr",
     "output_type": "stream",
     "text": [
      "\n",
      "1it [00:23, 23.49s/it]\u001b[A"
     ]
    },
    {
     "name": "stdout",
     "output_type": "stream",
     "text": [
      "BEST ITERATION:  704\n",
      "ROC AUC на обучающей выборке: 0.9309471369803328\n",
      "ROC AUC на проверочной выборке: 0.7325926454777584\n",
      "\n",
      "********************** 1 фолд обучен! ******************************\n",
      "\n",
      "\n",
      "==================== Обучение 2 фолда! ====================\n"
     ]
    },
    {
     "name": "stderr",
     "output_type": "stream",
     "text": [
      "\n",
      "2it [00:58, 30.19s/it]\u001b[A"
     ]
    },
    {
     "name": "stdout",
     "output_type": "stream",
     "text": [
      "BEST ITERATION:  1180\n",
      "ROC AUC на обучающей выборке: 0.9693830862033976\n",
      "ROC AUC на проверочной выборке: 0.751366583792501\n",
      "\n",
      "********************** 2 фолд обучен! ******************************\n",
      "\n",
      "\n",
      "==================== Обучение 3 фолда! ====================\n"
     ]
    },
    {
     "name": "stderr",
     "output_type": "stream",
     "text": [
      "\n",
      "3it [01:21, 27.23s/it]\u001b[A\n"
     ]
    },
    {
     "name": "stdout",
     "output_type": "stream",
     "text": [
      "BEST ITERATION:  753\n",
      "ROC AUC на обучающей выборке: 0.9424573310038974\n",
      "ROC AUC на проверочной выборке: 0.7127319362722226\n",
      "\n",
      "********************** 3 фолд обучен! ******************************\n",
      "\n",
      "\n",
      "\n",
      "Среднее значение ROC AUC: 0.7322303885141607\n",
      "Количество признаков: 26 => метрика: 0.7322303885141607\n",
      "Метрика модели со всеми признаками=0.7355003411155744\n",
      "Разница метрики =0.003269952601413717\n",
      "Сохраняем:  High-LowClose\n",
      "Проверяемый признак: VOL\n"
     ]
    },
    {
     "name": "stderr",
     "output_type": "stream",
     "text": [
      "\n",
      "0it [00:00, ?it/s]\u001b[A"
     ]
    },
    {
     "name": "stdout",
     "output_type": "stream",
     "text": [
      "==================== Обучение 1 фолда! ====================\n"
     ]
    },
    {
     "name": "stderr",
     "output_type": "stream",
     "text": [
      "\n",
      "1it [00:22, 22.46s/it]\u001b[A"
     ]
    },
    {
     "name": "stdout",
     "output_type": "stream",
     "text": [
      "BEST ITERATION:  723\n",
      "ROC AUC на обучающей выборке: 0.9329569627954287\n",
      "ROC AUC на проверочной выборке: 0.7301055805671282\n",
      "\n",
      "********************** 1 фолд обучен! ******************************\n",
      "\n",
      "\n",
      "==================== Обучение 2 фолда! ====================\n"
     ]
    },
    {
     "name": "stderr",
     "output_type": "stream",
     "text": [
      "\n",
      "2it [00:50, 25.92s/it]\u001b[A"
     ]
    },
    {
     "name": "stdout",
     "output_type": "stream",
     "text": [
      "BEST ITERATION:  949\n",
      "ROC AUC на обучающей выборке: 0.9568300254993892\n",
      "ROC AUC на проверочной выборке: 0.7405804831339873\n",
      "\n",
      "********************** 2 фолд обучен! ******************************\n",
      "\n",
      "\n",
      "==================== Обучение 3 фолда! ====================\n"
     ]
    },
    {
     "name": "stderr",
     "output_type": "stream",
     "text": [
      "\n",
      "3it [01:28, 29.64s/it]\u001b[A\n"
     ]
    },
    {
     "name": "stdout",
     "output_type": "stream",
     "text": [
      "BEST ITERATION:  1434\n",
      "ROC AUC на обучающей выборке: 0.9790609041123505\n",
      "ROC AUC на проверочной выборке: 0.7246550432661872\n",
      "\n",
      "********************** 3 фолд обучен! ******************************\n",
      "\n",
      "\n",
      "\n",
      "Среднее значение ROC AUC: 0.7317803689891008\n",
      "Количество признаков: 26 => метрика: 0.7317803689891008\n",
      "Метрика модели со всеми признаками=0.7355003411155744\n",
      "Разница метрики =0.0037199721264735697\n",
      "Сохраняем:  VOL\n",
      "Проверяемый признак: Среднеепонижение7\n"
     ]
    },
    {
     "name": "stderr",
     "output_type": "stream",
     "text": [
      "\n",
      "0it [00:00, ?it/s]\u001b[A"
     ]
    },
    {
     "name": "stdout",
     "output_type": "stream",
     "text": [
      "==================== Обучение 1 фолда! ====================\n"
     ]
    },
    {
     "name": "stderr",
     "output_type": "stream",
     "text": [
      "\n",
      "1it [00:15, 15.92s/it]\u001b[A"
     ]
    },
    {
     "name": "stdout",
     "output_type": "stream",
     "text": [
      "BEST ITERATION:  464\n",
      "ROC AUC на обучающей выборке: 0.8964618284352015\n",
      "ROC AUC на проверочной выборке: 0.7274354085472383\n",
      "\n",
      "********************** 1 фолд обучен! ******************************\n",
      "\n",
      "\n",
      "==================== Обучение 2 фолда! ====================\n"
     ]
    },
    {
     "name": "stderr",
     "output_type": "stream",
     "text": [
      "\n",
      "2it [00:50, 26.80s/it]\u001b[A"
     ]
    },
    {
     "name": "stdout",
     "output_type": "stream",
     "text": [
      "BEST ITERATION:  1195\n",
      "ROC AUC на обучающей выборке: 0.9726400460157046\n",
      "ROC AUC на проверочной выборке: 0.7435139766160462\n",
      "\n",
      "********************** 2 фолд обучен! ******************************\n",
      "\n",
      "\n",
      "==================== Обучение 3 фолда! ====================\n"
     ]
    },
    {
     "name": "stderr",
     "output_type": "stream",
     "text": [
      "\n",
      "3it [01:25, 28.65s/it]\u001b[A\n"
     ]
    },
    {
     "name": "stdout",
     "output_type": "stream",
     "text": [
      "BEST ITERATION:  1218\n",
      "ROC AUC на обучающей выборке: 0.9754775063835506\n",
      "ROC AUC на проверочной выборке: 0.72792407210779\n",
      "\n",
      "********************** 3 фолд обучен! ******************************\n",
      "\n",
      "\n",
      "\n",
      "Среднее значение ROC AUC: 0.7329578190903581\n",
      "Количество признаков: 26 => метрика: 0.7329578190903581\n",
      "Метрика модели со всеми признаками=0.7355003411155744\n",
      "Разница метрики =0.0025425220252163205\n",
      "Сохраняем:  Среднеепонижение7\n",
      "Проверяемый признак: EMA26\n"
     ]
    },
    {
     "name": "stderr",
     "output_type": "stream",
     "text": [
      "\n",
      "0it [00:00, ?it/s]\u001b[A"
     ]
    },
    {
     "name": "stdout",
     "output_type": "stream",
     "text": [
      "==================== Обучение 1 фолда! ====================\n"
     ]
    },
    {
     "name": "stderr",
     "output_type": "stream",
     "text": [
      "\n",
      "1it [00:20, 20.18s/it]\u001b[A"
     ]
    },
    {
     "name": "stdout",
     "output_type": "stream",
     "text": [
      "BEST ITERATION:  638\n",
      "ROC AUC на обучающей выборке: 0.9201331102574435\n",
      "ROC AUC на проверочной выборке: 0.7218544214487299\n",
      "\n",
      "********************** 1 фолд обучен! ******************************\n",
      "\n",
      "\n",
      "==================== Обучение 2 фолда! ====================\n"
     ]
    },
    {
     "name": "stderr",
     "output_type": "stream",
     "text": [
      "\n",
      "2it [00:43, 21.98s/it]\u001b[A"
     ]
    },
    {
     "name": "stdout",
     "output_type": "stream",
     "text": [
      "BEST ITERATION:  754\n",
      "ROC AUC на обучающей выборке: 0.9361545752895833\n",
      "ROC AUC на проверочной выборке: 0.7374160059131838\n",
      "\n",
      "********************** 2 фолд обучен! ******************************\n",
      "\n",
      "\n",
      "==================== Обучение 3 фолда! ====================\n"
     ]
    },
    {
     "name": "stderr",
     "output_type": "stream",
     "text": [
      "\n",
      "3it [01:11, 23.81s/it]\u001b[A\n"
     ]
    },
    {
     "name": "stdout",
     "output_type": "stream",
     "text": [
      "BEST ITERATION:  988\n",
      "ROC AUC на обучающей выборке: 0.9625747547372666\n",
      "ROC AUC на проверочной выборке: 0.7225621418128838\n",
      "\n",
      "********************** 3 фолд обучен! ******************************\n",
      "\n",
      "\n",
      "\n",
      "Среднее значение ROC AUC: 0.7272775230582659\n",
      "Количество признаков: 26 => метрика: 0.7272775230582659\n",
      "Метрика модели со всеми признаками=0.7355003411155744\n",
      "Разница метрики =0.008222818057308512\n",
      "Сохраняем:  EMA26\n",
      "Проверяемый признак: VOLChange\n"
     ]
    },
    {
     "name": "stderr",
     "output_type": "stream",
     "text": [
      "\n",
      "0it [00:00, ?it/s]\u001b[A"
     ]
    },
    {
     "name": "stdout",
     "output_type": "stream",
     "text": [
      "==================== Обучение 1 фолда! ====================\n"
     ]
    },
    {
     "name": "stderr",
     "output_type": "stream",
     "text": [
      "\n",
      "1it [00:22, 22.11s/it]\u001b[A"
     ]
    },
    {
     "name": "stdout",
     "output_type": "stream",
     "text": [
      "BEST ITERATION:  707\n",
      "ROC AUC на обучающей выборке: 0.9271507993295959\n",
      "ROC AUC на проверочной выборке: 0.729770444160731\n",
      "\n",
      "********************** 1 фолд обучен! ******************************\n",
      "\n",
      "\n",
      "==================== Обучение 2 фолда! ====================\n"
     ]
    },
    {
     "name": "stderr",
     "output_type": "stream",
     "text": [
      "\n",
      "2it [01:00, 31.64s/it]\u001b[A"
     ]
    },
    {
     "name": "stdout",
     "output_type": "stream",
     "text": [
      "BEST ITERATION:  1499\n",
      "ROC AUC на обучающей выборке: 0.9783653290656484\n",
      "ROC AUC на проверочной выборке: 0.7454433207902164\n",
      "\n",
      "********************** 2 фолд обучен! ******************************\n",
      "\n",
      "\n",
      "==================== Обучение 3 фолда! ====================\n"
     ]
    },
    {
     "name": "stderr",
     "output_type": "stream",
     "text": [
      "\n",
      "3it [01:38, 32.90s/it]\u001b[A\n"
     ]
    },
    {
     "name": "stdout",
     "output_type": "stream",
     "text": [
      "BEST ITERATION:  1488\n",
      "ROC AUC на обучающей выборке: 0.9790609041123505\n",
      "ROC AUC на проверочной выборке: 0.7263481959181066\n",
      "\n",
      "********************** 3 фолд обучен! ******************************\n",
      "\n",
      "\n",
      "\n",
      "Среднее значение ROC AUC: 0.7338539869563513\n",
      "Количество признаков: 26 => метрика: 0.7338539869563513\n",
      "Метрика модели со всеми признаками=0.7355003411155744\n",
      "Разница метрики =0.0016463541592230957\n",
      "Сохраняем:  VOLChange\n",
      "Проверяемый признак: TICKER\n"
     ]
    },
    {
     "name": "stderr",
     "output_type": "stream",
     "text": [
      "\n",
      "0it [00:00, ?it/s]\u001b[A"
     ]
    },
    {
     "name": "stdout",
     "output_type": "stream",
     "text": [
      "==================== Обучение 1 фолда! ====================\n"
     ]
    },
    {
     "name": "stderr",
     "output_type": "stream",
     "text": [
      "\n",
      "1it [00:35, 35.10s/it]\u001b[A"
     ]
    },
    {
     "name": "stdout",
     "output_type": "stream",
     "text": [
      "BEST ITERATION:  1141\n",
      "ROC AUC на обучающей выборке: 0.9689483277081178\n",
      "ROC AUC на проверочной выборке: 0.7307111779330735\n",
      "\n",
      "********************** 1 фолд обучен! ******************************\n",
      "\n",
      "\n",
      "==================== Обучение 2 фолда! ====================\n"
     ]
    },
    {
     "name": "stderr",
     "output_type": "stream",
     "text": [
      "\n",
      "2it [01:15, 38.42s/it]\u001b[A"
     ]
    },
    {
     "name": "stdout",
     "output_type": "stream",
     "text": [
      "BEST ITERATION:  1477\n",
      "ROC AUC на обучающей выборке: 0.9790115320767527\n",
      "ROC AUC на проверочной выборке: 0.7403410999865611\n",
      "\n",
      "********************** 2 фолд обучен! ******************************\n",
      "\n",
      "\n",
      "==================== Обучение 3 фолда! ====================\n"
     ]
    },
    {
     "name": "stderr",
     "output_type": "stream",
     "text": [
      "\n",
      "3it [01:52, 37.64s/it]\u001b[A\n"
     ]
    },
    {
     "name": "stdout",
     "output_type": "stream",
     "text": [
      "BEST ITERATION:  1226\n",
      "ROC AUC на обучающей выборке: 0.9740903440397796\n",
      "ROC AUC на проверочной выборке: 0.7280417689157688\n",
      "\n",
      "********************** 3 фолд обучен! ******************************\n",
      "\n",
      "\n",
      "\n",
      "Среднее значение ROC AUC: 0.7330313489451346\n",
      "Количество признаков: 26 => метрика: 0.7330313489451346\n",
      "Метрика модели со всеми признаками=0.7355003411155744\n",
      "Разница метрики =0.002468992170439832\n",
      "Сохраняем:  TICKER\n",
      "Проверяемый признак: СигнальнаяMACD(9)-быстраяMACD\n"
     ]
    },
    {
     "name": "stderr",
     "output_type": "stream",
     "text": [
      "\n",
      "0it [00:00, ?it/s]\u001b[A"
     ]
    },
    {
     "name": "stdout",
     "output_type": "stream",
     "text": [
      "==================== Обучение 1 фолда! ====================\n"
     ]
    },
    {
     "name": "stderr",
     "output_type": "stream",
     "text": [
      "\n",
      "1it [00:19, 19.22s/it]\u001b[A"
     ]
    },
    {
     "name": "stdout",
     "output_type": "stream",
     "text": [
      "BEST ITERATION:  561\n",
      "ROC AUC на обучающей выборке: 0.9079457970964561\n",
      "ROC AUC на проверочной выборке: 0.7244695773417551\n",
      "\n",
      "********************** 1 фолд обучен! ******************************\n",
      "\n",
      "\n",
      "==================== Обучение 2 фолда! ====================\n"
     ]
    },
    {
     "name": "stderr",
     "output_type": "stream",
     "text": [
      "\n"
     ]
    },
    {
     "name": "stdout",
     "output_type": "stream",
     "text": [
      "BEST ITERATION:  1406\n",
      "ROC AUC на обучающей выборке: 0.9792823239107299\n",
      "ROC AUC на проверочной выборке: 0.7354543240155893\n",
      "\n",
      "********************** 2 фолд обучен! ******************************\n",
      "\n",
      "\n"
     ]
    },
    {
     "name": "stderr",
     "output_type": "stream",
     "text": [
      "2it [01:00, 31.90s/it]\u001b[A"
     ]
    },
    {
     "name": "stdout",
     "output_type": "stream",
     "text": [
      "==================== Обучение 3 фолда! ====================\n"
     ]
    },
    {
     "name": "stderr",
     "output_type": "stream",
     "text": [
      "\n",
      "3it [01:41, 33.74s/it]\u001b[A"
     ]
    },
    {
     "name": "stdout",
     "output_type": "stream",
     "text": [
      "BEST ITERATION:  1420\n",
      "ROC AUC на обучающей выборке: 0.9767449771536084\n",
      "ROC AUC на проверочной выборке: 0.7201396892972407\n",
      "\n",
      "********************** 3 фолд обучен! ******************************\n",
      "\n",
      "\n",
      "\n",
      "Среднее значение ROC AUC: 0.7266878635515285\n",
      "Количество признаков: 26 => метрика: 0.7266878635515285\n",
      "Метрика модели со всеми признаками=0.7355003411155744\n",
      "Разница метрики =0.008812477564045906\n",
      "Сохраняем:  СигнальнаяMACD(9)-быстраяMACD\n",
      "Проверяемый признак: Momentum\n"
     ]
    },
    {
     "name": "stderr",
     "output_type": "stream",
     "text": [
      "\n",
      "\n",
      "0it [00:00, ?it/s]\u001b[A"
     ]
    },
    {
     "name": "stdout",
     "output_type": "stream",
     "text": [
      "==================== Обучение 1 фолда! ====================\n",
      "BEST ITERATION:  1001\n"
     ]
    },
    {
     "name": "stderr",
     "output_type": "stream",
     "text": [
      "\n",
      "1it [00:31, 31.14s/it]\u001b[A"
     ]
    },
    {
     "name": "stdout",
     "output_type": "stream",
     "text": [
      "ROC AUC на обучающей выборке: 0.9645176565099072\n",
      "ROC AUC на проверочной выборке: 0.7187449603547909\n",
      "\n",
      "********************** 1 фолд обучен! ******************************\n",
      "\n",
      "\n",
      "==================== Обучение 2 фолда! ====================\n",
      "BEST ITERATION:  1491\n"
     ]
    },
    {
     "name": "stderr",
     "output_type": "stream",
     "text": [
      "\n",
      "2it [01:13, 37.87s/it]\u001b[A"
     ]
    },
    {
     "name": "stdout",
     "output_type": "stream",
     "text": [
      "ROC AUC на обучающей выборке: 0.9822803613526904\n",
      "ROC AUC на проверочной выборке: 0.741042450611477\n",
      "\n",
      "********************** 2 фолд обучен! ******************************\n",
      "\n",
      "\n",
      "==================== Обучение 3 фолда! ====================\n"
     ]
    },
    {
     "name": "stderr",
     "output_type": "stream",
     "text": [
      "\n"
     ]
    },
    {
     "name": "stdout",
     "output_type": "stream",
     "text": [
      "BEST ITERATION:  1454\n",
      "ROC AUC на обучающей выборке: 0.982106319715092\n",
      "ROC AUC на проверочной выборке: 0.7162355180382969\n",
      "\n",
      "********************** 3 фолд обучен! ******************************\n",
      "\n",
      "\n"
     ]
    },
    {
     "name": "stderr",
     "output_type": "stream",
     "text": [
      "3it [01:55, 38.38s/it]\u001b[A\n"
     ]
    },
    {
     "name": "stdout",
     "output_type": "stream",
     "text": [
      "\n",
      "Среднее значение ROC AUC: 0.7253409763348548\n",
      "Количество признаков: 26 => метрика: 0.7253409763348548\n",
      "Метрика модели со всеми признаками=0.7355003411155744\n",
      "Разница метрики =0.010159364780719549\n",
      "Сохраняем:  Momentum\n",
      "Проверяемый признак: value_message\n"
     ]
    },
    {
     "name": "stderr",
     "output_type": "stream",
     "text": [
      "\n",
      "0it [00:00, ?it/s]\u001b[A"
     ]
    },
    {
     "name": "stdout",
     "output_type": "stream",
     "text": [
      "==================== Обучение 1 фолда! ====================\n"
     ]
    },
    {
     "name": "stderr",
     "output_type": "stream",
     "text": [
      "\n",
      "1it [00:34, 34.23s/it]\u001b[A"
     ]
    },
    {
     "name": "stdout",
     "output_type": "stream",
     "text": [
      "BEST ITERATION:  1097\n",
      "ROC AUC на обучающей выборке: 0.9591937293938759\n",
      "ROC AUC на проверочной выборке: 0.7240626259911302\n",
      "\n",
      "********************** 1 фолд обучен! ******************************\n",
      "\n",
      "\n",
      "==================== Обучение 2 фолда! ====================\n"
     ]
    },
    {
     "name": "stderr",
     "output_type": "stream",
     "text": [
      "\n"
     ]
    },
    {
     "name": "stdout",
     "output_type": "stream",
     "text": [
      "BEST ITERATION:  1488\n",
      "ROC AUC на обучающей выборке: 0.9797645602605317\n",
      "ROC AUC на проверочной выборке: 0.7419281682569546\n",
      "\n",
      "********************** 2 фолд обучен! ******************************\n",
      "\n",
      "\n"
     ]
    },
    {
     "name": "stderr",
     "output_type": "stream",
     "text": [
      "2it [01:20, 41.13s/it]\u001b[A"
     ]
    },
    {
     "name": "stdout",
     "output_type": "stream",
     "text": [
      "==================== Обучение 3 фолда! ====================\n"
     ]
    },
    {
     "name": "stderr",
     "output_type": "stream",
     "text": [
      "\n",
      "3it [01:52, 36.89s/it]"
     ]
    },
    {
     "name": "stdout",
     "output_type": "stream",
     "text": [
      "BEST ITERATION:  1082\n",
      "ROC AUC на обучающей выборке: 0.9597926605966939\n",
      "ROC AUC на проверочной выборке: 0.7180236688280844\n",
      "\n",
      "********************** 3 фолд обучен! ******************************\n",
      "\n",
      "\n"
     ]
    },
    {
     "name": "stderr",
     "output_type": "stream",
     "text": [
      "3it [01:52, 37.34s/it]\n"
     ]
    },
    {
     "name": "stdout",
     "output_type": "stream",
     "text": [
      "\n",
      "Среднее значение ROC AUC: 0.7280048210253898\n",
      "Количество признаков: 26 => метрика: 0.7280048210253898\n",
      "Метрика модели со всеми признаками=0.7355003411155744\n",
      "Разница метрики =0.007495520090184615\n",
      "Сохраняем:  value_message\n",
      "Проверяемый признак: Stohastic\n"
     ]
    },
    {
     "name": "stderr",
     "output_type": "stream",
     "text": [
      "\n",
      "0it [00:00, ?it/s]\u001b[A"
     ]
    },
    {
     "name": "stdout",
     "output_type": "stream",
     "text": [
      "==================== Обучение 1 фолда! ====================\n"
     ]
    },
    {
     "name": "stderr",
     "output_type": "stream",
     "text": [
      "\n",
      "1it [00:13, 13.81s/it]\u001b[A"
     ]
    },
    {
     "name": "stdout",
     "output_type": "stream",
     "text": [
      "BEST ITERATION:  340\n",
      "ROC AUC на обучающей выборке: 0.8404798708602358\n",
      "ROC AUC на проверочной выборке: 0.7014060610133047\n",
      "\n",
      "********************** 1 фолд обучен! ******************************\n",
      "\n",
      "\n",
      "==================== Обучение 2 фолда! ====================\n"
     ]
    },
    {
     "name": "stderr",
     "output_type": "stream",
     "text": [
      "\n",
      "2it [00:29, 14.67s/it]\u001b[A"
     ]
    },
    {
     "name": "stdout",
     "output_type": "stream",
     "text": [
      "BEST ITERATION:  437\n",
      "ROC AUC на обучающей выборке: 0.8486616076841856\n",
      "ROC AUC на проверочной выборке: 0.6964546095954844\n",
      "\n",
      "********************** 2 фолд обучен! ******************************\n",
      "\n",
      "\n",
      "==================== Обучение 3 фолда! ====================\n"
     ]
    },
    {
     "name": "stderr",
     "output_type": "stream",
     "text": [
      "\n",
      "3it [00:50, 16.95s/it]\u001b[A"
     ]
    },
    {
     "name": "stdout",
     "output_type": "stream",
     "text": [
      "BEST ITERATION:  689\n",
      "ROC AUC на обучающей выборке: 0.9089942968015051\n",
      "ROC AUC на проверочной выборке: 0.6896604194882374\n",
      "\n",
      "********************** 3 фолд обучен! ******************************\n",
      "\n",
      "\n",
      "\n",
      "Среднее значение ROC AUC: 0.6958403633656755\n",
      "Количество признаков: 26 => метрика: 0.6958403633656755\n",
      "Метрика модели со всеми признаками=0.7355003411155744\n",
      "Разница метрики =0.039659977749898934\n",
      "Сохраняем:  Stohastic\n",
      "Общее количество признаков для сохранения:  27\n",
      "\n",
      "==========================\n",
      "Конец жадного отбора факторов Backward Selection!\n"
     ]
    },
    {
     "name": "stderr",
     "output_type": "stream",
     "text": [
      "\n"
     ]
    }
   ],
   "source": [
    "f_selection = CustomSelection(train=train,\n",
    "                              target=target_col,\n",
    "                              main_estimator=model,\n",
    "                              main_fit_params=fit_params,\n",
    "                              base_pipe=base_pipe,\n",
    "                              num_columns=num_cols,\n",
    "                              cat_columns=cat_cols                     \n",
    "                             )\n",
    "\n",
    "feats_selected = f_selection.backward_selection(strat=strat)"
   ]
  },
  {
   "cell_type": "code",
   "execution_count": 22,
   "id": "5eee17bb",
   "metadata": {},
   "outputs": [
    {
     "name": "stdout",
     "output_type": "stream",
     "text": [
      "18 9\n"
     ]
    }
   ],
   "source": [
    "# Обновляем признаки\n",
    "\n",
    "num_cols = list(filter(lambda x: x in feats_selected, num_cols))\n",
    "cat_cols = list(filter(lambda x: x in feats_selected, cat_cols))\n",
    "print(len(num_cols),len(cat_cols))\n",
    "\n",
    "# Обновление пайплайна трансформации\n",
    "\n",
    "prep_pipe = base_pipe(\n",
    "    num_columns=num_cols, \n",
    "    cat_columns=cat_cols)"
   ]
  },
  {
   "cell_type": "code",
   "execution_count": 23,
   "id": "b5a84bcf",
   "metadata": {},
   "outputs": [
    {
     "name": "stderr",
     "output_type": "stream",
     "text": [
      "[I 2024-07-19 15:30:44,358] A new study created in memory with name: no-name-5bdd8fd2-e9c5-4c75-abfc-de6dd2a2e19d\n",
      "<timed exec>:3: FutureWarning: suggest_loguniform has been deprecated in v3.0.0. This feature will be removed in v6.0.0. See https://github.com/optuna/optuna/releases/tag/v3.0.0. Use suggest_float(..., log=True) instead.\n",
      "<timed exec>:11: FutureWarning: suggest_loguniform has been deprecated in v3.0.0. This feature will be removed in v6.0.0. See https://github.com/optuna/optuna/releases/tag/v3.0.0. Use suggest_float(..., log=True) instead.\n",
      "<timed exec>:12: FutureWarning: suggest_loguniform has been deprecated in v3.0.0. This feature will be removed in v6.0.0. See https://github.com/optuna/optuna/releases/tag/v3.0.0. Use suggest_float(..., log=True) instead.\n",
      "<timed exec>:13: FutureWarning: suggest_loguniform has been deprecated in v3.0.0. This feature will be removed in v6.0.0. See https://github.com/optuna/optuna/releases/tag/v3.0.0. Use suggest_float(..., log=True) instead.\n",
      "0it [00:00, ?it/s]"
     ]
    },
    {
     "name": "stdout",
     "output_type": "stream",
     "text": [
      "==================== Обучение 1 фолда! ====================\n"
     ]
    },
    {
     "name": "stderr",
     "output_type": "stream",
     "text": [
      "\r",
      "1it [00:27, 27.53s/it]"
     ]
    },
    {
     "name": "stdout",
     "output_type": "stream",
     "text": [
      "BEST ITERATION:  852\n",
      "ROC AUC на обучающей выборке: 0.9523162680557651\n",
      "ROC AUC на проверочной выборке: 0.7373202526542131\n",
      "\n",
      "********************** 1 фолд обучен! ******************************\n",
      "\n",
      "\n",
      "==================== Обучение 2 фолда! ====================\n"
     ]
    },
    {
     "name": "stderr",
     "output_type": "stream",
     "text": [
      "\r",
      "2it [01:01, 31.09s/it]"
     ]
    },
    {
     "name": "stdout",
     "output_type": "stream",
     "text": [
      "BEST ITERATION:  1084\n",
      "ROC AUC на обучающей выборке: 0.9701954617053289\n",
      "ROC AUC на проверочной выборке: 0.74400828181696\n",
      "\n",
      "********************** 2 фолд обучен! ******************************\n",
      "\n",
      "\n",
      "==================== Обучение 3 фолда! ====================\n"
     ]
    },
    {
     "name": "stderr",
     "output_type": "stream",
     "text": [
      "3it [01:44, 34.86s/it]\n",
      "[I 2024-07-19 15:32:28,973] Trial 0 finished with value: 0.7355003411155744 and parameters: {'learning_rate': 0.003148911647956862, 'depth': 9, 'subsample': 0.7822573760490122, 'colsample_bylevel': 0.6922933401417407, 'l2_leaf_reg': 1.77071686435378e-07}. Best is trial 0 with value: 0.7355003411155744.\n"
     ]
    },
    {
     "name": "stdout",
     "output_type": "stream",
     "text": [
      "BEST ITERATION:  1339\n",
      "ROC AUC на обучающей выборке: 0.9783912612552076\n",
      "ROC AUC на проверочной выборке: 0.7251724888755499\n",
      "\n",
      "********************** 3 фолд обучен! ******************************\n",
      "\n",
      "\n",
      "\n",
      "Среднее значение ROC AUC: 0.7355003411155744\n"
     ]
    },
    {
     "name": "stderr",
     "output_type": "stream",
     "text": [
      "<timed exec>:3: FutureWarning: suggest_loguniform has been deprecated in v3.0.0. This feature will be removed in v6.0.0. See https://github.com/optuna/optuna/releases/tag/v3.0.0. Use suggest_float(..., log=True) instead.\n",
      "<timed exec>:11: FutureWarning: suggest_loguniform has been deprecated in v3.0.0. This feature will be removed in v6.0.0. See https://github.com/optuna/optuna/releases/tag/v3.0.0. Use suggest_float(..., log=True) instead.\n",
      "<timed exec>:12: FutureWarning: suggest_loguniform has been deprecated in v3.0.0. This feature will be removed in v6.0.0. See https://github.com/optuna/optuna/releases/tag/v3.0.0. Use suggest_float(..., log=True) instead.\n",
      "<timed exec>:13: FutureWarning: suggest_loguniform has been deprecated in v3.0.0. This feature will be removed in v6.0.0. See https://github.com/optuna/optuna/releases/tag/v3.0.0. Use suggest_float(..., log=True) instead.\n",
      "0it [00:00, ?it/s]"
     ]
    },
    {
     "name": "stdout",
     "output_type": "stream",
     "text": [
      "==================== Обучение 1 фолда! ====================\n"
     ]
    },
    {
     "name": "stderr",
     "output_type": "stream",
     "text": [
      "\r",
      "1it [00:01,  1.18s/it]"
     ]
    },
    {
     "name": "stdout",
     "output_type": "stream",
     "text": [
      "BEST ITERATION:  109\n",
      "ROC AUC на обучающей выборке: 0.6445253201919114\n",
      "ROC AUC на проверочной выборке: 0.6465684215831204\n",
      "\n",
      "********************** 1 фолд обучен! ******************************\n",
      "\n",
      "\n",
      "==================== Обучение 2 фолда! ====================\n"
     ]
    },
    {
     "name": "stderr",
     "output_type": "stream",
     "text": [
      "\r",
      "2it [00:05,  2.94s/it]"
     ]
    },
    {
     "name": "stdout",
     "output_type": "stream",
     "text": [
      "BEST ITERATION:  1080\n",
      "ROC AUC на обучающей выборке: 0.6469017338660377\n",
      "ROC AUC на проверочной выборке: 0.6449250772745598\n",
      "\n",
      "********************** 2 фолд обучен! ******************************\n",
      "\n",
      "\n",
      "==================== Обучение 3 фолда! ====================\n"
     ]
    },
    {
     "name": "stderr",
     "output_type": "stream",
     "text": [
      "3it [00:08,  2.74s/it]\n",
      "[I 2024-07-19 15:32:37,211] Trial 1 finished with value: 0.6439390326081007 and parameters: {'learning_rate': 0.0004207053950287938, 'depth': 1, 'subsample': 0.8845983689917747, 'colsample_bylevel': 0.6938533737439828, 'l2_leaf_reg': 0.004619347374377372}. Best is trial 0 with value: 0.7355003411155744.\n",
      "<timed exec>:3: FutureWarning: suggest_loguniform has been deprecated in v3.0.0. This feature will be removed in v6.0.0. See https://github.com/optuna/optuna/releases/tag/v3.0.0. Use suggest_float(..., log=True) instead.\n",
      "<timed exec>:11: FutureWarning: suggest_loguniform has been deprecated in v3.0.0. This feature will be removed in v6.0.0. See https://github.com/optuna/optuna/releases/tag/v3.0.0. Use suggest_float(..., log=True) instead.\n",
      "<timed exec>:12: FutureWarning: suggest_loguniform has been deprecated in v3.0.0. This feature will be removed in v6.0.0. See https://github.com/optuna/optuna/releases/tag/v3.0.0. Use suggest_float(..., log=True) instead.\n",
      "<timed exec>:13: FutureWarning: suggest_loguniform has been deprecated in v3.0.0. This feature will be removed in v6.0.0. See https://github.com/optuna/optuna/releases/tag/v3.0.0. Use suggest_float(..., log=True) instead.\n"
     ]
    },
    {
     "name": "stdout",
     "output_type": "stream",
     "text": [
      "BEST ITERATION:  600\n",
      "ROC AUC на обучающей выборке: 0.6443045709582045\n",
      "ROC AUC на проверочной выборке: 0.6403235989666219\n",
      "\n",
      "********************** 3 фолд обучен! ******************************\n",
      "\n",
      "\n",
      "\n",
      "Среднее значение ROC AUC: 0.6439390326081007\n"
     ]
    },
    {
     "name": "stderr",
     "output_type": "stream",
     "text": [
      "\r",
      "0it [00:00, ?it/s]"
     ]
    },
    {
     "name": "stdout",
     "output_type": "stream",
     "text": [
      "==================== Обучение 1 фолда! ====================\n"
     ]
    },
    {
     "name": "stderr",
     "output_type": "stream",
     "text": [
      "\r",
      "1it [00:16, 16.36s/it]"
     ]
    },
    {
     "name": "stdout",
     "output_type": "stream",
     "text": [
      "BEST ITERATION:  506\n",
      "ROC AUC на обучающей выборке: 0.8021024286393141\n",
      "ROC AUC на проверочной выборке: 0.7201023047977422\n",
      "\n",
      "********************** 1 фолд обучен! ******************************\n",
      "\n",
      "\n",
      "==================== Обучение 2 фолда! ====================\n"
     ]
    },
    {
     "name": "stderr",
     "output_type": "stream",
     "text": [
      "\r",
      "2it [00:23, 11.10s/it]"
     ]
    },
    {
     "name": "stdout",
     "output_type": "stream",
     "text": [
      "BEST ITERATION:  154\n",
      "ROC AUC на обучающей выборке: 0.8004420692445601\n",
      "ROC AUC на проверочной выборке: 0.7257777852439189\n",
      "\n",
      "********************** 2 фолд обучен! ******************************\n",
      "\n",
      "\n",
      "==================== Обучение 3 фолда! ====================\n"
     ]
    },
    {
     "name": "stderr",
     "output_type": "stream",
     "text": [
      "3it [00:38, 12.86s/it]\n",
      "[I 2024-07-19 15:33:15,815] Trial 2 finished with value: 0.7184873184391626 and parameters: {'learning_rate': 0.00012087541473056971, 'depth': 9, 'subsample': 0.8576739569300319, 'colsample_bylevel': 0.48591266506353753, 'l2_leaf_reg': 2.8483918709107956e-07}. Best is trial 0 with value: 0.7355003411155744.\n",
      "<timed exec>:3: FutureWarning: suggest_loguniform has been deprecated in v3.0.0. This feature will be removed in v6.0.0. See https://github.com/optuna/optuna/releases/tag/v3.0.0. Use suggest_float(..., log=True) instead.\n",
      "<timed exec>:11: FutureWarning: suggest_loguniform has been deprecated in v3.0.0. This feature will be removed in v6.0.0. See https://github.com/optuna/optuna/releases/tag/v3.0.0. Use suggest_float(..., log=True) instead.\n",
      "<timed exec>:12: FutureWarning: suggest_loguniform has been deprecated in v3.0.0. This feature will be removed in v6.0.0. See https://github.com/optuna/optuna/releases/tag/v3.0.0. Use suggest_float(..., log=True) instead.\n",
      "<timed exec>:13: FutureWarning: suggest_loguniform has been deprecated in v3.0.0. This feature will be removed in v6.0.0. See https://github.com/optuna/optuna/releases/tag/v3.0.0. Use suggest_float(..., log=True) instead.\n"
     ]
    },
    {
     "name": "stdout",
     "output_type": "stream",
     "text": [
      "BEST ITERATION:  464\n",
      "ROC AUC на обучающей выборке: 0.8162011994355598\n",
      "ROC AUC на проверочной выборке: 0.7095818652758266\n",
      "\n",
      "********************** 3 фолд обучен! ******************************\n",
      "\n",
      "\n",
      "\n",
      "Среднее значение ROC AUC: 0.7184873184391626\n"
     ]
    },
    {
     "name": "stderr",
     "output_type": "stream",
     "text": [
      "\r",
      "0it [00:00, ?it/s]"
     ]
    },
    {
     "name": "stdout",
     "output_type": "stream",
     "text": [
      "==================== Обучение 1 фолда! ====================\n"
     ]
    },
    {
     "name": "stderr",
     "output_type": "stream",
     "text": [
      "\r",
      "1it [00:01,  1.89s/it]"
     ]
    },
    {
     "name": "stdout",
     "output_type": "stream",
     "text": [
      "BEST ITERATION:  207\n",
      "ROC AUC на обучающей выборке: 0.6697937276292123\n",
      "ROC AUC на проверочной выборке: 0.6713710354791023\n",
      "\n",
      "********************** 1 фолд обучен! ******************************\n",
      "\n",
      "\n",
      "==================== Обучение 2 фолда! ====================\n"
     ]
    },
    {
     "name": "stderr",
     "output_type": "stream",
     "text": [
      "\r",
      "2it [00:05,  2.75s/it]"
     ]
    },
    {
     "name": "stdout",
     "output_type": "stream",
     "text": [
      "BEST ITERATION:  523\n",
      "ROC AUC на обучающей выборке: 0.6790164059096063\n",
      "ROC AUC на проверочной выборке: 0.6801081003897326\n",
      "\n",
      "********************** 2 фолд обучен! ******************************\n",
      "\n",
      "\n",
      "==================== Обучение 3 фолда! ====================\n"
     ]
    },
    {
     "name": "stderr",
     "output_type": "stream",
     "text": [
      "3it [00:06,  2.26s/it]\n",
      "[I 2024-07-19 15:33:22,611] Trial 3 finished with value: 0.672565624427404 and parameters: {'learning_rate': 0.0005415244119402539, 'depth': 3, 'subsample': 0.6469661675743767, 'colsample_bylevel': 0.5942212735373064, 'l2_leaf_reg': 2.1371407316372935e-06}. Best is trial 0 with value: 0.7355003411155744.\n",
      "<timed exec>:3: FutureWarning: suggest_loguniform has been deprecated in v3.0.0. This feature will be removed in v6.0.0. See https://github.com/optuna/optuna/releases/tag/v3.0.0. Use suggest_float(..., log=True) instead.\n",
      "<timed exec>:11: FutureWarning: suggest_loguniform has been deprecated in v3.0.0. This feature will be removed in v6.0.0. See https://github.com/optuna/optuna/releases/tag/v3.0.0. Use suggest_float(..., log=True) instead.\n",
      "<timed exec>:12: FutureWarning: suggest_loguniform has been deprecated in v3.0.0. This feature will be removed in v6.0.0. See https://github.com/optuna/optuna/releases/tag/v3.0.0. Use suggest_float(..., log=True) instead.\n",
      "<timed exec>:13: FutureWarning: suggest_loguniform has been deprecated in v3.0.0. This feature will be removed in v6.0.0. See https://github.com/optuna/optuna/releases/tag/v3.0.0. Use suggest_float(..., log=True) instead.\n"
     ]
    },
    {
     "name": "stdout",
     "output_type": "stream",
     "text": [
      "BEST ITERATION:  133\n",
      "ROC AUC на обучающей выборке: 0.6763415955516732\n",
      "ROC AUC на проверочной выборке: 0.6662177374133773\n",
      "\n",
      "********************** 3 фолд обучен! ******************************\n",
      "\n",
      "\n",
      "\n",
      "Среднее значение ROC AUC: 0.672565624427404\n"
     ]
    },
    {
     "name": "stderr",
     "output_type": "stream",
     "text": [
      "\r",
      "0it [00:00, ?it/s]"
     ]
    },
    {
     "name": "stdout",
     "output_type": "stream",
     "text": [
      "==================== Обучение 1 фолда! ====================\n"
     ]
    },
    {
     "name": "stderr",
     "output_type": "stream",
     "text": [
      "\r",
      "1it [00:05,  5.50s/it]"
     ]
    },
    {
     "name": "stdout",
     "output_type": "stream",
     "text": [
      "BEST ITERATION:  1477\n",
      "ROC AUC на обучающей выборке: 0.7808611306367872\n",
      "ROC AUC на проверочной выборке: 0.7086757492272544\n",
      "\n",
      "********************** 1 фолд обучен! ******************************\n",
      "\n",
      "\n",
      "==================== Обучение 2 фолда! ====================\n"
     ]
    },
    {
     "name": "stderr",
     "output_type": "stream",
     "text": [
      "\r",
      "2it [00:11,  5.63s/it]"
     ]
    },
    {
     "name": "stdout",
     "output_type": "stream",
     "text": [
      "BEST ITERATION:  1498\n",
      "ROC AUC на обучающей выборке: 0.7699877565957455\n",
      "ROC AUC на проверочной выборке: 0.7133949569950275\n",
      "\n",
      "********************** 2 фолд обучен! ******************************\n",
      "\n",
      "\n",
      "==================== Обучение 3 фолда! ====================\n"
     ]
    },
    {
     "name": "stderr",
     "output_type": "stream",
     "text": [
      "3it [00:19,  6.54s/it]\n",
      "[I 2024-07-19 15:33:42,239] Trial 4 finished with value: 0.7093507700703983 and parameters: {'learning_rate': 0.0280163515871626, 'depth': 2, 'subsample': 0.5227764740992744, 'colsample_bylevel': 0.5595643355000384, 'l2_leaf_reg': 4.452048365748842e-05}. Best is trial 0 with value: 0.7355003411155744.\n",
      "<timed exec>:3: FutureWarning: suggest_loguniform has been deprecated in v3.0.0. This feature will be removed in v6.0.0. See https://github.com/optuna/optuna/releases/tag/v3.0.0. Use suggest_float(..., log=True) instead.\n",
      "<timed exec>:11: FutureWarning: suggest_loguniform has been deprecated in v3.0.0. This feature will be removed in v6.0.0. See https://github.com/optuna/optuna/releases/tag/v3.0.0. Use suggest_float(..., log=True) instead.\n",
      "<timed exec>:12: FutureWarning: suggest_loguniform has been deprecated in v3.0.0. This feature will be removed in v6.0.0. See https://github.com/optuna/optuna/releases/tag/v3.0.0. Use suggest_float(..., log=True) instead.\n",
      "<timed exec>:13: FutureWarning: suggest_loguniform has been deprecated in v3.0.0. This feature will be removed in v6.0.0. See https://github.com/optuna/optuna/releases/tag/v3.0.0. Use suggest_float(..., log=True) instead.\n"
     ]
    },
    {
     "name": "stdout",
     "output_type": "stream",
     "text": [
      "BEST ITERATION:  1490\n",
      "ROC AUC на обучающей выборке: 0.7827524442279263\n",
      "ROC AUC на проверочной выборке: 0.705981603988913\n",
      "\n",
      "********************** 3 фолд обучен! ******************************\n",
      "\n",
      "\n",
      "\n",
      "Среднее значение ROC AUC: 0.7093507700703983\n"
     ]
    },
    {
     "name": "stderr",
     "output_type": "stream",
     "text": [
      "\r",
      "0it [00:00, ?it/s]"
     ]
    },
    {
     "name": "stdout",
     "output_type": "stream",
     "text": [
      "==================== Обучение 1 фолда! ====================\n"
     ]
    },
    {
     "name": "stderr",
     "output_type": "stream",
     "text": [
      "\r",
      "1it [00:04,  4.19s/it]"
     ]
    },
    {
     "name": "stdout",
     "output_type": "stream",
     "text": [
      "BEST ITERATION:  586\n",
      "ROC AUC на обучающей выборке: 0.8207697336660424\n",
      "ROC AUC на проверочной выборке: 0.7151806712807418\n",
      "\n",
      "********************** 1 фолд обучен! ******************************\n",
      "\n",
      "\n",
      "==================== Обучение 2 фолда! ====================\n"
     ]
    },
    {
     "name": "stderr",
     "output_type": "stream",
     "text": [
      "\r",
      "2it [00:07,  3.81s/it]"
     ]
    },
    {
     "name": "stdout",
     "output_type": "stream",
     "text": [
      "BEST ITERATION:  430\n",
      "ROC AUC на обучающей выборке: 0.7960842954601507\n",
      "ROC AUC на проверочной выборке: 0.7186563465931998\n",
      "\n",
      "********************** 2 фолд обучен! ******************************\n",
      "\n",
      "\n",
      "==================== Обучение 3 фолда! ====================\n"
     ]
    },
    {
     "name": "stderr",
     "output_type": "stream",
     "text": [
      "3it [00:12,  4.04s/it]\n",
      "[I 2024-07-19 15:33:54,390] Trial 5 finished with value: 0.7146995274052813 and parameters: {'learning_rate': 0.13826232179369857, 'depth': 2, 'subsample': 0.6407586064789756, 'colsample_bylevel': 0.6883438712855351, 'l2_leaf_reg': 2.3528990899815284e-08}. Best is trial 0 with value: 0.7355003411155744.\n",
      "<timed exec>:3: FutureWarning: suggest_loguniform has been deprecated in v3.0.0. This feature will be removed in v6.0.0. See https://github.com/optuna/optuna/releases/tag/v3.0.0. Use suggest_float(..., log=True) instead.\n",
      "<timed exec>:11: FutureWarning: suggest_loguniform has been deprecated in v3.0.0. This feature will be removed in v6.0.0. See https://github.com/optuna/optuna/releases/tag/v3.0.0. Use suggest_float(..., log=True) instead.\n",
      "<timed exec>:12: FutureWarning: suggest_loguniform has been deprecated in v3.0.0. This feature will be removed in v6.0.0. See https://github.com/optuna/optuna/releases/tag/v3.0.0. Use suggest_float(..., log=True) instead.\n",
      "<timed exec>:13: FutureWarning: suggest_loguniform has been deprecated in v3.0.0. This feature will be removed in v6.0.0. See https://github.com/optuna/optuna/releases/tag/v3.0.0. Use suggest_float(..., log=True) instead.\n"
     ]
    },
    {
     "name": "stdout",
     "output_type": "stream",
     "text": [
      "BEST ITERATION:  589\n",
      "ROC AUC на обучающей выборке: 0.8200735368230077\n",
      "ROC AUC на проверочной выборке: 0.7102615643419025\n",
      "\n",
      "********************** 3 фолд обучен! ******************************\n",
      "\n",
      "\n",
      "\n",
      "Среднее значение ROC AUC: 0.7146995274052813\n"
     ]
    },
    {
     "name": "stderr",
     "output_type": "stream",
     "text": [
      "\r",
      "0it [00:00, ?it/s]"
     ]
    },
    {
     "name": "stdout",
     "output_type": "stream",
     "text": [
      "==================== Обучение 1 фолда! ====================\n"
     ]
    },
    {
     "name": "stderr",
     "output_type": "stream",
     "text": [
      "\r",
      "1it [00:01,  1.09s/it]"
     ]
    },
    {
     "name": "stdout",
     "output_type": "stream",
     "text": [
      "BEST ITERATION:  41\n",
      "ROC AUC на обучающей выборке: 0.6836140899146533\n",
      "ROC AUC на проверочной выборке: 0.6797956423867759\n",
      "\n",
      "********************** 1 фолд обучен! ******************************\n",
      "\n",
      "\n",
      "==================== Обучение 2 фолда! ====================\n"
     ]
    },
    {
     "name": "stderr",
     "output_type": "stream",
     "text": [
      "\r",
      "2it [00:06,  3.84s/it]"
     ]
    },
    {
     "name": "stdout",
     "output_type": "stream",
     "text": [
      "BEST ITERATION:  1499\n",
      "ROC AUC на обучающей выборке: 0.7688711866984699\n",
      "ROC AUC на проверочной выборке: 0.7068816355328585\n",
      "\n",
      "********************** 2 фолд обучен! ******************************\n",
      "\n",
      "\n",
      "==================== Обучение 3 фолда! ====================\n"
     ]
    },
    {
     "name": "stderr",
     "output_type": "stream",
     "text": [
      "3it [00:13,  4.34s/it]\n",
      "[I 2024-07-19 15:34:07,440] Trial 6 finished with value: 0.6969807299650109 and parameters: {'learning_rate': 0.02692646910086179, 'depth': 2, 'subsample': 0.42456737905889963, 'colsample_bylevel': 0.9542441589365409, 'l2_leaf_reg': 0.530953226900921}. Best is trial 0 with value: 0.7355003411155744.\n",
      "<timed exec>:3: FutureWarning: suggest_loguniform has been deprecated in v3.0.0. This feature will be removed in v6.0.0. See https://github.com/optuna/optuna/releases/tag/v3.0.0. Use suggest_float(..., log=True) instead.\n",
      "<timed exec>:11: FutureWarning: suggest_loguniform has been deprecated in v3.0.0. This feature will be removed in v6.0.0. See https://github.com/optuna/optuna/releases/tag/v3.0.0. Use suggest_float(..., log=True) instead.\n",
      "<timed exec>:12: FutureWarning: suggest_loguniform has been deprecated in v3.0.0. This feature will be removed in v6.0.0. See https://github.com/optuna/optuna/releases/tag/v3.0.0. Use suggest_float(..., log=True) instead.\n",
      "<timed exec>:13: FutureWarning: suggest_loguniform has been deprecated in v3.0.0. This feature will be removed in v6.0.0. See https://github.com/optuna/optuna/releases/tag/v3.0.0. Use suggest_float(..., log=True) instead.\n"
     ]
    },
    {
     "name": "stdout",
     "output_type": "stream",
     "text": [
      "BEST ITERATION:  1498\n",
      "ROC AUC на обучающей выборке: 0.7766059669399275\n",
      "ROC AUC на проверочной выборке: 0.7042649119753981\n",
      "\n",
      "********************** 3 фолд обучен! ******************************\n",
      "\n",
      "\n",
      "\n",
      "Среднее значение ROC AUC: 0.6969807299650109\n"
     ]
    },
    {
     "name": "stderr",
     "output_type": "stream",
     "text": [
      "\r",
      "0it [00:00, ?it/s]"
     ]
    },
    {
     "name": "stdout",
     "output_type": "stream",
     "text": [
      "==================== Обучение 1 фолда! ====================\n"
     ]
    },
    {
     "name": "stderr",
     "output_type": "stream",
     "text": [
      "\r",
      "1it [00:01,  1.84s/it]"
     ]
    },
    {
     "name": "stdout",
     "output_type": "stream",
     "text": [
      "BEST ITERATION:  189\n",
      "ROC AUC на обучающей выборке: 0.8057936217493952\n",
      "ROC AUC на проверочной выборке: 0.7054310576535412\n",
      "\n",
      "********************** 1 фолд обучен! ******************************\n",
      "\n",
      "\n",
      "==================== Обучение 2 фолда! ====================\n"
     ]
    },
    {
     "name": "stderr",
     "output_type": "stream",
     "text": [
      "\r",
      "2it [00:04,  2.28s/it]"
     ]
    },
    {
     "name": "stdout",
     "output_type": "stream",
     "text": [
      "BEST ITERATION:  406\n",
      "ROC AUC на обучающей выборке: 0.8420817232528465\n",
      "ROC AUC на проверочной выборке: 0.7342095316489718\n",
      "\n",
      "********************** 2 фолд обучен! ******************************\n",
      "\n",
      "\n",
      "==================== Обучение 3 фолда! ====================\n"
     ]
    },
    {
     "name": "stderr",
     "output_type": "stream",
     "text": [
      "3it [00:07,  2.54s/it]\n",
      "[I 2024-07-19 15:34:15,097] Trial 7 finished with value: 0.7160146017051945 and parameters: {'learning_rate': 0.17123375973163968, 'depth': 3, 'subsample': 0.43744920663366266, 'colsample_bylevel': 0.7487618141055226, 'l2_leaf_reg': 3.320625892007924e-05}. Best is trial 0 with value: 0.7355003411155744.\n",
      "<timed exec>:3: FutureWarning: suggest_loguniform has been deprecated in v3.0.0. This feature will be removed in v6.0.0. See https://github.com/optuna/optuna/releases/tag/v3.0.0. Use suggest_float(..., log=True) instead.\n",
      "<timed exec>:11: FutureWarning: suggest_loguniform has been deprecated in v3.0.0. This feature will be removed in v6.0.0. See https://github.com/optuna/optuna/releases/tag/v3.0.0. Use suggest_float(..., log=True) instead.\n",
      "<timed exec>:12: FutureWarning: suggest_loguniform has been deprecated in v3.0.0. This feature will be removed in v6.0.0. See https://github.com/optuna/optuna/releases/tag/v3.0.0. Use suggest_float(..., log=True) instead.\n",
      "<timed exec>:13: FutureWarning: suggest_loguniform has been deprecated in v3.0.0. This feature will be removed in v6.0.0. See https://github.com/optuna/optuna/releases/tag/v3.0.0. Use suggest_float(..., log=True) instead.\n"
     ]
    },
    {
     "name": "stdout",
     "output_type": "stream",
     "text": [
      "BEST ITERATION:  442\n",
      "ROC AUC на обучающей выборке: 0.8659767252385432\n",
      "ROC AUC на проверочной выборке: 0.7084032158130704\n",
      "\n",
      "********************** 3 фолд обучен! ******************************\n",
      "\n",
      "\n",
      "\n",
      "Среднее значение ROC AUC: 0.7160146017051945\n"
     ]
    },
    {
     "name": "stderr",
     "output_type": "stream",
     "text": [
      "\r",
      "0it [00:00, ?it/s]"
     ]
    },
    {
     "name": "stdout",
     "output_type": "stream",
     "text": [
      "==================== Обучение 1 фолда! ====================\n"
     ]
    },
    {
     "name": "stderr",
     "output_type": "stream",
     "text": [
      "\r",
      "1it [00:03,  3.59s/it]"
     ]
    },
    {
     "name": "stdout",
     "output_type": "stream",
     "text": [
      "BEST ITERATION:  216\n",
      "ROC AUC на обучающей выборке: 0.698577492051661\n",
      "ROC AUC на проверочной выборке: 0.6908223861040184\n",
      "\n",
      "********************** 1 фолд обучен! ******************************\n",
      "\n",
      "\n",
      "==================== Обучение 2 фолда! ====================\n"
     ]
    },
    {
     "name": "stderr",
     "output_type": "stream",
     "text": [
      "\r",
      "2it [00:06,  3.20s/it]"
     ]
    },
    {
     "name": "stdout",
     "output_type": "stream",
     "text": [
      "BEST ITERATION:  177\n",
      "ROC AUC на обучающей выборке: 0.7011697619006603\n",
      "ROC AUC на проверочной выборке: 0.6987144705012767\n",
      "\n",
      "********************** 2 фолд обучен! ******************************\n",
      "\n",
      "\n",
      "==================== Обучение 3 фолда! ====================\n"
     ]
    },
    {
     "name": "stderr",
     "output_type": "stream",
     "text": [
      "3it [00:09,  3.24s/it]\n",
      "[I 2024-07-19 15:34:24,843] Trial 8 finished with value: 0.6901743404485057 and parameters: {'learning_rate': 0.00030771802712506853, 'depth': 5, 'subsample': 0.41280463004086393, 'colsample_bylevel': 0.9202693545129238, 'l2_leaf_reg': 1.1755466083160747e-06}. Best is trial 0 with value: 0.7355003411155744.\n",
      "<timed exec>:3: FutureWarning: suggest_loguniform has been deprecated in v3.0.0. This feature will be removed in v6.0.0. See https://github.com/optuna/optuna/releases/tag/v3.0.0. Use suggest_float(..., log=True) instead.\n",
      "<timed exec>:11: FutureWarning: suggest_loguniform has been deprecated in v3.0.0. This feature will be removed in v6.0.0. See https://github.com/optuna/optuna/releases/tag/v3.0.0. Use suggest_float(..., log=True) instead.\n",
      "<timed exec>:12: FutureWarning: suggest_loguniform has been deprecated in v3.0.0. This feature will be removed in v6.0.0. See https://github.com/optuna/optuna/releases/tag/v3.0.0. Use suggest_float(..., log=True) instead.\n",
      "<timed exec>:13: FutureWarning: suggest_loguniform has been deprecated in v3.0.0. This feature will be removed in v6.0.0. See https://github.com/optuna/optuna/releases/tag/v3.0.0. Use suggest_float(..., log=True) instead.\n"
     ]
    },
    {
     "name": "stdout",
     "output_type": "stream",
     "text": [
      "BEST ITERATION:  225\n",
      "ROC AUC на обучающей выборке: 0.7053073763607042\n",
      "ROC AUC на проверочной выборке: 0.6809861647402222\n",
      "\n",
      "********************** 3 фолд обучен! ******************************\n",
      "\n",
      "\n",
      "\n",
      "Среднее значение ROC AUC: 0.6901743404485057\n"
     ]
    },
    {
     "name": "stderr",
     "output_type": "stream",
     "text": [
      "\r",
      "0it [00:00, ?it/s]"
     ]
    },
    {
     "name": "stdout",
     "output_type": "stream",
     "text": [
      "==================== Обучение 1 фолда! ====================\n"
     ]
    },
    {
     "name": "stderr",
     "output_type": "stream",
     "text": [
      "\r",
      "1it [00:07,  7.36s/it]"
     ]
    },
    {
     "name": "stdout",
     "output_type": "stream",
     "text": [
      "BEST ITERATION:  1499\n",
      "ROC AUC на обучающей выборке: 0.8811467540483274\n",
      "ROC AUC на проверочной выборке: 0.7213349180217712\n",
      "\n",
      "********************** 1 фолд обучен! ******************************\n",
      "\n",
      "\n",
      "==================== Обучение 2 фолда! ====================\n"
     ]
    },
    {
     "name": "stderr",
     "output_type": "stream",
     "text": [
      "\r",
      "2it [00:14,  7.43s/it]"
     ]
    },
    {
     "name": "stdout",
     "output_type": "stream",
     "text": [
      "BEST ITERATION:  1316\n",
      "ROC AUC на обучающей выборке: 0.8551429650634418\n",
      "ROC AUC на проверочной выборке: 0.7353657102539982\n",
      "\n",
      "********************** 2 фолд обучен! ******************************\n",
      "\n",
      "\n",
      "==================== Обучение 3 фолда! ====================\n"
     ]
    },
    {
     "name": "stderr",
     "output_type": "stream",
     "text": [
      "3it [00:24,  8.04s/it]\n",
      "[I 2024-07-19 15:34:48,985] Trial 9 finished with value: 0.725879658161431 and parameters: {'learning_rate': 0.04467752817973906, 'depth': 3, 'subsample': 0.6441927965702634, 'colsample_bylevel': 0.6601123904545768, 'l2_leaf_reg': 3.0118659882617117e-07}. Best is trial 0 with value: 0.7355003411155744.\n",
      "<timed exec>:3: FutureWarning: suggest_loguniform has been deprecated in v3.0.0. This feature will be removed in v6.0.0. See https://github.com/optuna/optuna/releases/tag/v3.0.0. Use suggest_float(..., log=True) instead.\n",
      "<timed exec>:11: FutureWarning: suggest_loguniform has been deprecated in v3.0.0. This feature will be removed in v6.0.0. See https://github.com/optuna/optuna/releases/tag/v3.0.0. Use suggest_float(..., log=True) instead.\n",
      "<timed exec>:12: FutureWarning: suggest_loguniform has been deprecated in v3.0.0. This feature will be removed in v6.0.0. See https://github.com/optuna/optuna/releases/tag/v3.0.0. Use suggest_float(..., log=True) instead.\n",
      "<timed exec>:13: FutureWarning: suggest_loguniform has been deprecated in v3.0.0. This feature will be removed in v6.0.0. See https://github.com/optuna/optuna/releases/tag/v3.0.0. Use suggest_float(..., log=True) instead.\n"
     ]
    },
    {
     "name": "stdout",
     "output_type": "stream",
     "text": [
      "BEST ITERATION:  1499\n",
      "ROC AUC на обучающей выборке: 0.8889085808359091\n",
      "ROC AUC на проверочной выборке: 0.7209383462085235\n",
      "\n",
      "********************** 3 фолд обучен! ******************************\n",
      "\n",
      "\n",
      "\n",
      "Среднее значение ROC AUC: 0.725879658161431\n"
     ]
    },
    {
     "name": "stderr",
     "output_type": "stream",
     "text": [
      "\r",
      "0it [00:00, ?it/s]"
     ]
    },
    {
     "name": "stdout",
     "output_type": "stream",
     "text": [
      "==================== Обучение 1 фолда! ====================\n"
     ]
    },
    {
     "name": "stderr",
     "output_type": "stream",
     "text": [
      "\r",
      "1it [00:19, 19.07s/it]"
     ]
    },
    {
     "name": "stdout",
     "output_type": "stream",
     "text": [
      "BEST ITERATION:  601\n",
      "ROC AUC на обучающей выборке: 0.9127637489354247\n",
      "ROC AUC на проверочной выборке: 0.7270284571966134\n",
      "\n",
      "********************** 1 фолд обучен! ******************************\n",
      "\n",
      "\n",
      "==================== Обучение 2 фолда! ====================\n"
     ]
    },
    {
     "name": "stderr",
     "output_type": "stream",
     "text": [
      "\r",
      "2it [00:51, 26.89s/it]"
     ]
    },
    {
     "name": "stdout",
     "output_type": "stream",
     "text": [
      "BEST ITERATION:  1338\n",
      "ROC AUC на обучающей выборке: 0.9770135757252874\n",
      "ROC AUC на проверочной выборке: 0.749086564305873\n",
      "\n",
      "********************** 2 фолд обучен! ******************************\n",
      "\n",
      "\n",
      "==================== Обучение 3 фолда! ====================\n"
     ]
    },
    {
     "name": "stderr",
     "output_type": "stream",
     "text": [
      "3it [01:09, 23.20s/it]\n",
      "[I 2024-07-19 15:35:58,624] Trial 10 finished with value: 0.7310895248810052 and parameters: {'learning_rate': 0.0031470708498898344, 'depth': 9, 'subsample': 0.7569603230213713, 'colsample_bylevel': 0.406637793627066, 'l2_leaf_reg': 1.3272168863170015e-08}. Best is trial 0 with value: 0.7355003411155744.\n",
      "<timed exec>:3: FutureWarning: suggest_loguniform has been deprecated in v3.0.0. This feature will be removed in v6.0.0. See https://github.com/optuna/optuna/releases/tag/v3.0.0. Use suggest_float(..., log=True) instead.\n",
      "<timed exec>:11: FutureWarning: suggest_loguniform has been deprecated in v3.0.0. This feature will be removed in v6.0.0. See https://github.com/optuna/optuna/releases/tag/v3.0.0. Use suggest_float(..., log=True) instead.\n",
      "<timed exec>:12: FutureWarning: suggest_loguniform has been deprecated in v3.0.0. This feature will be removed in v6.0.0. See https://github.com/optuna/optuna/releases/tag/v3.0.0. Use suggest_float(..., log=True) instead.\n",
      "<timed exec>:13: FutureWarning: suggest_loguniform has been deprecated in v3.0.0. This feature will be removed in v6.0.0. See https://github.com/optuna/optuna/releases/tag/v3.0.0. Use suggest_float(..., log=True) instead.\n"
     ]
    },
    {
     "name": "stdout",
     "output_type": "stream",
     "text": [
      "BEST ITERATION:  662\n",
      "ROC AUC на обучающей выборке: 0.9281476784034404\n",
      "ROC AUC на проверочной выборке: 0.7171535531405291\n",
      "\n",
      "********************** 3 фолд обучен! ******************************\n",
      "\n",
      "\n",
      "\n",
      "Среднее значение ROC AUC: 0.7310895248810052\n"
     ]
    },
    {
     "name": "stderr",
     "output_type": "stream",
     "text": [
      "\r",
      "0it [00:00, ?it/s]"
     ]
    },
    {
     "name": "stdout",
     "output_type": "stream",
     "text": [
      "==================== Обучение 1 фолда! ====================\n"
     ]
    },
    {
     "name": "stderr",
     "output_type": "stream",
     "text": [
      "\r",
      "1it [00:31, 31.01s/it]"
     ]
    },
    {
     "name": "stdout",
     "output_type": "stream",
     "text": [
      "BEST ITERATION:  1148\n",
      "ROC AUC на обучающей выборке: 0.9665156128613727\n",
      "ROC AUC на проверочной выборке: 0.7306872396183308\n",
      "\n",
      "********************** 1 фолд обучен! ******************************\n",
      "\n",
      "\n",
      "==================== Обучение 2 фолда! ====================\n"
     ]
    },
    {
     "name": "stderr",
     "output_type": "stream",
     "text": [
      "\r",
      "2it [01:04, 32.66s/it]"
     ]
    },
    {
     "name": "stdout",
     "output_type": "stream",
     "text": [
      "BEST ITERATION:  1431\n",
      "ROC AUC на обучающей выборке: 0.9783771985292788\n",
      "ROC AUC на проверочной выборке: 0.7438407136137615\n",
      "\n",
      "********************** 2 фолд обучен! ******************************\n",
      "\n",
      "\n",
      "==================== Обучение 3 фолда! ====================\n"
     ]
    },
    {
     "name": "stderr",
     "output_type": "stream",
     "text": [
      "3it [01:38, 32.72s/it]\n",
      "[I 2024-07-19 15:37:36,819] Trial 11 finished with value: 0.7315872666585719 and parameters: {'learning_rate': 0.0031226897004413374, 'depth': 9, 'subsample': 0.7684396395436859, 'colsample_bylevel': 0.43263107847652826, 'l2_leaf_reg': 1.071262302642052e-08}. Best is trial 0 with value: 0.7355003411155744.\n",
      "<timed exec>:3: FutureWarning: suggest_loguniform has been deprecated in v3.0.0. This feature will be removed in v6.0.0. See https://github.com/optuna/optuna/releases/tag/v3.0.0. Use suggest_float(..., log=True) instead.\n",
      "<timed exec>:11: FutureWarning: suggest_loguniform has been deprecated in v3.0.0. This feature will be removed in v6.0.0. See https://github.com/optuna/optuna/releases/tag/v3.0.0. Use suggest_float(..., log=True) instead.\n",
      "<timed exec>:12: FutureWarning: suggest_loguniform has been deprecated in v3.0.0. This feature will be removed in v6.0.0. See https://github.com/optuna/optuna/releases/tag/v3.0.0. Use suggest_float(..., log=True) instead.\n",
      "<timed exec>:13: FutureWarning: suggest_loguniform has been deprecated in v3.0.0. This feature will be removed in v6.0.0. See https://github.com/optuna/optuna/releases/tag/v3.0.0. Use suggest_float(..., log=True) instead.\n"
     ]
    },
    {
     "name": "stdout",
     "output_type": "stream",
     "text": [
      "BEST ITERATION:  1369\n",
      "ROC AUC на обучающей выборке: 0.9763344560542937\n",
      "ROC AUC на проверочной выборке: 0.7202338467436236\n",
      "\n",
      "********************** 3 фолд обучен! ******************************\n",
      "\n",
      "\n",
      "\n",
      "Среднее значение ROC AUC: 0.7315872666585719\n"
     ]
    },
    {
     "name": "stderr",
     "output_type": "stream",
     "text": [
      "\r",
      "0it [00:00, ?it/s]"
     ]
    },
    {
     "name": "stdout",
     "output_type": "stream",
     "text": [
      "==================== Обучение 1 фолда! ====================\n"
     ]
    },
    {
     "name": "stderr",
     "output_type": "stream",
     "text": [
      "\r",
      "1it [00:13, 13.89s/it]"
     ]
    },
    {
     "name": "stdout",
     "output_type": "stream",
     "text": [
      "BEST ITERATION:  1490\n",
      "ROC AUC на обучающей выборке: 0.8825622663658896\n",
      "ROC AUC на проверочной выборке: 0.7279368532455315\n",
      "\n",
      "********************** 1 фолд обучен! ******************************\n",
      "\n",
      "\n",
      "==================== Обучение 2 фолда! ====================\n"
     ]
    },
    {
     "name": "stderr",
     "output_type": "stream",
     "text": [
      "\r",
      "2it [00:27, 13.57s/it]"
     ]
    },
    {
     "name": "stdout",
     "output_type": "stream",
     "text": [
      "BEST ITERATION:  1498\n",
      "ROC AUC на обучающей выборке: 0.8744754852509836\n",
      "ROC AUC на проверочной выборке: 0.7231374311248489\n",
      "\n",
      "********************** 2 фолд обучен! ******************************\n",
      "\n",
      "\n",
      "==================== Обучение 3 фолда! ====================\n"
     ]
    },
    {
     "name": "stderr",
     "output_type": "stream",
     "text": [
      "3it [00:41, 13.72s/it]\n",
      "[I 2024-07-19 15:38:18,021] Trial 12 finished with value: 0.7245140895789605 and parameters: {'learning_rate': 0.0031534899565091386, 'depth': 7, 'subsample': 0.7454459882574158, 'colsample_bylevel': 0.4194682847354705, 'l2_leaf_reg': 1.353591482745086e-08}. Best is trial 0 with value: 0.7355003411155744.\n",
      "<timed exec>:3: FutureWarning: suggest_loguniform has been deprecated in v3.0.0. This feature will be removed in v6.0.0. See https://github.com/optuna/optuna/releases/tag/v3.0.0. Use suggest_float(..., log=True) instead.\n",
      "<timed exec>:11: FutureWarning: suggest_loguniform has been deprecated in v3.0.0. This feature will be removed in v6.0.0. See https://github.com/optuna/optuna/releases/tag/v3.0.0. Use suggest_float(..., log=True) instead.\n",
      "<timed exec>:12: FutureWarning: suggest_loguniform has been deprecated in v3.0.0. This feature will be removed in v6.0.0. See https://github.com/optuna/optuna/releases/tag/v3.0.0. Use suggest_float(..., log=True) instead.\n",
      "<timed exec>:13: FutureWarning: suggest_loguniform has been deprecated in v3.0.0. This feature will be removed in v6.0.0. See https://github.com/optuna/optuna/releases/tag/v3.0.0. Use suggest_float(..., log=True) instead.\n"
     ]
    },
    {
     "name": "stdout",
     "output_type": "stream",
     "text": [
      "BEST ITERATION:  1475\n",
      "ROC AUC на обучающей выборке: 0.8885184283026475\n",
      "ROC AUC на проверочной выборке: 0.7224679843665012\n",
      "\n",
      "********************** 3 фолд обучен! ******************************\n",
      "\n",
      "\n",
      "\n",
      "Среднее значение ROC AUC: 0.7245140895789605\n"
     ]
    },
    {
     "name": "stderr",
     "output_type": "stream",
     "text": [
      "\r",
      "0it [00:00, ?it/s]"
     ]
    },
    {
     "name": "stdout",
     "output_type": "stream",
     "text": [
      "==================== Обучение 1 фолда! ====================\n"
     ]
    },
    {
     "name": "stderr",
     "output_type": "stream",
     "text": [
      "\r",
      "1it [00:16, 16.41s/it]"
     ]
    },
    {
     "name": "stdout",
     "output_type": "stream",
     "text": [
      "BEST ITERATION:  1496\n",
      "ROC AUC на обучающей выборке: 0.9116071589882092\n",
      "ROC AUC на проверочной выборке: 0.727083473323478\n",
      "\n",
      "********************** 1 фолд обучен! ******************************\n",
      "\n",
      "\n",
      "==================== Обучение 2 фолда! ====================\n"
     ]
    },
    {
     "name": "stderr",
     "output_type": "stream",
     "text": [
      "\r",
      "2it [00:32, 16.44s/it]"
     ]
    },
    {
     "name": "stdout",
     "output_type": "stream",
     "text": [
      "BEST ITERATION:  1482\n",
      "ROC AUC на обучающей выборке: 0.9061407983086119\n",
      "ROC AUC на проверочной выборке: 0.7381484343502217\n",
      "\n",
      "********************** 2 фолд обучен! ******************************\n",
      "\n",
      "\n",
      "==================== Обучение 3 фолда! ====================\n"
     ]
    },
    {
     "name": "stderr",
     "output_type": "stream",
     "text": [
      "3it [00:49, 16.34s/it]\n",
      "[I 2024-07-19 15:39:07,075] Trial 13 finished with value: 0.7281514675200645 and parameters: {'learning_rate': 0.004464862079249608, 'depth': 7, 'subsample': 0.9969935915836993, 'colsample_bylevel': 0.8228619836203575, 'l2_leaf_reg': 0.0014684241744814565}. Best is trial 0 with value: 0.7355003411155744.\n",
      "<timed exec>:3: FutureWarning: suggest_loguniform has been deprecated in v3.0.0. This feature will be removed in v6.0.0. See https://github.com/optuna/optuna/releases/tag/v3.0.0. Use suggest_float(..., log=True) instead.\n",
      "<timed exec>:11: FutureWarning: suggest_loguniform has been deprecated in v3.0.0. This feature will be removed in v6.0.0. See https://github.com/optuna/optuna/releases/tag/v3.0.0. Use suggest_float(..., log=True) instead.\n",
      "<timed exec>:12: FutureWarning: suggest_loguniform has been deprecated in v3.0.0. This feature will be removed in v6.0.0. See https://github.com/optuna/optuna/releases/tag/v3.0.0. Use suggest_float(..., log=True) instead.\n",
      "<timed exec>:13: FutureWarning: suggest_loguniform has been deprecated in v3.0.0. This feature will be removed in v6.0.0. See https://github.com/optuna/optuna/releases/tag/v3.0.0. Use suggest_float(..., log=True) instead.\n"
     ]
    },
    {
     "name": "stdout",
     "output_type": "stream",
     "text": [
      "BEST ITERATION:  1496\n",
      "ROC AUC на обучающей выборке: 0.9184333422927025\n",
      "ROC AUC на проверочной выборке: 0.719222494886494\n",
      "\n",
      "********************** 3 фолд обучен! ******************************\n",
      "\n",
      "\n",
      "\n",
      "Среднее значение ROC AUC: 0.7281514675200645\n"
     ]
    },
    {
     "name": "stderr",
     "output_type": "stream",
     "text": [
      "\r",
      "0it [00:00, ?it/s]"
     ]
    },
    {
     "name": "stdout",
     "output_type": "stream",
     "text": [
      "==================== Обучение 1 фолда! ====================\n"
     ]
    },
    {
     "name": "stderr",
     "output_type": "stream",
     "text": [
      "\r",
      "1it [00:14, 14.61s/it]"
     ]
    },
    {
     "name": "stdout",
     "output_type": "stream",
     "text": [
      "BEST ITERATION:  1485\n",
      "ROC AUC на обучающей выборке: 0.7966316563006683\n",
      "ROC AUC на проверочной выборке: 0.716609830667921\n",
      "\n",
      "********************** 1 фолд обучен! ******************************\n",
      "\n",
      "\n",
      "==================== Обучение 2 фолда! ====================\n"
     ]
    },
    {
     "name": "stderr",
     "output_type": "stream",
     "text": [
      "\r",
      "2it [00:28, 14.45s/it]"
     ]
    },
    {
     "name": "stdout",
     "output_type": "stream",
     "text": [
      "BEST ITERATION:  1482\n",
      "ROC AUC на обучающей выборке: 0.7893647084922757\n",
      "ROC AUC на проверочной выборке: 0.7207868566052951\n",
      "\n",
      "********************** 2 фолд обучен! ******************************\n",
      "\n",
      "\n",
      "==================== Обучение 3 фолда! ====================\n"
     ]
    },
    {
     "name": "stderr",
     "output_type": "stream",
     "text": [
      "3it [00:43, 14.47s/it]\n",
      "[I 2024-07-19 15:39:50,539] Trial 14 finished with value: 0.7173134378989406 and parameters: {'learning_rate': 0.0010611604123800997, 'depth': 7, 'subsample': 0.7560149449252105, 'colsample_bylevel': 0.5143852941531146, 'l2_leaf_reg': 6.040424271553341e-06}. Best is trial 0 with value: 0.7355003411155744.\n"
     ]
    },
    {
     "name": "stdout",
     "output_type": "stream",
     "text": [
      "BEST ITERATION:  1485\n",
      "ROC AUC на обучающей выборке: 0.7981800581239081\n",
      "ROC AUC на проверочной выборке: 0.714543626423606\n",
      "\n",
      "********************** 3 фолд обучен! ******************************\n",
      "\n",
      "\n",
      "\n",
      "Среднее значение ROC AUC: 0.7173134378989406\n",
      "CPU times: total: 35min 37s\n",
      "Wall time: 9min 6s\n"
     ]
    }
   ],
   "source": [
    "%%time\n",
    "\n",
    "def create_model(trial):\n",
    "    \n",
    "    param = {'learning_rate':trial.suggest_loguniform('learning_rate', 0.0001, 1.0),\n",
    "             'iterations':1500,\n",
    "             'loss_function':'Logloss',\n",
    "             'thread_count':-1,\n",
    "             'random_state':42,\n",
    "             'eval_metric':'AUC',\n",
    "             'verbose':0,\n",
    "             'depth': trial.suggest_int('depth', 1, 9),\n",
    "             'subsample':trial.suggest_loguniform('subsample', 0.4, 1.0),\n",
    "             'colsample_bylevel':trial.suggest_loguniform('colsample_bylevel', 0.4, 1.0),\n",
    "             'l2_leaf_reg': trial.suggest_loguniform('l2_leaf_reg', 1e-8, 1.0)\n",
    "            }\n",
    "        \n",
    "    fit_params = {'early_stopping_rounds':150, \n",
    "                  'verbose':0}\n",
    "\n",
    "    # создаем экземпляр класса XGBClassifier\n",
    "    catb_model = CatBoostClassifier(**param)\n",
    "    \n",
    "    model = CustomCatboostCV(\n",
    "        main_estimator=catb_model, \n",
    "        main_fit_params=fit_params,\n",
    "        main_prep_pipe=prep_pipe,\n",
    "        main_features=num_cols+cat_cols,\n",
    "\n",
    "        train=train,\n",
    "        target=target_col)\n",
    "    \n",
    "    return model\n",
    "    \n",
    "def objective(trial):\n",
    "    my_model = create_model(trial)\n",
    "    my_model.model_fit_cv(strat=strat)\n",
    "    return my_model.mean_cv_scores\n",
    "\n",
    "sampler = TPESampler(seed=42)\n",
    "\n",
    "study = optuna.create_study(direction='maximize', sampler=sampler)\n",
    "study.optimize(objective, n_trials=15)"
   ]
  },
  {
   "cell_type": "code",
   "execution_count": 24,
   "id": "a0ece270",
   "metadata": {},
   "outputs": [
    {
     "data": {
      "text/plain": [
       "{'iterations': 545,\n",
       " 'loss_function': 'Logloss',\n",
       " 'thread_count': -1,\n",
       " 'random_state': 42,\n",
       " 'eval_metric': 'AUC',\n",
       " 'verbose': 0,\n",
       " 'learning_rate': 0.003148911647956862,\n",
       " 'depth': 9,\n",
       " 'subsample': 0.7822573760490122,\n",
       " 'colsample_bylevel': 0.6922933401417407,\n",
       " 'l2_leaf_reg': 1.77071686435378e-07}"
      ]
     },
     "execution_count": 24,
     "metadata": {},
     "output_type": "execute_result"
    }
   ],
   "source": [
    "params.update(study.best_params)\n",
    "params['iterations'] = int(np.mean([467,533,390])/0.85)\n",
    "model = CatBoostClassifier(**params)\n",
    "\n",
    "params"
   ]
  },
  {
   "cell_type": "code",
   "execution_count": 25,
   "id": "01d409dc",
   "metadata": {},
   "outputs": [],
   "source": [
    "class FinalModel():\n",
    "\n",
    "    def __init__(self,\n",
    "                 base_pipe: object=None,\n",
    "                 num_columns: list=None,\n",
    "                 cat_columns: list=None,\n",
    "                 estimator:object=None):\n",
    "\n",
    "\n",
    "        self.num_columns = num_columns\n",
    "        self.cat_columns = cat_columns\n",
    "        self.features = self.num_columns+self.cat_columns\n",
    "        self.base_pipe = base_pipe\n",
    "        self.estimator = estimator\n",
    "\n",
    "    def fit(self, train: pd.DataFrame, target:str):\n",
    "        \n",
    "        X_train = train.reset_index(drop=True)\n",
    "        y_train = train[target_col].reset_index(drop=True)\n",
    "\n",
    "\n",
    "        prep_pipe = self.base_pipe(\n",
    "            num_columns=self.num_columns,\n",
    "            cat_columns=self.cat_columns)\n",
    "\n",
    "        self.prep_pipe = prep_pipe.fit(X_train[self.features],y_train)\n",
    "\n",
    "        self.estimator.fit(self.prep_pipe.transform(X_train[self.features]),y_train)\n",
    "\n",
    "        return 'Пайплайн и модель обучены!'\n",
    "\n",
    "    def predict(self, X: pd.DataFrame):\n",
    "\n",
    "        predict = self.estimator.predict_proba(self.prep_pipe.transform(X[self.features]))[:, 1]\n",
    "\n",
    "        return predict"
   ]
  },
  {
   "cell_type": "code",
   "execution_count": 26,
   "id": "1a20cae1",
   "metadata": {},
   "outputs": [],
   "source": [
    "final_model = FinalModel(base_pipe=base_pipe,\n",
    "                         num_columns=num_cols,\n",
    "                         cat_columns=cat_cols,\n",
    "                         estimator=model\n",
    "                        )"
   ]
  },
  {
   "cell_type": "code",
   "execution_count": 27,
   "id": "15cb179a",
   "metadata": {},
   "outputs": [
    {
     "data": {
      "text/plain": [
       "'Пайплайн и модель обучены!'"
      ]
     },
     "execution_count": 27,
     "metadata": {},
     "output_type": "execute_result"
    }
   ],
   "source": [
    "final_model.fit(train=train,target=target_col)"
   ]
  },
  {
   "cell_type": "code",
   "execution_count": 28,
   "id": "101a9405",
   "metadata": {},
   "outputs": [
    {
     "data": {
      "image/png": "[encoded data removed]",
      "text/plain": [
       "<Figure size 2000x1000 with 1 Axes>"
      ]
     },
     "metadata": {},
     "output_type": "display_data"
    }
   ],
   "source": [
    "# Рассчитаем ROC-AUC и отрисуем ROC curve обученной модели\n",
    "\n",
    "from sklearn.metrics import roc_curve\n",
    "\n",
    "y_train_predicted = final_model.predict(train)\n",
    "y_valid_predicted = final_model.predict(valid)\n",
    "\n",
    "train_auc = roc_auc_score(train[target_col], y_train_predicted)\n",
    "test_auc = roc_auc_score(valid[target_col], y_valid_predicted)\n",
    "\n",
    "plt.figure(figsize=(20,10))\n",
    "plt.plot(*roc_curve(train[target_col], y_train_predicted)[:2], label='train AUC={:.4f}'.format(train_auc))\n",
    "plt.plot(*roc_curve(valid[target_col], y_valid_predicted)[:2], label='test AUC={:.4f}'.format(test_auc))\n",
    "legend_box = plt.legend(fontsize='large', framealpha=1).get_frame()\n",
    "legend_box.set_facecolor(\"white\")\n",
    "legend_box.set_edgecolor(\"black\")\n",
    "plt.plot(np.linspace(0,1,100), np.linspace(0,1,100))\n",
    "plt.show()"
   ]
  },
  {
   "cell_type": "code",
   "execution_count": 29,
   "id": "35f1fb53",
   "metadata": {},
   "outputs": [
    {
     "data": {
      "text/plain": [
       "'Пайплайн и модель обучены!'"
      ]
     },
     "execution_count": 29,
     "metadata": {},
     "output_type": "execute_result"
    }
   ],
   "source": [
    "final_model.fit(train=data,target=target_col)"
   ]
  },
  {
   "cell_type": "code",
   "execution_count": 30,
   "id": "5133ed72",
   "metadata": {},
   "outputs": [
    {
     "data": {
      "image/png": "[encoded data removed]",
      "text/plain": [
       "<Figure size 2000x1000 with 1 Axes>"
      ]
     },
     "metadata": {},
     "output_type": "display_data"
    }
   ],
   "source": [
    "y_predicted = final_model.predict(data)\n",
    "train_auc = roc_auc_score(data[target_col], y_predicted)\n",
    "\n",
    "plt.figure(figsize=(20,10))\n",
    "plt.plot(*roc_curve(data[target_col], y_predicted)[:2], label='train AUC={:.4f}'.format(train_auc))\n",
    "legend_box = plt.legend(fontsize='large', framealpha=1).get_frame()\n",
    "legend_box.set_facecolor(\"white\")\n",
    "legend_box.set_edgecolor(\"black\")\n",
    "plt.plot(np.linspace(0,1,100), np.linspace(0,1,100))\n",
    "plt.show()"
   ]
  },
  {
   "cell_type": "code",
   "execution_count": 32,
   "id": "80be568e",
   "metadata": {},
   "outputs": [
    {
     "data": {
      "text/plain": [
       "array([0.11969335, 0.1718635 , 0.06889844, ..., 0.57359049, 0.53110211,\n",
       "       0.61075415])"
      ]
     },
     "execution_count": 32,
     "metadata": {},
     "output_type": "execute_result"
    }
   ],
   "source": [
    "y_predicted"
   ]
  },
  {
   "cell_type": "code",
   "execution_count": 31,
   "id": "d933a819",
   "metadata": {},
   "outputs": [
    {
     "ename": "NameError",
     "evalue": "name 'stacking_model' is not defined",
     "output_type": "error",
     "traceback": [
      "\u001b[1;31m---------------------------------------------------------------------------\u001b[0m",
      "\u001b[1;31mNameError\u001b[0m                                 Traceback (most recent call last)",
      "Cell \u001b[1;32mIn[31], line 1\u001b[0m\n\u001b[1;32m----> 1\u001b[0m y_train_predicted \u001b[38;5;241m=\u001b[39m stacking_model\u001b[38;5;241m.\u001b[39mpredict(meta_features_train)\n\u001b[0;32m      2\u001b[0m y_predicted \u001b[38;5;241m=\u001b[39m stacking_model\u001b[38;5;241m.\u001b[39mpredict(meta_features_valid)\n",
      "\u001b[1;31mNameError\u001b[0m: name 'stacking_model' is not defined"
     ]
    }
   ],
   "source": [
    "y_train_predicted = stacking_model.predict(meta_features_train)\n",
    "y_predicted = stacking_model.predict(meta_features_valid)"
   ]
  },
  {
   "cell_type": "code",
   "execution_count": null,
   "id": "525ccfc9",
   "metadata": {},
   "outputs": [],
   "source": [
    "# Вычисление метрик для тренировочного набора\n",
    "train_accuracy = accuracy_score(train[target_col], y_train_predicted)\n",
    "train_recall = recall_score(train[target_col], y_train_predicted)\n",
    "train_precision = precision_score(train[target_col], y_train_predicted)\n",
    "train_f1 = f1_score(train[target_col], y_train_predicted)\n",
    "train_auc_roc = roc_auc_score(train[target_col], y_train_predicted)\n",
    "\n",
    "# Вычисление метрик для тестового набора\n",
    "test_accuracy = accuracy_score(valid[target_col], y_valid_predicted)\n",
    "test_recall = recall_score(valid[target_col], y_valid_predicted)\n",
    "test_precision = precision_score(valid[target_col], y_valid_predicted)\n",
    "test_f1 = f1_score(valid[target_col], y_valid_predicted)\n",
    "test_auc_roc = roc_auc_score(valid[target_col], y_valid_predicted)"
   ]
  },
  {
   "cell_type": "code",
   "execution_count": null,
   "id": "6791b6ae",
   "metadata": {},
   "outputs": [],
   "source": [
    "# Вывод результатов\n",
    "print(\"Тренировочный набор:\")\n",
    "print(f\"Accuracy: {train_accuracy:.2f}\")\n",
    "print(f\"Recall: {train_recall:.2f}\")\n",
    "print(f\"Precision: {train_precision:.2f}\")\n",
    "print(f\"F1-score: {train_f1:.2f}\")\n",
    "print(f\"AUC-ROC: {train_auc_roc:.2f}\")\n",
    "\n",
    "print(\"\\nТестовый набор:\")\n",
    "print(f\"Accuracy: {test_accuracy:.2f}\")\n",
    "print(f\"Recall: {test_recall:.2f}\")\n",
    "print(f\"Precision: {test_precision:.2f}\")\n",
    "print(f\"F1-score: {test_f1:.2f}\")\n",
    "print(f\"AUC-ROC: {test_auc_roc:.2f}\")"
   ]
  },
  {
   "cell_type": "code",
   "execution_count": null,
   "id": "04aeb29f",
   "metadata": {},
   "outputs": [],
   "source": []
  }
 ],
 "metadata": {
  "kernelspec": {
   "display_name": "Python 3 (ipykernel)",
   "language": "python",
   "name": "python3"
  },
  "language_info": {
   "codemirror_mode": {
    "name": "ipython",
    "version": 3
   },
   "file_extension": ".py",
   "mimetype": "text/x-python",
   "name": "python",
   "nbconvert_exporter": "python",
   "pygments_lexer": "ipython3",
   "version": "3.11.4"
  }
 },
 "nbformat": 4,
 "nbformat_minor": 5
}
